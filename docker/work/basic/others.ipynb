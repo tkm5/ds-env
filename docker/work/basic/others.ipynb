{
 "cells": [
  {
   "cell_type": "code",
   "execution_count": 1,
   "id": "455e8b3e-5174-434c-8a16-ec87657e211b",
   "metadata": {},
   "outputs": [],
   "source": [
    "from tqdm import tqdm\n",
    "import time"
   ]
  },
  {
   "cell_type": "code",
   "execution_count": 2,
   "id": "bcd7a041-40fe-49d4-b654-962a79e1960a",
   "metadata": {},
   "outputs": [
    {
     "name": "stderr",
     "output_type": "stream",
     "text": [
      "100%|██████████| 10000000/10000000 [00:07<00:00, 1275192.69it/s]"
     ]
    },
    {
     "name": "stdout",
     "output_type": "stream",
     "text": [
      "7.850505113601685\n"
     ]
    },
    {
     "name": "stderr",
     "output_type": "stream",
     "text": [
      "\n"
     ]
    }
   ],
   "source": [
    "sum_ = 0\n",
    "\n",
    "before = time.time()\n",
    "for i in tqdm(range(int(1e7)), position=0):\n",
    "    sum_ += 1\n",
    "after = time.time()\n",
    "\n",
    "p_time = after - before\n",
    "print(p_time)"
   ]
  },
  {
   "cell_type": "code",
   "execution_count": null,
   "id": "a8d5bc38-cf74-4f8d-830d-ed5b33caecba",
   "metadata": {},
   "outputs": [],
   "source": []
  }
 ],
 "metadata": {
  "kernelspec": {
   "display_name": "Python 3",
   "language": "python",
   "name": "python3"
  },
  "language_info": {
   "codemirror_mode": {
    "name": "ipython",
    "version": 3
   },
   "file_extension": ".py",
   "mimetype": "text/x-python",
   "name": "python",
   "nbconvert_exporter": "python",
   "pygments_lexer": "ipython3",
   "version": "3.8.8"
  }
 },
 "nbformat": 4,
 "nbformat_minor": 5
}

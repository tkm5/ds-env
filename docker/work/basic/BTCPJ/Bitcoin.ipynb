{
 "cells": [
  {
   "cell_type": "code",
   "execution_count": 1,
   "id": "fa3d1008-c15d-450b-bb1a-d6e3ecdc0eb5",
   "metadata": {},
   "outputs": [],
   "source": [
    "import numpy as np\n",
    "import pandas as pd\n",
    "import matplotlib.pyplot as plt\n",
    "import seaborn as sns\n",
    "%matplotlib inline\n",
    "\n",
    "import time\n",
    "import requests\n",
    "import json\n",
    "from datetime import datetime"
   ]
  },
  {
   "cell_type": "code",
   "execution_count": 2,
   "id": "90a7ec1e-d11e-4236-9c75-7ffd5f49bff8",
   "metadata": {},
   "outputs": [],
   "source": [
    "def get_btcprice(ticker,max):\n",
    "    url = ('https://api.coingecko.com/api/v3/coins/')+ticker+('/market_chart?vs_currency=jpy&days=')+max\n",
    "    r = requests.get(url)\n",
    "    r2 = json.loads(r.text)\n",
    "    return r2"
   ]
  },
  {
   "cell_type": "code",
   "execution_count": 3,
   "id": "03ac80cb-596b-40d5-9761-3626b912e1a3",
   "metadata": {},
   "outputs": [],
   "source": [
    "# jsonから価格データだけをPandasに変換して抽出する\n",
    "def get_price(r2):\n",
    "    s = pd.DataFrame(r2['prices'])\n",
    "    s.columns = ['date', 'price']\n",
    "    date = []\n",
    "    for i in s['date']:\n",
    "        tsdate = int(i / 1000)\n",
    "        loc = datetime.utcfromtimestamp(tsdate)\n",
    "        date.append(loc)\n",
    "    s.index = date\n",
    "    del s['date']\n",
    "    return s"
   ]
  },
  {
   "cell_type": "code",
   "execution_count": 8,
   "id": "8ebec492-fd34-4ed7-8bbe-cdb077202739",
   "metadata": {},
   "outputs": [],
   "source": [
    "# ビットコインの全期間の価格データを取得する\n",
    "r2 = get_btcprice('bitcoin', 'max')\n",
    "btc = get_price(r2)\n",
    "btc['price'] = btc['price'].astype(int)"
   ]
  },
  {
   "cell_type": "code",
   "execution_count": 19,
   "id": "82c66cbb-992e-4325-b69c-11dd3c867ac7",
   "metadata": {},
   "outputs": [
    {
     "data": {
      "text/html": [
       "<div>\n",
       "<style scoped>\n",
       "    .dataframe tbody tr th:only-of-type {\n",
       "        vertical-align: middle;\n",
       "    }\n",
       "\n",
       "    .dataframe tbody tr th {\n",
       "        vertical-align: top;\n",
       "    }\n",
       "\n",
       "    .dataframe thead th {\n",
       "        text-align: right;\n",
       "    }\n",
       "</style>\n",
       "<table border=\"1\" class=\"dataframe\">\n",
       "  <thead>\n",
       "    <tr style=\"text-align: right;\">\n",
       "      <th></th>\n",
       "      <th>ds</th>\n",
       "      <th>y</th>\n",
       "    </tr>\n",
       "  </thead>\n",
       "  <tbody>\n",
       "    <tr>\n",
       "      <th>0</th>\n",
       "      <td>2013-04-28 00:00:00</td>\n",
       "      <td>13203</td>\n",
       "    </tr>\n",
       "    <tr>\n",
       "      <th>1</th>\n",
       "      <td>2013-04-29 00:00:00</td>\n",
       "      <td>14108</td>\n",
       "    </tr>\n",
       "    <tr>\n",
       "      <th>2</th>\n",
       "      <td>2013-04-30 00:00:00</td>\n",
       "      <td>13629</td>\n",
       "    </tr>\n",
       "    <tr>\n",
       "      <th>3</th>\n",
       "      <td>2013-05-01 00:00:00</td>\n",
       "      <td>11364</td>\n",
       "    </tr>\n",
       "    <tr>\n",
       "      <th>4</th>\n",
       "      <td>2013-05-02 00:00:00</td>\n",
       "      <td>10350</td>\n",
       "    </tr>\n",
       "    <tr>\n",
       "      <th>...</th>\n",
       "      <td>...</td>\n",
       "      <td>...</td>\n",
       "    </tr>\n",
       "    <tr>\n",
       "      <th>3086</th>\n",
       "      <td>2021-10-11 00:00:00</td>\n",
       "      <td>6141845</td>\n",
       "    </tr>\n",
       "    <tr>\n",
       "      <th>3087</th>\n",
       "      <td>2021-10-12 00:00:00</td>\n",
       "      <td>6526995</td>\n",
       "    </tr>\n",
       "    <tr>\n",
       "      <th>3088</th>\n",
       "      <td>2021-10-13 00:00:00</td>\n",
       "      <td>6396646</td>\n",
       "    </tr>\n",
       "    <tr>\n",
       "      <th>3089</th>\n",
       "      <td>2021-10-14 00:00:00</td>\n",
       "      <td>6513561</td>\n",
       "    </tr>\n",
       "    <tr>\n",
       "      <th>3090</th>\n",
       "      <td>2021-10-15 21:42:37</td>\n",
       "      <td>7087541</td>\n",
       "    </tr>\n",
       "  </tbody>\n",
       "</table>\n",
       "<p>3091 rows × 2 columns</p>\n",
       "</div>"
      ],
      "text/plain": [
       "                      ds        y\n",
       "0    2013-04-28 00:00:00    13203\n",
       "1    2013-04-29 00:00:00    14108\n",
       "2    2013-04-30 00:00:00    13629\n",
       "3    2013-05-01 00:00:00    11364\n",
       "4    2013-05-02 00:00:00    10350\n",
       "...                  ...      ...\n",
       "3086 2021-10-11 00:00:00  6141845\n",
       "3087 2021-10-12 00:00:00  6526995\n",
       "3088 2021-10-13 00:00:00  6396646\n",
       "3089 2021-10-14 00:00:00  6513561\n",
       "3090 2021-10-15 21:42:37  7087541\n",
       "\n",
       "[3091 rows x 2 columns]"
      ]
     },
     "execution_count": 19,
     "metadata": {},
     "output_type": "execute_result"
    }
   ],
   "source": [
    "btc.index.name = 'ds'\n",
    "df = btc\n",
    "df = df.rename(columns={'price':'y'})\n",
    "df = df.reset_index()\n",
    "df"
   ]
  },
  {
   "cell_type": "code",
   "execution_count": 20,
   "id": "16be6921-b95a-4f5c-be0d-816b2ac2c353",
   "metadata": {},
   "outputs": [],
   "source": [
    "from prophet import Prophet"
   ]
  },
  {
   "cell_type": "code",
   "execution_count": 21,
   "id": "f8a39396-5cb6-421b-8ab6-45f60422a188",
   "metadata": {},
   "outputs": [
    {
     "name": "stderr",
     "output_type": "stream",
     "text": [
      "INFO:numexpr.utils:NumExpr defaulting to 4 threads.\n"
     ]
    },
    {
     "data": {
      "text/plain": [
       "<prophet.forecaster.Prophet at 0x7fdba6ee78e0>"
      ]
     },
     "execution_count": 21,
     "metadata": {},
     "output_type": "execute_result"
    }
   ],
   "source": [
    "m = Prophet()\n",
    "m.fit(df)"
   ]
  },
  {
   "cell_type": "code",
   "execution_count": null,
   "id": "2aa94402-80d1-42ba-b190-71e6885286a9",
   "metadata": {},
   "outputs": [],
   "source": []
  }
 ],
 "metadata": {
  "kernelspec": {
   "display_name": "Python 3",
   "language": "python",
   "name": "python3"
  },
  "language_info": {
   "codemirror_mode": {
    "name": "ipython",
    "version": 3
   },
   "file_extension": ".py",
   "mimetype": "text/x-python",
   "name": "python",
   "nbconvert_exporter": "python",
   "pygments_lexer": "ipython3",
   "version": "3.8.8"
  }
 },
 "nbformat": 4,
 "nbformat_minor": 5
}

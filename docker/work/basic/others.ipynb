{
 "cells": [
  {
   "cell_type": "code",
   "execution_count": 6,
   "id": "455e8b3e-5174-434c-8a16-ec87657e211b",
   "metadata": {},
   "outputs": [],
   "source": [
    "from glob import glob\n",
    "import numpy as np\n",
    "import pandas as pd\n",
    "import matplotlib.pyplot as plt\n",
    "import seaborn as sns\n",
    "%matplotlib inline\n",
    "\n",
    "\n",
    "from tqdm import tqdm\n",
    "from time import time"
   ]
  },
  {
   "cell_type": "code",
   "execution_count": 8,
   "id": "bcd7a041-40fe-49d4-b654-962a79e1960a",
   "metadata": {},
   "outputs": [
    {
     "name": "stderr",
     "output_type": "stream",
     "text": [
      "100%|██████████| 100000/100000 [00:00<00:00, 247658.31it/s]"
     ]
    },
    {
     "name": "stdout",
     "output_type": "stream",
     "text": [
      "0.406965970993042\n"
     ]
    },
    {
     "name": "stderr",
     "output_type": "stream",
     "text": [
      "\n"
     ]
    }
   ],
   "source": [
    "sum_ = 0\n",
    "\n",
    "before = time()\n",
    "for i in tqdm(range(int(1e5)), position=0):\n",
    "    sum_ += 1\n",
    "after = time()\n",
    "\n",
    "p_time = after - before\n",
    "print(p_time)"
   ]
  },
  {
   "cell_type": "code",
   "execution_count": 4,
   "id": "a8d5bc38-cf74-4f8d-830d-ed5b33caecba",
   "metadata": {},
   "outputs": [
    {
     "data": {
      "text/plain": [
       "['BasicGrammar.ipynb',\n",
       " 'ExploratoryDataAnalysis.ipynb',\n",
       " 'HowToUse_axis.ipynb',\n",
       " 'Machine_Learning_AI.txt',\n",
       " 'Matplotlib.ipynb',\n",
       " 'NumPy.ipynb',\n",
       " 'Pandas.ipynb',\n",
       " 'Seaborn.ipynb',\n",
       " 'SpeedUp.ipynb',\n",
       " 'covid-data',\n",
       " 'dataset',\n",
       " 'descriptive statistics.ipynb',\n",
       " 'mymodule.py',\n",
       " 'others.ipynb']"
      ]
     },
     "execution_count": 4,
     "metadata": {},
     "output_type": "execute_result"
    }
   ],
   "source": [
    "glob.glob('*')"
   ]
  },
  {
   "cell_type": "code",
   "execution_count": 9,
   "id": "e9c26aff-ee11-4304-a437-8eb5ffae4c6b",
   "metadata": {},
   "outputs": [
    {
     "data": {
      "text/plain": [
       "['BasicGrammar.ipynb',\n",
       " 'ExploratoryDataAnalysis.ipynb',\n",
       " 'HowToUse_axis.ipynb',\n",
       " 'Matplotlib.ipynb',\n",
       " 'NumPy.ipynb',\n",
       " 'Pandas.ipynb',\n",
       " 'Seaborn.ipynb',\n",
       " 'SpeedUp.ipynb',\n",
       " 'descriptive statistics.ipynb',\n",
       " 'others.ipynb']"
      ]
     },
     "execution_count": 9,
     "metadata": {},
     "output_type": "execute_result"
    }
   ],
   "source": [
    "glob('*.ipynb')"
   ]
  },
  {
   "cell_type": "code",
   "execution_count": 11,
   "id": "cce5ef68-e505-44f1-bfc6-5147bca6b746",
   "metadata": {},
   "outputs": [
    {
     "data": {
      "text/plain": [
       "['covid-data/rp_im/1.nii.gz',\n",
       " 'covid-data/rp_im/2.nii.gz',\n",
       " 'covid-data/rp_im/3.nii.gz',\n",
       " 'covid-data/rp_im/4.nii.gz',\n",
       " 'covid-data/rp_im/5.nii.gz',\n",
       " 'covid-data/rp_im/6.nii.gz',\n",
       " 'covid-data/rp_im/7.nii.gz',\n",
       " 'covid-data/rp_im/8.nii.gz',\n",
       " 'covid-data/rp_im/9.nii.gz',\n",
       " 'covid-data/rp_msk/1.nii.gz',\n",
       " 'covid-data/rp_msk/2.nii.gz',\n",
       " 'covid-data/rp_msk/3.nii.gz',\n",
       " 'covid-data/rp_msk/4.nii.gz',\n",
       " 'covid-data/rp_msk/5.nii.gz',\n",
       " 'covid-data/rp_msk/6.nii.gz',\n",
       " 'covid-data/rp_msk/7.nii.gz',\n",
       " 'covid-data/rp_msk/8.nii.gz',\n",
       " 'covid-data/rp_msk/9.nii.gz']"
      ]
     },
     "execution_count": 11,
     "metadata": {},
     "output_type": "execute_result"
    }
   ],
   "source": [
    "glob('covid-data/*/*')"
   ]
  },
  {
   "cell_type": "code",
   "execution_count": null,
   "id": "12705aac-a08e-4ea8-a708-8ae35bf19d3f",
   "metadata": {},
   "outputs": [],
   "source": []
  }
 ],
 "metadata": {
  "kernelspec": {
   "display_name": "Python 3",
   "language": "python",
   "name": "python3"
  },
  "language_info": {
   "codemirror_mode": {
    "name": "ipython",
    "version": 3
   },
   "file_extension": ".py",
   "mimetype": "text/x-python",
   "name": "python",
   "nbconvert_exporter": "python",
   "pygments_lexer": "ipython3",
   "version": "3.8.8"
  }
 },
 "nbformat": 4,
 "nbformat_minor": 5
}

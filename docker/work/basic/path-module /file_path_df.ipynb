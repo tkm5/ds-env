{
 "cells": [
  {
   "cell_type": "code",
   "execution_count": 2,
   "id": "2079fde7-e9de-493e-9b39-05758f18917c",
   "metadata": {},
   "outputs": [],
   "source": [
    "import os\n",
    "import numpy as np\n",
    "import pandas as pd\n",
    "import matplotlib.pyplot as plt\n",
    "import seaborn as sns\n",
    "from pathlib import Path\n",
    "from glob import glob\n",
    "%matplotlib inline"
   ]
  },
  {
   "cell_type": "markdown",
   "id": "1584b291-2f21-43cb-834f-4e12a23f131c",
   "metadata": {},
   "source": [
    "# データのpathをDataFrameにする"
   ]
  },
  {
   "cell_type": "code",
   "execution_count": 3,
   "id": "e590e3d8-fa26-429b-aab1-eb75da3762a8",
   "metadata": {},
   "outputs": [
    {
     "data": {
      "text/plain": [
       "'public-covid-data/new_folder'"
      ]
     },
     "execution_count": 3,
     "metadata": {},
     "output_type": "execute_result"
    }
   ],
   "source": [
    "# public-covid-data/new-folder\n",
    "\n",
    "p = Path('public-covid-data/')\n",
    "new_folder_name = 'new_folder'\n",
    "new_folder_path = os.path.join(p, new_folder_name)\n",
    "new_folder_path"
   ]
  },
  {
   "cell_type": "code",
   "execution_count": 4,
   "id": "519e0f0a-c4be-49f5-91e5-f53a0289c75e",
   "metadata": {},
   "outputs": [
    {
     "data": {
      "text/plain": [
       "False"
      ]
     },
     "execution_count": 4,
     "metadata": {},
     "output_type": "execute_result"
    }
   ],
   "source": [
    "# os.path.exists()\n",
    "os.path.exists(new_folder_path)"
   ]
  },
  {
   "cell_type": "code",
   "execution_count": 5,
   "id": "9657faee-af50-49b4-a85f-9160e25638a2",
   "metadata": {},
   "outputs": [],
   "source": [
    "# os.makedirs()\n",
    "if not os.path.exists(new_folder_path):\n",
    "    os.makedirs(new_folder_path)"
   ]
  },
  {
   "cell_type": "code",
   "execution_count": 6,
   "id": "a27c6b53-9b45-4ca6-81d5-0b7c78de54a2",
   "metadata": {},
   "outputs": [],
   "source": [
    "from tqdm.notebook import tqdm"
   ]
  },
  {
   "cell_type": "code",
   "execution_count": 7,
   "id": "1cbdb494-b400-4087-b7d0-d4f05a111950",
   "metadata": {},
   "outputs": [
    {
     "data": {
      "application/vnd.jupyter.widget-view+json": {
       "model_id": "2e6d680cd4ea4c1db0d5354d604a1aa8",
       "version_major": 2,
       "version_minor": 0
      },
      "text/plain": [
       "0it [00:00, ?it/s]"
      ]
     },
     "metadata": {},
     "output_type": "display_data"
    },
    {
     "data": {
      "text/plain": [
       "<tqdm.notebook.tqdm_notebook at 0x7febcdb51f70>"
      ]
     },
     "execution_count": 7,
     "metadata": {},
     "output_type": "execute_result"
    }
   ],
   "source": [
    "tqdm()"
   ]
  },
  {
   "cell_type": "code",
   "execution_count": 8,
   "id": "a01b4305-d520-4347-8f6a-a8d738830c35",
   "metadata": {},
   "outputs": [
    {
     "data": {
      "application/vnd.jupyter.widget-view+json": {
       "model_id": "7b9024e2746343b0805715b9e834883d",
       "version_major": 2,
       "version_minor": 0
      },
      "text/plain": [
       "  0%|          | 0/10000000 [00:00<?, ?it/s]"
      ]
     },
     "metadata": {},
     "output_type": "display_data"
    },
    {
     "name": "stdout",
     "output_type": "stream",
     "text": [
      "10000000\n",
      "it took 3.769963264465332\n"
     ]
    }
   ],
   "source": [
    "import time\n",
    "\n",
    "sum_ = 0\n",
    "before = time.time()\n",
    "for i in tqdm(range(int(1e7))):\n",
    "    sum_ += 1\n",
    "    \n",
    "print(sum_)\n",
    "after = time.time()\n",
    "\n",
    "print(f'it took {after - before}')"
   ]
  },
  {
   "cell_type": "code",
   "execution_count": 9,
   "id": "f772c709-47e5-4842-a923-d94c6376a972",
   "metadata": {},
   "outputs": [
    {
     "data": {
      "text/plain": [
       "10000000.0"
      ]
     },
     "execution_count": 9,
     "metadata": {},
     "output_type": "execute_result"
    }
   ],
   "source": [
    "1e7"
   ]
  },
  {
   "cell_type": "code",
   "execution_count": 10,
   "id": "522d4b37-b38c-4e7a-be28-e74eadceed27",
   "metadata": {},
   "outputs": [],
   "source": [
    "# cols : path_im, filename, path_msk\n",
    "# path_im -> 'public-covid-data/rp_im/5.nii.gz'\n",
    "# filename -> '5.nii.gz'\n",
    "# path_msk -> 'public-covid-data/rp_msk/5.nii.gz'"
   ]
  },
  {
   "cell_type": "code",
   "execution_count": null,
   "id": "eb89fc5a-dff1-45ae-a6f6-f701d302f0ec",
   "metadata": {},
   "outputs": [
    {
     "ename": "NameError",
     "evalue": "name 'Path' is not defined",
     "output_type": "error",
     "traceback": [
      "\u001b[0;31m---------------------------------------------------------------------------\u001b[0m",
      "\u001b[0;31mNameError\u001b[0m                                 Traceback (most recent call last)",
      "\u001b[0;32m/tmp/ipykernel_323/2700423210.py\u001b[0m in \u001b[0;36m<module>\u001b[0;34m\u001b[0m\n\u001b[0;32m----> 1\u001b[0;31m \u001b[0mp\u001b[0m \u001b[0;34m=\u001b[0m \u001b[0mPath\u001b[0m\u001b[0;34m(\u001b[0m\u001b[0;34m'public-covid-data/'\u001b[0m\u001b[0;34m)\u001b[0m\u001b[0;34m\u001b[0m\u001b[0;34m\u001b[0m\u001b[0m\n\u001b[0m\u001b[1;32m      2\u001b[0m \u001b[0mdf_list\u001b[0m \u001b[0;34m=\u001b[0m \u001b[0;34m[\u001b[0m\u001b[0;34m]\u001b[0m\u001b[0;34m\u001b[0m\u001b[0;34m\u001b[0m\u001b[0m\n\u001b[1;32m      3\u001b[0m \u001b[0;32mfor\u001b[0m \u001b[0mfolder\u001b[0m \u001b[0;32min\u001b[0m \u001b[0mlist\u001b[0m\u001b[0;34m(\u001b[0m\u001b[0mp\u001b[0m\u001b[0;34m.\u001b[0m\u001b[0miterdir\u001b[0m\u001b[0;34m(\u001b[0m\u001b[0;34m)\u001b[0m\u001b[0;34m)\u001b[0m\u001b[0;34m:\u001b[0m\u001b[0;34m\u001b[0m\u001b[0;34m\u001b[0m\u001b[0m\n\u001b[1;32m      4\u001b[0m     \u001b[0mpath_list\u001b[0m \u001b[0;34m=\u001b[0m \u001b[0;34m[\u001b[0m\u001b[0mp\u001b[0m\u001b[0;34m.\u001b[0m\u001b[0mas_posix\u001b[0m\u001b[0;34m(\u001b[0m\u001b[0;34m)\u001b[0m \u001b[0;32mfor\u001b[0m \u001b[0mp\u001b[0m \u001b[0;32min\u001b[0m \u001b[0mlist\u001b[0m\u001b[0;34m(\u001b[0m\u001b[0mfolder\u001b[0m\u001b[0;34m.\u001b[0m\u001b[0miterdir\u001b[0m\u001b[0;34m(\u001b[0m\u001b[0;34m)\u001b[0m\u001b[0;34m)\u001b[0m\u001b[0;34m]\u001b[0m\u001b[0;34m\u001b[0m\u001b[0;34m\u001b[0m\u001b[0m\n\u001b[1;32m      5\u001b[0m     \u001b[0mfile_list\u001b[0m \u001b[0;34m=\u001b[0m \u001b[0;34m[\u001b[0m\u001b[0mos\u001b[0m\u001b[0;34m.\u001b[0m\u001b[0mpath\u001b[0m\u001b[0;34m.\u001b[0m\u001b[0msplit\u001b[0m\u001b[0;34m(\u001b[0m\u001b[0mp\u001b[0m\u001b[0;34m)\u001b[0m\u001b[0;34m[\u001b[0m\u001b[0;34m-\u001b[0m\u001b[0;36m1\u001b[0m\u001b[0;34m]\u001b[0m \u001b[0;32mfor\u001b[0m \u001b[0mp\u001b[0m \u001b[0;32min\u001b[0m \u001b[0mp\u001b[0m\u001b[0;34m.\u001b[0m\u001b[0mglob\u001b[0m\u001b[0;34m(\u001b[0m\u001b[0;34m'*.xlsx'\u001b[0m\u001b[0;34m)\u001b[0m\u001b[0;34m]\u001b[0m\u001b[0;34m\u001b[0m\u001b[0;34m\u001b[0m\u001b[0m\n",
      "\u001b[0;31mNameError\u001b[0m: name 'Path' is not defined"
     ]
    }
   ],
   "source": [
    "p = Path('public-covid-data/')\n",
    "df_list = []\n",
    "for folder in list(p.iterdir()):\n",
    "    path_list = [p.as_posix() for p in list(folder.iterdir())]\n",
    "    file_list = [os.path.split(p)[-1] for p in list(folder.iterdir())]\n",
    "    df_list.append(pd.DataFrame({'path': path_list, 'filename': file_list}))"
   ]
  },
  {
   "cell_type": "code",
   "execution_count": 31,
   "id": "cb624033-df98-4027-a452-efbd248bb10a",
   "metadata": {},
   "outputs": [
    {
     "data": {
      "text/plain": [
       "[Empty DataFrame\n",
       " Columns: [path, filename]\n",
       " Index: [],\n",
       "                                path  filename\n",
       " 0  public-covid-data/rp_im/1.nii.gz  1.nii.gz\n",
       " 1  public-covid-data/rp_im/2.nii.gz  2.nii.gz\n",
       " 2  public-covid-data/rp_im/3.nii.gz  3.nii.gz\n",
       " 3  public-covid-data/rp_im/4.nii.gz  4.nii.gz\n",
       " 4  public-covid-data/rp_im/5.nii.gz  5.nii.gz\n",
       " 5  public-covid-data/rp_im/6.nii.gz  6.nii.gz\n",
       " 6  public-covid-data/rp_im/7.nii.gz  7.nii.gz\n",
       " 7  public-covid-data/rp_im/8.nii.gz  8.nii.gz\n",
       " 8  public-covid-data/rp_im/9.nii.gz  9.nii.gz,\n",
       "                                 path  filename\n",
       " 0  public-covid-data/rp_msk/1.nii.gz  1.nii.gz\n",
       " 1  public-covid-data/rp_msk/2.nii.gz  2.nii.gz\n",
       " 2  public-covid-data/rp_msk/3.nii.gz  3.nii.gz\n",
       " 3  public-covid-data/rp_msk/4.nii.gz  4.nii.gz\n",
       " 4  public-covid-data/rp_msk/5.nii.gz  5.nii.gz\n",
       " 5  public-covid-data/rp_msk/6.nii.gz  6.nii.gz\n",
       " 6  public-covid-data/rp_msk/7.nii.gz  7.nii.gz\n",
       " 7  public-covid-data/rp_msk/8.nii.gz  8.nii.gz\n",
       " 8  public-covid-data/rp_msk/9.nii.gz  9.nii.gz]"
      ]
     },
     "execution_count": 31,
     "metadata": {},
     "output_type": "execute_result"
    }
   ],
   "source": [
    "df_list"
   ]
  },
  {
   "cell_type": "code",
   "execution_count": 32,
   "id": "4c73aeea-0f39-4634-acb3-9fd15c956830",
   "metadata": {},
   "outputs": [
    {
     "data": {
      "text/html": [
       "<div>\n",
       "<style scoped>\n",
       "    .dataframe tbody tr th:only-of-type {\n",
       "        vertical-align: middle;\n",
       "    }\n",
       "\n",
       "    .dataframe tbody tr th {\n",
       "        vertical-align: top;\n",
       "    }\n",
       "\n",
       "    .dataframe thead th {\n",
       "        text-align: right;\n",
       "    }\n",
       "</style>\n",
       "<table border=\"1\" class=\"dataframe\">\n",
       "  <thead>\n",
       "    <tr style=\"text-align: right;\">\n",
       "      <th></th>\n",
       "      <th>path</th>\n",
       "      <th>filename</th>\n",
       "    </tr>\n",
       "  </thead>\n",
       "  <tbody>\n",
       "    <tr>\n",
       "      <th>0</th>\n",
       "      <td>public-covid-data/rp_im/1.nii.gz</td>\n",
       "      <td>1.nii.gz</td>\n",
       "    </tr>\n",
       "    <tr>\n",
       "      <th>1</th>\n",
       "      <td>public-covid-data/rp_im/2.nii.gz</td>\n",
       "      <td>2.nii.gz</td>\n",
       "    </tr>\n",
       "    <tr>\n",
       "      <th>2</th>\n",
       "      <td>public-covid-data/rp_im/3.nii.gz</td>\n",
       "      <td>3.nii.gz</td>\n",
       "    </tr>\n",
       "    <tr>\n",
       "      <th>3</th>\n",
       "      <td>public-covid-data/rp_im/4.nii.gz</td>\n",
       "      <td>4.nii.gz</td>\n",
       "    </tr>\n",
       "    <tr>\n",
       "      <th>4</th>\n",
       "      <td>public-covid-data/rp_im/5.nii.gz</td>\n",
       "      <td>5.nii.gz</td>\n",
       "    </tr>\n",
       "    <tr>\n",
       "      <th>5</th>\n",
       "      <td>public-covid-data/rp_im/6.nii.gz</td>\n",
       "      <td>6.nii.gz</td>\n",
       "    </tr>\n",
       "    <tr>\n",
       "      <th>6</th>\n",
       "      <td>public-covid-data/rp_im/7.nii.gz</td>\n",
       "      <td>7.nii.gz</td>\n",
       "    </tr>\n",
       "    <tr>\n",
       "      <th>7</th>\n",
       "      <td>public-covid-data/rp_im/8.nii.gz</td>\n",
       "      <td>8.nii.gz</td>\n",
       "    </tr>\n",
       "    <tr>\n",
       "      <th>8</th>\n",
       "      <td>public-covid-data/rp_im/9.nii.gz</td>\n",
       "      <td>9.nii.gz</td>\n",
       "    </tr>\n",
       "  </tbody>\n",
       "</table>\n",
       "</div>"
      ],
      "text/plain": [
       "                               path  filename\n",
       "0  public-covid-data/rp_im/1.nii.gz  1.nii.gz\n",
       "1  public-covid-data/rp_im/2.nii.gz  2.nii.gz\n",
       "2  public-covid-data/rp_im/3.nii.gz  3.nii.gz\n",
       "3  public-covid-data/rp_im/4.nii.gz  4.nii.gz\n",
       "4  public-covid-data/rp_im/5.nii.gz  5.nii.gz\n",
       "5  public-covid-data/rp_im/6.nii.gz  6.nii.gz\n",
       "6  public-covid-data/rp_im/7.nii.gz  7.nii.gz\n",
       "7  public-covid-data/rp_im/8.nii.gz  8.nii.gz\n",
       "8  public-covid-data/rp_im/9.nii.gz  9.nii.gz"
      ]
     },
     "execution_count": 32,
     "metadata": {},
     "output_type": "execute_result"
    }
   ],
   "source": [
    "df_list[1]"
   ]
  },
  {
   "cell_type": "code",
   "execution_count": 33,
   "id": "bdf415a5-9360-4f6b-a582-4f2923ed7ecf",
   "metadata": {},
   "outputs": [
    {
     "data": {
      "text/html": [
       "<div>\n",
       "<style scoped>\n",
       "    .dataframe tbody tr th:only-of-type {\n",
       "        vertical-align: middle;\n",
       "    }\n",
       "\n",
       "    .dataframe tbody tr th {\n",
       "        vertical-align: top;\n",
       "    }\n",
       "\n",
       "    .dataframe thead th {\n",
       "        text-align: right;\n",
       "    }\n",
       "</style>\n",
       "<table border=\"1\" class=\"dataframe\">\n",
       "  <thead>\n",
       "    <tr style=\"text-align: right;\">\n",
       "      <th></th>\n",
       "      <th>path</th>\n",
       "      <th>filename</th>\n",
       "    </tr>\n",
       "  </thead>\n",
       "  <tbody>\n",
       "    <tr>\n",
       "      <th>0</th>\n",
       "      <td>public-covid-data/rp_msk/1.nii.gz</td>\n",
       "      <td>1.nii.gz</td>\n",
       "    </tr>\n",
       "    <tr>\n",
       "      <th>1</th>\n",
       "      <td>public-covid-data/rp_msk/2.nii.gz</td>\n",
       "      <td>2.nii.gz</td>\n",
       "    </tr>\n",
       "    <tr>\n",
       "      <th>2</th>\n",
       "      <td>public-covid-data/rp_msk/3.nii.gz</td>\n",
       "      <td>3.nii.gz</td>\n",
       "    </tr>\n",
       "    <tr>\n",
       "      <th>3</th>\n",
       "      <td>public-covid-data/rp_msk/4.nii.gz</td>\n",
       "      <td>4.nii.gz</td>\n",
       "    </tr>\n",
       "    <tr>\n",
       "      <th>4</th>\n",
       "      <td>public-covid-data/rp_msk/5.nii.gz</td>\n",
       "      <td>5.nii.gz</td>\n",
       "    </tr>\n",
       "    <tr>\n",
       "      <th>5</th>\n",
       "      <td>public-covid-data/rp_msk/6.nii.gz</td>\n",
       "      <td>6.nii.gz</td>\n",
       "    </tr>\n",
       "    <tr>\n",
       "      <th>6</th>\n",
       "      <td>public-covid-data/rp_msk/7.nii.gz</td>\n",
       "      <td>7.nii.gz</td>\n",
       "    </tr>\n",
       "    <tr>\n",
       "      <th>7</th>\n",
       "      <td>public-covid-data/rp_msk/8.nii.gz</td>\n",
       "      <td>8.nii.gz</td>\n",
       "    </tr>\n",
       "    <tr>\n",
       "      <th>8</th>\n",
       "      <td>public-covid-data/rp_msk/9.nii.gz</td>\n",
       "      <td>9.nii.gz</td>\n",
       "    </tr>\n",
       "  </tbody>\n",
       "</table>\n",
       "</div>"
      ],
      "text/plain": [
       "                                path  filename\n",
       "0  public-covid-data/rp_msk/1.nii.gz  1.nii.gz\n",
       "1  public-covid-data/rp_msk/2.nii.gz  2.nii.gz\n",
       "2  public-covid-data/rp_msk/3.nii.gz  3.nii.gz\n",
       "3  public-covid-data/rp_msk/4.nii.gz  4.nii.gz\n",
       "4  public-covid-data/rp_msk/5.nii.gz  5.nii.gz\n",
       "5  public-covid-data/rp_msk/6.nii.gz  6.nii.gz\n",
       "6  public-covid-data/rp_msk/7.nii.gz  7.nii.gz\n",
       "7  public-covid-data/rp_msk/8.nii.gz  8.nii.gz\n",
       "8  public-covid-data/rp_msk/9.nii.gz  9.nii.gz"
      ]
     },
     "execution_count": 33,
     "metadata": {},
     "output_type": "execute_result"
    }
   ],
   "source": [
    "df_list[2]"
   ]
  },
  {
   "cell_type": "code",
   "execution_count": 41,
   "id": "0179acea-7045-4e03-b5d4-6f6a8640d0d6",
   "metadata": {},
   "outputs": [
    {
     "data": {
      "text/html": [
       "<div>\n",
       "<style scoped>\n",
       "    .dataframe tbody tr th:only-of-type {\n",
       "        vertical-align: middle;\n",
       "    }\n",
       "\n",
       "    .dataframe tbody tr th {\n",
       "        vertical-align: top;\n",
       "    }\n",
       "\n",
       "    .dataframe thead th {\n",
       "        text-align: right;\n",
       "    }\n",
       "</style>\n",
       "<table border=\"1\" class=\"dataframe\">\n",
       "  <thead>\n",
       "    <tr style=\"text-align: right;\">\n",
       "      <th></th>\n",
       "      <th>path_im</th>\n",
       "      <th>filename</th>\n",
       "      <th>path_ms</th>\n",
       "    </tr>\n",
       "  </thead>\n",
       "  <tbody>\n",
       "    <tr>\n",
       "      <th>0</th>\n",
       "      <td>public-covid-data/rp_im/1.nii.gz</td>\n",
       "      <td>1.nii.gz</td>\n",
       "      <td>public-covid-data/rp_msk/1.nii.gz</td>\n",
       "    </tr>\n",
       "    <tr>\n",
       "      <th>1</th>\n",
       "      <td>public-covid-data/rp_im/2.nii.gz</td>\n",
       "      <td>2.nii.gz</td>\n",
       "      <td>public-covid-data/rp_msk/2.nii.gz</td>\n",
       "    </tr>\n",
       "    <tr>\n",
       "      <th>2</th>\n",
       "      <td>public-covid-data/rp_im/3.nii.gz</td>\n",
       "      <td>3.nii.gz</td>\n",
       "      <td>public-covid-data/rp_msk/3.nii.gz</td>\n",
       "    </tr>\n",
       "    <tr>\n",
       "      <th>3</th>\n",
       "      <td>public-covid-data/rp_im/4.nii.gz</td>\n",
       "      <td>4.nii.gz</td>\n",
       "      <td>public-covid-data/rp_msk/4.nii.gz</td>\n",
       "    </tr>\n",
       "    <tr>\n",
       "      <th>4</th>\n",
       "      <td>public-covid-data/rp_im/5.nii.gz</td>\n",
       "      <td>5.nii.gz</td>\n",
       "      <td>public-covid-data/rp_msk/5.nii.gz</td>\n",
       "    </tr>\n",
       "    <tr>\n",
       "      <th>5</th>\n",
       "      <td>public-covid-data/rp_im/6.nii.gz</td>\n",
       "      <td>6.nii.gz</td>\n",
       "      <td>public-covid-data/rp_msk/6.nii.gz</td>\n",
       "    </tr>\n",
       "    <tr>\n",
       "      <th>6</th>\n",
       "      <td>public-covid-data/rp_im/7.nii.gz</td>\n",
       "      <td>7.nii.gz</td>\n",
       "      <td>public-covid-data/rp_msk/7.nii.gz</td>\n",
       "    </tr>\n",
       "    <tr>\n",
       "      <th>7</th>\n",
       "      <td>public-covid-data/rp_im/8.nii.gz</td>\n",
       "      <td>8.nii.gz</td>\n",
       "      <td>public-covid-data/rp_msk/8.nii.gz</td>\n",
       "    </tr>\n",
       "    <tr>\n",
       "      <th>8</th>\n",
       "      <td>public-covid-data/rp_im/9.nii.gz</td>\n",
       "      <td>9.nii.gz</td>\n",
       "      <td>public-covid-data/rp_msk/9.nii.gz</td>\n",
       "    </tr>\n",
       "  </tbody>\n",
       "</table>\n",
       "</div>"
      ],
      "text/plain": [
       "                            path_im  filename  \\\n",
       "0  public-covid-data/rp_im/1.nii.gz  1.nii.gz   \n",
       "1  public-covid-data/rp_im/2.nii.gz  2.nii.gz   \n",
       "2  public-covid-data/rp_im/3.nii.gz  3.nii.gz   \n",
       "3  public-covid-data/rp_im/4.nii.gz  4.nii.gz   \n",
       "4  public-covid-data/rp_im/5.nii.gz  5.nii.gz   \n",
       "5  public-covid-data/rp_im/6.nii.gz  6.nii.gz   \n",
       "6  public-covid-data/rp_im/7.nii.gz  7.nii.gz   \n",
       "7  public-covid-data/rp_im/8.nii.gz  8.nii.gz   \n",
       "8  public-covid-data/rp_im/9.nii.gz  9.nii.gz   \n",
       "\n",
       "                             path_ms  \n",
       "0  public-covid-data/rp_msk/1.nii.gz  \n",
       "1  public-covid-data/rp_msk/2.nii.gz  \n",
       "2  public-covid-data/rp_msk/3.nii.gz  \n",
       "3  public-covid-data/rp_msk/4.nii.gz  \n",
       "4  public-covid-data/rp_msk/5.nii.gz  \n",
       "5  public-covid-data/rp_msk/6.nii.gz  \n",
       "6  public-covid-data/rp_msk/7.nii.gz  \n",
       "7  public-covid-data/rp_msk/8.nii.gz  \n",
       "8  public-covid-data/rp_msk/9.nii.gz  "
      ]
     },
     "execution_count": 41,
     "metadata": {},
     "output_type": "execute_result"
    }
   ],
   "source": [
    "df = df_list[1].merge(df_list[2], on='filename', suffixes=('_im', '_ms'))\n",
    "df"
   ]
  },
  {
   "cell_type": "code",
   "execution_count": 43,
   "id": "2c53ac99-a7e2-4946-af3d-15b11939e6b7",
   "metadata": {},
   "outputs": [
    {
     "data": {
      "application/vnd.jupyter.widget-view+json": {
       "model_id": "f4a9e18b1a5b444fa3a980210f5e1c57",
       "version_major": 2,
       "version_minor": 0
      },
      "text/plain": [
       "  0%|          | 0/9 [00:00<?, ?it/s]"
      ]
     },
     "metadata": {},
     "output_type": "display_data"
    },
    {
     "name": "stdout",
     "output_type": "stream",
     "text": [
      "image path for public-covid-data/rp_im/1.nii.gz is here 1.nii.gz\n",
      "image path for public-covid-data/rp_im/2.nii.gz is here 2.nii.gz\n",
      "image path for public-covid-data/rp_im/3.nii.gz is here 3.nii.gz\n",
      "image path for public-covid-data/rp_im/4.nii.gz is here 4.nii.gz\n",
      "image path for public-covid-data/rp_im/5.nii.gz is here 5.nii.gz\n",
      "image path for public-covid-data/rp_im/6.nii.gz is here 6.nii.gz\n",
      "image path for public-covid-data/rp_im/7.nii.gz is here 7.nii.gz\n",
      "image path for public-covid-data/rp_im/8.nii.gz is here 8.nii.gz\n",
      "image path for public-covid-data/rp_im/9.nii.gz is here 9.nii.gz\n"
     ]
    }
   ],
   "source": [
    "for idx, row in tqdm(df.iterrows(), total=len(df)):\n",
    "    print(f\"image path for {row['path_im']} is here {row['filename']}\")"
   ]
  },
  {
   "cell_type": "code",
   "execution_count": 30,
   "id": "d8ffe73a-1fd0-4a28-a9a6-522f2d0fc2bb",
   "metadata": {},
   "outputs": [
    {
     "data": {
      "text/plain": [
       "['public-covid-data/rp_im/1.nii.gz',\n",
       " 'public-covid-data/rp_im/2.nii.gz',\n",
       " 'public-covid-data/rp_im/3.nii.gz',\n",
       " 'public-covid-data/rp_im/4.nii.gz',\n",
       " 'public-covid-data/rp_im/5.nii.gz',\n",
       " 'public-covid-data/rp_im/6.nii.gz',\n",
       " 'public-covid-data/rp_im/7.nii.gz',\n",
       " 'public-covid-data/rp_im/8.nii.gz',\n",
       " 'public-covid-data/rp_im/9.nii.gz']"
      ]
     },
     "execution_count": 30,
     "metadata": {},
     "output_type": "execute_result"
    }
   ],
   "source": [
    "folder = list(p.iterdir())[1]\n",
    "[p.as_posix() for p in list(folder.iterdir())]"
   ]
  },
  {
   "cell_type": "code",
   "execution_count": 32,
   "id": "121c7566-0301-42d0-88ae-3532276d177b",
   "metadata": {},
   "outputs": [
    {
     "data": {
      "text/plain": [
       "['1.nii.gz',\n",
       " '2.nii.gz',\n",
       " '3.nii.gz',\n",
       " '4.nii.gz',\n",
       " '5.nii.gz',\n",
       " '6.nii.gz',\n",
       " '7.nii.gz',\n",
       " '8.nii.gz',\n",
       " '9.nii.gz']"
      ]
     },
     "execution_count": 32,
     "metadata": {},
     "output_type": "execute_result"
    }
   ],
   "source": [
    "folder = list(p.iterdir())[1]\n",
    "[os.path.split(p)[1] for p in list(folder.iterdir())]"
   ]
  },
  {
   "cell_type": "code",
   "execution_count": 15,
   "id": "4fcd51b3-f7d4-40d6-9458-b0ba3a348cde",
   "metadata": {},
   "outputs": [
    {
     "data": {
      "text/plain": [
       "[PosixPath('public-covid-data/.ipynb_checkpoints'),\n",
       " PosixPath('public-covid-data/new_folder'),\n",
       " PosixPath('public-covid-data/rp_im'),\n",
       " PosixPath('public-covid-data/rp_msk')]"
      ]
     },
     "execution_count": 15,
     "metadata": {},
     "output_type": "execute_result"
    }
   ],
   "source": []
  },
  {
   "cell_type": "code",
   "execution_count": null,
   "id": "8f914499-5676-430b-9c2e-f84fd00e0a90",
   "metadata": {},
   "outputs": [],
   "source": []
  }
 ],
 "metadata": {
  "kernelspec": {
   "display_name": "Python 3 (ipykernel)",
   "language": "python",
   "name": "python3"
  },
  "language_info": {
   "codemirror_mode": {
    "name": "ipython",
    "version": 3
   },
   "file_extension": ".py",
   "mimetype": "text/x-python",
   "name": "python",
   "nbconvert_exporter": "python",
   "pygments_lexer": "ipython3",
   "version": "3.9.7"
  }
 },
 "nbformat": 4,
 "nbformat_minor": 5
}

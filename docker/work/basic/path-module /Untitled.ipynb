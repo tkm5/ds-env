{
 "cells": [
  {
   "cell_type": "code",
   "execution_count": 5,
   "id": "5e5b54e0-0a81-4454-bead-4dc09ff5746d",
   "metadata": {},
   "outputs": [
    {
     "data": {
      "text/plain": [
       "'[<p class=\"item-detail_soldOut_f7fcddbf\">SOLD OUT</p>, <p class=\"item-detail_soldOut_f7fcddbf\">SOLD OUT</p>]'"
      ]
     },
     "execution_count": 5,
     "metadata": {},
     "output_type": "execute_result"
    }
   ],
   "source": [
    "from bs4 import BeautifulSoup\n",
    "import requests\n",
    "\n",
    "url = 'https://scraping.official.ec/items/40792454'\n",
    "res = requests.get(url)\n",
    "soup = BeautifulSoup(res.text, 'html.parser')\n",
    "new_elem = str(soup.select('.item-detail_soldOut_f7fcddbf'))\n",
    "new_elem"
   ]
  },
  {
   "cell_type": "code",
   "execution_count": null,
   "id": "38791c84-5b4d-469d-b3cf-71d73003ec0c",
   "metadata": {},
   "outputs": [],
   "source": []
  }
 ],
 "metadata": {
  "kernelspec": {
   "display_name": "Python 3 (ipykernel)",
   "language": "python",
   "name": "python3"
  },
  "language_info": {
   "codemirror_mode": {
    "name": "ipython",
    "version": 3
   },
   "file_extension": ".py",
   "mimetype": "text/x-python",
   "name": "python",
   "nbconvert_exporter": "python",
   "pygments_lexer": "ipython3",
   "version": "3.9.7"
  }
 },
 "nbformat": 4,
 "nbformat_minor": 5
}

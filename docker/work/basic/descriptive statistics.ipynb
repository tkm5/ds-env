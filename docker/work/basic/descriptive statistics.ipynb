{
 "cells": [
  {
   "cell_type": "code",
   "execution_count": 1,
   "id": "1570ec91-8545-471b-817c-c291e241d145",
   "metadata": {},
   "outputs": [],
   "source": [
    "import numpy as np\n",
    "import pandas as pd\n",
    "import scipy.stats as stats\n",
    "\n",
    "import matplotlib.pyplot as plt\n",
    "%matplotlib inline\n",
    "import seaborn as sns\n",
    "from sklearn.linear_model import LinearRegression\n",
    "import math"
   ]
  },
  {
   "cell_type": "code",
   "execution_count": 2,
   "id": "40231d3b-5dc6-43e3-9347-8a239e35bacb",
   "metadata": {},
   "outputs": [],
   "source": [
    "data = {\n",
    "    'name':['Tom','James','Ricky','Vin','Steve','Smith','Jack','Lee','David','Gasper','Betina','Andres'],\n",
    "    'age':[25,26,25,23,30,29,23,34,40,30,51,46],\n",
    "    'rating':[4.23,3.24,3.98,2.56,3.20,4.6,3.8,3.78,2.98,4.80,4.10,3.65]\n",
    "}\n",
    "\n",
    "df = pd.DataFrame(data)"
   ]
  },
  {
   "cell_type": "code",
   "execution_count": 3,
   "id": "34c474b6-de8b-4b73-a63c-1454f031905a",
   "metadata": {},
   "outputs": [
    {
     "data": {
      "text/html": [
       "<div>\n",
       "<style scoped>\n",
       "    .dataframe tbody tr th:only-of-type {\n",
       "        vertical-align: middle;\n",
       "    }\n",
       "\n",
       "    .dataframe tbody tr th {\n",
       "        vertical-align: top;\n",
       "    }\n",
       "\n",
       "    .dataframe thead th {\n",
       "        text-align: right;\n",
       "    }\n",
       "</style>\n",
       "<table border=\"1\" class=\"dataframe\">\n",
       "  <thead>\n",
       "    <tr style=\"text-align: right;\">\n",
       "      <th></th>\n",
       "      <th>name</th>\n",
       "      <th>age</th>\n",
       "      <th>rating</th>\n",
       "    </tr>\n",
       "  </thead>\n",
       "  <tbody>\n",
       "    <tr>\n",
       "      <th>0</th>\n",
       "      <td>Tom</td>\n",
       "      <td>25</td>\n",
       "      <td>4.23</td>\n",
       "    </tr>\n",
       "    <tr>\n",
       "      <th>1</th>\n",
       "      <td>James</td>\n",
       "      <td>26</td>\n",
       "      <td>3.24</td>\n",
       "    </tr>\n",
       "    <tr>\n",
       "      <th>2</th>\n",
       "      <td>Ricky</td>\n",
       "      <td>25</td>\n",
       "      <td>3.98</td>\n",
       "    </tr>\n",
       "    <tr>\n",
       "      <th>3</th>\n",
       "      <td>Vin</td>\n",
       "      <td>23</td>\n",
       "      <td>2.56</td>\n",
       "    </tr>\n",
       "    <tr>\n",
       "      <th>4</th>\n",
       "      <td>Steve</td>\n",
       "      <td>30</td>\n",
       "      <td>3.20</td>\n",
       "    </tr>\n",
       "    <tr>\n",
       "      <th>5</th>\n",
       "      <td>Smith</td>\n",
       "      <td>29</td>\n",
       "      <td>4.60</td>\n",
       "    </tr>\n",
       "    <tr>\n",
       "      <th>6</th>\n",
       "      <td>Jack</td>\n",
       "      <td>23</td>\n",
       "      <td>3.80</td>\n",
       "    </tr>\n",
       "    <tr>\n",
       "      <th>7</th>\n",
       "      <td>Lee</td>\n",
       "      <td>34</td>\n",
       "      <td>3.78</td>\n",
       "    </tr>\n",
       "    <tr>\n",
       "      <th>8</th>\n",
       "      <td>David</td>\n",
       "      <td>40</td>\n",
       "      <td>2.98</td>\n",
       "    </tr>\n",
       "    <tr>\n",
       "      <th>9</th>\n",
       "      <td>Gasper</td>\n",
       "      <td>30</td>\n",
       "      <td>4.80</td>\n",
       "    </tr>\n",
       "    <tr>\n",
       "      <th>10</th>\n",
       "      <td>Betina</td>\n",
       "      <td>51</td>\n",
       "      <td>4.10</td>\n",
       "    </tr>\n",
       "    <tr>\n",
       "      <th>11</th>\n",
       "      <td>Andres</td>\n",
       "      <td>46</td>\n",
       "      <td>3.65</td>\n",
       "    </tr>\n",
       "  </tbody>\n",
       "</table>\n",
       "</div>"
      ],
      "text/plain": [
       "      name  age  rating\n",
       "0      Tom   25    4.23\n",
       "1    James   26    3.24\n",
       "2    Ricky   25    3.98\n",
       "3      Vin   23    2.56\n",
       "4    Steve   30    3.20\n",
       "5    Smith   29    4.60\n",
       "6     Jack   23    3.80\n",
       "7      Lee   34    3.78\n",
       "8    David   40    2.98\n",
       "9   Gasper   30    4.80\n",
       "10  Betina   51    4.10\n",
       "11  Andres   46    3.65"
      ]
     },
     "execution_count": 3,
     "metadata": {},
     "output_type": "execute_result"
    }
   ],
   "source": [
    "df"
   ]
  },
  {
   "cell_type": "code",
   "execution_count": 4,
   "id": "ce01ade0-a19b-45c4-abee-8d1b65af3234",
   "metadata": {},
   "outputs": [
    {
     "data": {
      "text/plain": [
       "age       31.833333\n",
       "rating     3.743333\n",
       "dtype: float64"
      ]
     },
     "execution_count": 4,
     "metadata": {},
     "output_type": "execute_result"
    }
   ],
   "source": [
    "df.mean()"
   ]
  },
  {
   "cell_type": "code",
   "execution_count": 5,
   "id": "8a806360-b1da-42e4-bf24-c166b42a04c8",
   "metadata": {},
   "outputs": [
    {
     "data": {
      "text/plain": [
       "age       29.50\n",
       "rating     3.79\n",
       "dtype: float64"
      ]
     },
     "execution_count": 5,
     "metadata": {},
     "output_type": "execute_result"
    }
   ],
   "source": [
    "df.median()"
   ]
  },
  {
   "cell_type": "code",
   "execution_count": 6,
   "id": "04ca26e8-28de-4310-a676-d0db193cfc76",
   "metadata": {},
   "outputs": [
    {
     "data": {
      "text/plain": [
       "0    23\n",
       "1    25\n",
       "2    30\n",
       "dtype: int64"
      ]
     },
     "execution_count": 6,
     "metadata": {},
     "output_type": "execute_result"
    }
   ],
   "source": [
    "df['age'].mode()"
   ]
  },
  {
   "cell_type": "code",
   "execution_count": 7,
   "id": "43e0ddc0-cb14-4620-9a7c-354cbd30ed9a",
   "metadata": {},
   "outputs": [],
   "source": [
    "df['period'] = df['age'].apply(lambda x: (x // 10)*10)"
   ]
  },
  {
   "cell_type": "code",
   "execution_count": 8,
   "id": "adde87b7-a5e3-4612-9f81-a398ddf6f984",
   "metadata": {},
   "outputs": [
    {
     "data": {
      "text/html": [
       "<div>\n",
       "<style scoped>\n",
       "    .dataframe tbody tr th:only-of-type {\n",
       "        vertical-align: middle;\n",
       "    }\n",
       "\n",
       "    .dataframe tbody tr th {\n",
       "        vertical-align: top;\n",
       "    }\n",
       "\n",
       "    .dataframe thead th {\n",
       "        text-align: right;\n",
       "    }\n",
       "</style>\n",
       "<table border=\"1\" class=\"dataframe\">\n",
       "  <thead>\n",
       "    <tr style=\"text-align: right;\">\n",
       "      <th></th>\n",
       "      <th>name</th>\n",
       "      <th>age</th>\n",
       "      <th>rating</th>\n",
       "      <th>period</th>\n",
       "    </tr>\n",
       "  </thead>\n",
       "  <tbody>\n",
       "    <tr>\n",
       "      <th>0</th>\n",
       "      <td>Tom</td>\n",
       "      <td>25</td>\n",
       "      <td>4.23</td>\n",
       "      <td>20</td>\n",
       "    </tr>\n",
       "    <tr>\n",
       "      <th>1</th>\n",
       "      <td>James</td>\n",
       "      <td>26</td>\n",
       "      <td>3.24</td>\n",
       "      <td>20</td>\n",
       "    </tr>\n",
       "    <tr>\n",
       "      <th>2</th>\n",
       "      <td>Ricky</td>\n",
       "      <td>25</td>\n",
       "      <td>3.98</td>\n",
       "      <td>20</td>\n",
       "    </tr>\n",
       "    <tr>\n",
       "      <th>3</th>\n",
       "      <td>Vin</td>\n",
       "      <td>23</td>\n",
       "      <td>2.56</td>\n",
       "      <td>20</td>\n",
       "    </tr>\n",
       "    <tr>\n",
       "      <th>4</th>\n",
       "      <td>Steve</td>\n",
       "      <td>30</td>\n",
       "      <td>3.20</td>\n",
       "      <td>30</td>\n",
       "    </tr>\n",
       "    <tr>\n",
       "      <th>5</th>\n",
       "      <td>Smith</td>\n",
       "      <td>29</td>\n",
       "      <td>4.60</td>\n",
       "      <td>20</td>\n",
       "    </tr>\n",
       "    <tr>\n",
       "      <th>6</th>\n",
       "      <td>Jack</td>\n",
       "      <td>23</td>\n",
       "      <td>3.80</td>\n",
       "      <td>20</td>\n",
       "    </tr>\n",
       "    <tr>\n",
       "      <th>7</th>\n",
       "      <td>Lee</td>\n",
       "      <td>34</td>\n",
       "      <td>3.78</td>\n",
       "      <td>30</td>\n",
       "    </tr>\n",
       "    <tr>\n",
       "      <th>8</th>\n",
       "      <td>David</td>\n",
       "      <td>40</td>\n",
       "      <td>2.98</td>\n",
       "      <td>40</td>\n",
       "    </tr>\n",
       "    <tr>\n",
       "      <th>9</th>\n",
       "      <td>Gasper</td>\n",
       "      <td>30</td>\n",
       "      <td>4.80</td>\n",
       "      <td>30</td>\n",
       "    </tr>\n",
       "    <tr>\n",
       "      <th>10</th>\n",
       "      <td>Betina</td>\n",
       "      <td>51</td>\n",
       "      <td>4.10</td>\n",
       "      <td>50</td>\n",
       "    </tr>\n",
       "    <tr>\n",
       "      <th>11</th>\n",
       "      <td>Andres</td>\n",
       "      <td>46</td>\n",
       "      <td>3.65</td>\n",
       "      <td>40</td>\n",
       "    </tr>\n",
       "  </tbody>\n",
       "</table>\n",
       "</div>"
      ],
      "text/plain": [
       "      name  age  rating  period\n",
       "0      Tom   25    4.23      20\n",
       "1    James   26    3.24      20\n",
       "2    Ricky   25    3.98      20\n",
       "3      Vin   23    2.56      20\n",
       "4    Steve   30    3.20      30\n",
       "5    Smith   29    4.60      20\n",
       "6     Jack   23    3.80      20\n",
       "7      Lee   34    3.78      30\n",
       "8    David   40    2.98      40\n",
       "9   Gasper   30    4.80      30\n",
       "10  Betina   51    4.10      50\n",
       "11  Andres   46    3.65      40"
      ]
     },
     "execution_count": 8,
     "metadata": {},
     "output_type": "execute_result"
    }
   ],
   "source": [
    "df"
   ]
  },
  {
   "cell_type": "code",
   "execution_count": 9,
   "id": "fd32c62e-5ada-4876-ab44-f7893036f6fc",
   "metadata": {},
   "outputs": [
    {
     "data": {
      "text/plain": [
       "0    20\n",
       "dtype: int64"
      ]
     },
     "execution_count": 9,
     "metadata": {},
     "output_type": "execute_result"
    }
   ],
   "source": [
    "df['period'].mode()"
   ]
  },
  {
   "cell_type": "code",
   "execution_count": 10,
   "id": "ad2f74c3-72f9-4cbd-8e1d-e508886c7af4",
   "metadata": {},
   "outputs": [
    {
     "name": "stdout",
     "output_type": "stream",
     "text": [
      "age       23\n",
      "period    20\n",
      "dtype: int64\n",
      "--------------------------------------------------\n",
      "age       51\n",
      "period    50\n",
      "dtype: int64\n"
     ]
    }
   ],
   "source": [
    "tgt_cols = ['age', 'period']\n",
    "\n",
    "print(df[tgt_cols].min())\n",
    "print('-'*50)\n",
    "print(df[tgt_cols].max())"
   ]
  },
  {
   "cell_type": "code",
   "execution_count": 11,
   "id": "59b275dc-af6c-4ee5-8e34-c0dcaeea2b1a",
   "metadata": {},
   "outputs": [
    {
     "name": "stdout",
     "output_type": "stream",
     "text": [
      "age       23\n",
      "period    20\n",
      "dtype: int64\n",
      "--------------------------------------------------\n",
      "age       51\n",
      "period    50\n",
      "dtype: int64\n"
     ]
    }
   ],
   "source": [
    "print(df[['age', 'period']].min())\n",
    "print('-'*50)\n",
    "print(df[['age', 'period']].max())"
   ]
  },
  {
   "cell_type": "code",
   "execution_count": 12,
   "id": "cee93391-b4e2-44b0-b270-7fc79cb25454",
   "metadata": {},
   "outputs": [
    {
     "data": {
      "text/plain": [
       "age        9.232682\n",
       "rating     0.661628\n",
       "period    10.298573\n",
       "dtype: float64"
      ]
     },
     "execution_count": 12,
     "metadata": {},
     "output_type": "execute_result"
    }
   ],
   "source": [
    "df.std()"
   ]
  },
  {
   "cell_type": "code",
   "execution_count": 13,
   "id": "74858f94-ae9d-4ba5-a075-91c93617207e",
   "metadata": {},
   "outputs": [
    {
     "data": {
      "text/html": [
       "<div>\n",
       "<style scoped>\n",
       "    .dataframe tbody tr th:only-of-type {\n",
       "        vertical-align: middle;\n",
       "    }\n",
       "\n",
       "    .dataframe tbody tr th {\n",
       "        vertical-align: top;\n",
       "    }\n",
       "\n",
       "    .dataframe thead th {\n",
       "        text-align: right;\n",
       "    }\n",
       "</style>\n",
       "<table border=\"1\" class=\"dataframe\">\n",
       "  <thead>\n",
       "    <tr style=\"text-align: right;\">\n",
       "      <th></th>\n",
       "      <th>age</th>\n",
       "      <th>rating</th>\n",
       "      <th>period</th>\n",
       "    </tr>\n",
       "  </thead>\n",
       "  <tbody>\n",
       "    <tr>\n",
       "      <th>count</th>\n",
       "      <td>12.000000</td>\n",
       "      <td>12.000000</td>\n",
       "      <td>12.000000</td>\n",
       "    </tr>\n",
       "    <tr>\n",
       "      <th>mean</th>\n",
       "      <td>31.833333</td>\n",
       "      <td>3.743333</td>\n",
       "      <td>28.333333</td>\n",
       "    </tr>\n",
       "    <tr>\n",
       "      <th>std</th>\n",
       "      <td>9.232682</td>\n",
       "      <td>0.661628</td>\n",
       "      <td>10.298573</td>\n",
       "    </tr>\n",
       "    <tr>\n",
       "      <th>min</th>\n",
       "      <td>23.000000</td>\n",
       "      <td>2.560000</td>\n",
       "      <td>20.000000</td>\n",
       "    </tr>\n",
       "    <tr>\n",
       "      <th>25%</th>\n",
       "      <td>25.000000</td>\n",
       "      <td>3.230000</td>\n",
       "      <td>20.000000</td>\n",
       "    </tr>\n",
       "    <tr>\n",
       "      <th>50%</th>\n",
       "      <td>29.500000</td>\n",
       "      <td>3.790000</td>\n",
       "      <td>25.000000</td>\n",
       "    </tr>\n",
       "    <tr>\n",
       "      <th>75%</th>\n",
       "      <td>35.500000</td>\n",
       "      <td>4.132500</td>\n",
       "      <td>32.500000</td>\n",
       "    </tr>\n",
       "    <tr>\n",
       "      <th>max</th>\n",
       "      <td>51.000000</td>\n",
       "      <td>4.800000</td>\n",
       "      <td>50.000000</td>\n",
       "    </tr>\n",
       "  </tbody>\n",
       "</table>\n",
       "</div>"
      ],
      "text/plain": [
       "             age     rating     period\n",
       "count  12.000000  12.000000  12.000000\n",
       "mean   31.833333   3.743333  28.333333\n",
       "std     9.232682   0.661628  10.298573\n",
       "min    23.000000   2.560000  20.000000\n",
       "25%    25.000000   3.230000  20.000000\n",
       "50%    29.500000   3.790000  25.000000\n",
       "75%    35.500000   4.132500  32.500000\n",
       "max    51.000000   4.800000  50.000000"
      ]
     },
     "execution_count": 13,
     "metadata": {},
     "output_type": "execute_result"
    }
   ],
   "source": [
    "df.describe()"
   ]
  },
  {
   "cell_type": "code",
   "execution_count": 14,
   "id": "974f7bc0-535a-4e69-8be3-4834d3e92396",
   "metadata": {},
   "outputs": [],
   "source": [
    "data = np.linspace(0, 100, 50)\n",
    "mean = np.mean(data)\n",
    "std = np.std(data)\n",
    "# standardize\n",
    "z = (data - mean) / std"
   ]
  },
  {
   "cell_type": "code",
   "execution_count": 15,
   "id": "96a043eb-978f-4128-8c22-6ca16600afba",
   "metadata": {},
   "outputs": [
    {
     "name": "stdout",
     "output_type": "stream",
     "text": [
      "z is [-1.69774938 -1.62845348 -1.55915759 -1.4898617  -1.4205658  -1.35126991\n",
      " -1.28197402 -1.21267813 -1.14338223 -1.07408634 -1.00479045 -0.93549455\n",
      " -0.86619866 -0.79690277 -0.72760688 -0.65831098 -0.58901509 -0.5197192\n",
      " -0.4504233  -0.38112741 -0.31183152 -0.24253563 -0.17323973 -0.10394384\n",
      " -0.03464795  0.03464795  0.10394384  0.17323973  0.24253563  0.31183152\n",
      "  0.38112741  0.4504233   0.5197192   0.58901509  0.65831098  0.72760688\n",
      "  0.79690277  0.86619866  0.93549455  1.00479045  1.07408634  1.14338223\n",
      "  1.21267813  1.28197402  1.35126991  1.4205658   1.4898617   1.55915759\n",
      "  1.62845348  1.69774938]\n",
      "----------------------------------------------------------------------------------------------------\n",
      "z_mean is 0.000\n",
      "----------------------------------------------------------------------------------------------------\n",
      "z_std is 1.0\n"
     ]
    }
   ],
   "source": [
    "print(f'z is {z}')\n",
    "print('-'*100)\n",
    "\n",
    "z_mean = np.mean(z)\n",
    "print('z_mean is {:.3f}'.format(z_mean))\n",
    "print('-'*100)\n",
    "\n",
    "z_std = np.std(z)\n",
    "print(f'z_std is {z_std}')\n"
   ]
  },
  {
   "cell_type": "code",
   "execution_count": 16,
   "id": "dbb5e740-02f3-4c61-b362-a68000d5c810",
   "metadata": {},
   "outputs": [
    {
     "data": {
      "text/plain": [
       "303.2"
      ]
     },
     "execution_count": 16,
     "metadata": {},
     "output_type": "execute_result"
    }
   ],
   "source": [
    "# arithmetic mean\n",
    "array = [295, 300, 300, 310, 311]\n",
    "np.mean(array)"
   ]
  },
  {
   "cell_type": "code",
   "execution_count": 17,
   "id": "ab77e721-18fb-402f-83de-67592a7a59b9",
   "metadata": {},
   "outputs": [
    {
     "data": {
      "text/plain": [
       "1.1450956868476592"
      ]
     },
     "execution_count": 17,
     "metadata": {},
     "output_type": "execute_result"
    }
   ],
   "source": [
    "# geometric mean\n",
    "from scipy import stats\n",
    "salary_growth = [1.05, 1.1, 1.3]\n",
    "salary_growth_mean = stats.gmean(salary_growth)\n",
    "salary_growth_mean"
   ]
  },
  {
   "cell_type": "code",
   "execution_count": 18,
   "id": "6e3b2735-6f4f-4965-9f65-027bcfef79e4",
   "metadata": {},
   "outputs": [
    {
     "data": {
      "text/plain": [
       "30.0"
      ]
     },
     "execution_count": 18,
     "metadata": {},
     "output_type": "execute_result"
    }
   ],
   "source": [
    "# harmonic mean\n",
    "v = [20, 60]\n",
    "v_mean = stats.hmean(v)\n",
    "v_mean"
   ]
  },
  {
   "cell_type": "code",
   "execution_count": 19,
   "id": "f266c5f8-67e1-4d50-acf6-e1f1e3a37fd3",
   "metadata": {},
   "outputs": [
    {
     "name": "stdout",
     "output_type": "stream",
     "text": [
      "0.0\n"
     ]
    }
   ],
   "source": [
    "a = np.array([295, 300, 300, 310, 311])\n",
    "a_mean = np.mean(a)\n",
    "deviation = a - a_mean\n",
    "deviation_sum = deviation.sum()\n",
    "print(round(deviation_sum, ndigits=3))"
   ]
  },
  {
   "cell_type": "code",
   "execution_count": 20,
   "id": "e44eb08f-8f13-4aed-a746-c610245e4335",
   "metadata": {},
   "outputs": [],
   "source": [
    "mean = 0\n",
    "variance = 1\n",
    "std = math.sqrt(variance)"
   ]
  },
  {
   "cell_type": "code",
   "execution_count": 21,
   "id": "d27b6757-2040-4312-a3b5-ce75be69d7c7",
   "metadata": {},
   "outputs": [
    {
     "data": {
      "text/plain": [
       "[<matplotlib.lines.Line2D at 0x7f7cda22ecd0>]"
      ]
     },
     "execution_count": 21,
     "metadata": {},
     "output_type": "execute_result"
    },
    {
     "data": {
      "image/png": "[encoded data removed]",
      "text/plain": [
       "<Figure size 432x288 with 1 Axes>"
      ]
     },
     "metadata": {
      "needs_background": "light"
     },
     "output_type": "display_data"
    }
   ],
   "source": [
    "x = np.linspace(mean - 3*std, mean + 3*std, 100)\n",
    "plt.plot(x, stats.norm.pdf(x, mean, std))"
   ]
  },
  {
   "cell_type": "code",
   "execution_count": 22,
   "id": "bf48d5c2-78e9-417c-9e27-6b2d80c1074a",
   "metadata": {},
   "outputs": [
    {
     "data": {
      "text/plain": [
       "[<matplotlib.lines.Line2D at 0x7f7cd997c2e0>]"
      ]
     },
     "execution_count": 22,
     "metadata": {},
     "output_type": "execute_result"
    },
    {
     "data": {
      "image/png": "[encoded data removed]",
      "text/plain": [
       "<Figure size 432x288 with 1 Axes>"
      ]
     },
     "metadata": {
      "needs_background": "light"
     },
     "output_type": "display_data"
    }
   ],
   "source": [
    "mean = 0\n",
    "variance = 1\n",
    "std2 = 0.3\n",
    "\n",
    "x = np.linspace(mean - 3*std, mean + 3*std, 1000)\n",
    "plt.plot(x, stats.norm.pdf(x, mean, std2))"
   ]
  },
  {
   "cell_type": "code",
   "execution_count": 23,
   "id": "57eb9229-b676-44d7-acef-9c674c81d729",
   "metadata": {},
   "outputs": [
    {
     "name": "stdout",
     "output_type": "stream",
     "text": [
      "mean is 0.00012163533892937737, time is 0.01s\n",
      "median is 0.0002741993046847741, time is 0.10s\n"
     ]
    }
   ],
   "source": [
    "import time\n",
    "\n",
    "randoms = np.random.randn(10**7)\n",
    "\n",
    "b_mean = time.time()\n",
    "mean = np.mean(randoms)\n",
    "a_mean = time.time()\n",
    "\n",
    "b_median = time.time()\n",
    "median = np.median(randoms)\n",
    "a_median = time.time()\n",
    "\n",
    "# cal time\n",
    "print(f'mean is {mean}, time is {(a_mean-b_mean):.2f}s')\n",
    "print(f'median is {median}, time is {(a_median-b_median):.2f}s')"
   ]
  },
  {
   "cell_type": "code",
   "execution_count": 24,
   "id": "80f9b286-2eb2-4e07-96b9-13e4167fc45f",
   "metadata": {},
   "outputs": [
    {
     "name": "stdout",
     "output_type": "stream",
     "text": [
      "[[1 2 3 1]]\n",
      "[[1 2 2 1]]\n"
     ]
    }
   ],
   "source": [
    "array = np.array([[1, 5, 3, 2],\n",
    "                  [4, 1, 3, 4],\n",
    "                  [7, 2, 1, 5],\n",
    "                  [5, 2, 4, 1]])\n",
    "mode, count = stats.mode(array, axis=0)\n",
    "print(mode)\n",
    "print(count)"
   ]
  },
  {
   "cell_type": "code",
   "execution_count": 25,
   "id": "6a48ddbb-37c4-48b4-afb4-bfa17658f67e",
   "metadata": {},
   "outputs": [
    {
     "data": {
      "text/html": [
       "<div>\n",
       "<style scoped>\n",
       "    .dataframe tbody tr th:only-of-type {\n",
       "        vertical-align: middle;\n",
       "    }\n",
       "\n",
       "    .dataframe tbody tr th {\n",
       "        vertical-align: top;\n",
       "    }\n",
       "\n",
       "    .dataframe thead th {\n",
       "        text-align: right;\n",
       "    }\n",
       "</style>\n",
       "<table border=\"1\" class=\"dataframe\">\n",
       "  <thead>\n",
       "    <tr style=\"text-align: right;\">\n",
       "      <th></th>\n",
       "      <th>name</th>\n",
       "      <th>age</th>\n",
       "      <th>rating</th>\n",
       "    </tr>\n",
       "  </thead>\n",
       "  <tbody>\n",
       "    <tr>\n",
       "      <th>0</th>\n",
       "      <td>Tom</td>\n",
       "      <td>25</td>\n",
       "      <td>4.23</td>\n",
       "    </tr>\n",
       "    <tr>\n",
       "      <th>1</th>\n",
       "      <td>James</td>\n",
       "      <td>26</td>\n",
       "      <td>3.24</td>\n",
       "    </tr>\n",
       "    <tr>\n",
       "      <th>2</th>\n",
       "      <td>Ricky</td>\n",
       "      <td>25</td>\n",
       "      <td>3.98</td>\n",
       "    </tr>\n",
       "    <tr>\n",
       "      <th>3</th>\n",
       "      <td>Vin</td>\n",
       "      <td>23</td>\n",
       "      <td>2.56</td>\n",
       "    </tr>\n",
       "    <tr>\n",
       "      <th>4</th>\n",
       "      <td>Steve</td>\n",
       "      <td>30</td>\n",
       "      <td>3.20</td>\n",
       "    </tr>\n",
       "    <tr>\n",
       "      <th>5</th>\n",
       "      <td>Smith</td>\n",
       "      <td>29</td>\n",
       "      <td>4.60</td>\n",
       "    </tr>\n",
       "    <tr>\n",
       "      <th>6</th>\n",
       "      <td>Jack</td>\n",
       "      <td>23</td>\n",
       "      <td>3.80</td>\n",
       "    </tr>\n",
       "    <tr>\n",
       "      <th>7</th>\n",
       "      <td>Lee</td>\n",
       "      <td>34</td>\n",
       "      <td>3.78</td>\n",
       "    </tr>\n",
       "    <tr>\n",
       "      <th>8</th>\n",
       "      <td>David</td>\n",
       "      <td>40</td>\n",
       "      <td>2.98</td>\n",
       "    </tr>\n",
       "    <tr>\n",
       "      <th>9</th>\n",
       "      <td>Gasper</td>\n",
       "      <td>30</td>\n",
       "      <td>4.80</td>\n",
       "    </tr>\n",
       "    <tr>\n",
       "      <th>10</th>\n",
       "      <td>Betina</td>\n",
       "      <td>51</td>\n",
       "      <td>4.10</td>\n",
       "    </tr>\n",
       "    <tr>\n",
       "      <th>11</th>\n",
       "      <td>Andres</td>\n",
       "      <td>46</td>\n",
       "      <td>3.65</td>\n",
       "    </tr>\n",
       "  </tbody>\n",
       "</table>\n",
       "</div>"
      ],
      "text/plain": [
       "      name  age  rating\n",
       "0      Tom   25    4.23\n",
       "1    James   26    3.24\n",
       "2    Ricky   25    3.98\n",
       "3      Vin   23    2.56\n",
       "4    Steve   30    3.20\n",
       "5    Smith   29    4.60\n",
       "6     Jack   23    3.80\n",
       "7      Lee   34    3.78\n",
       "8    David   40    2.98\n",
       "9   Gasper   30    4.80\n",
       "10  Betina   51    4.10\n",
       "11  Andres   46    3.65"
      ]
     },
     "execution_count": 25,
     "metadata": {},
     "output_type": "execute_result"
    }
   ],
   "source": [
    "data = {\n",
    "        'name':['Tom','James','Ricky','Vin','Steve','Smith','Jack','Lee','David','Gasper','Betina','Andres'],\n",
    "        'age':[25,26,25,23,30,29,23,34,40,30,51,46],\n",
    "        'rating':[4.23,3.24,3.98,2.56,3.20,4.6,3.8,3.78,2.98,4.80,4.10,3.65]\n",
    "}\n",
    "\n",
    "df = pd.DataFrame(data)\n",
    "df"
   ]
  },
  {
   "cell_type": "code",
   "execution_count": 26,
   "id": "202dea2a-c682-49f1-98fc-4e946376e3e4",
   "metadata": {},
   "outputs": [
    {
     "data": {
      "text/plain": [
       "Text(0, 0.5, 'rating')"
      ]
     },
     "execution_count": 26,
     "metadata": {},
     "output_type": "execute_result"
    },
    {
     "data": {
      "image/png": "[encoded data removed]",
      "text/plain": [
       "<Figure size 432x288 with 1 Axes>"
      ]
     },
     "metadata": {
      "needs_background": "light"
     },
     "output_type": "display_data"
    }
   ],
   "source": [
    "fig, ax = plt.subplots()\n",
    "\n",
    "ax.scatter(df['age'], df['rating'])\n",
    "ax.set_xlabel('age')\n",
    "ax.set_ylabel('rating')"
   ]
  },
  {
   "cell_type": "code",
   "execution_count": 27,
   "id": "e7fba0cf-9cc0-4ece-b8ee-9e443e531774",
   "metadata": {},
   "outputs": [
    {
     "data": {
      "text/html": [
       "<div>\n",
       "<style scoped>\n",
       "    .dataframe tbody tr th:only-of-type {\n",
       "        vertical-align: middle;\n",
       "    }\n",
       "\n",
       "    .dataframe tbody tr th {\n",
       "        vertical-align: top;\n",
       "    }\n",
       "\n",
       "    .dataframe thead th {\n",
       "        text-align: right;\n",
       "    }\n",
       "</style>\n",
       "<table border=\"1\" class=\"dataframe\">\n",
       "  <thead>\n",
       "    <tr style=\"text-align: right;\">\n",
       "      <th></th>\n",
       "      <th>age</th>\n",
       "      <th>rating</th>\n",
       "    </tr>\n",
       "  </thead>\n",
       "  <tbody>\n",
       "    <tr>\n",
       "      <th>age</th>\n",
       "      <td>1.000000</td>\n",
       "      <td>0.058586</td>\n",
       "    </tr>\n",
       "    <tr>\n",
       "      <th>rating</th>\n",
       "      <td>0.058586</td>\n",
       "      <td>1.000000</td>\n",
       "    </tr>\n",
       "  </tbody>\n",
       "</table>\n",
       "</div>"
      ],
      "text/plain": [
       "             age    rating\n",
       "age     1.000000  0.058586\n",
       "rating  0.058586  1.000000"
      ]
     },
     "execution_count": 27,
     "metadata": {},
     "output_type": "execute_result"
    }
   ],
   "source": [
    "df.corr()"
   ]
  },
  {
   "cell_type": "code",
   "execution_count": 28,
   "id": "2821d138-2127-4ff4-9223-966702d2eb59",
   "metadata": {},
   "outputs": [
    {
     "data": {
      "text/html": [
       "<div>\n",
       "<style scoped>\n",
       "    .dataframe tbody tr th:only-of-type {\n",
       "        vertical-align: middle;\n",
       "    }\n",
       "\n",
       "    .dataframe tbody tr th {\n",
       "        vertical-align: top;\n",
       "    }\n",
       "\n",
       "    .dataframe thead th {\n",
       "        text-align: right;\n",
       "    }\n",
       "</style>\n",
       "<table border=\"1\" class=\"dataframe\">\n",
       "  <thead>\n",
       "    <tr style=\"text-align: right;\">\n",
       "      <th></th>\n",
       "      <th>mpg</th>\n",
       "      <th>cylinders</th>\n",
       "      <th>displacement</th>\n",
       "      <th>horsepower</th>\n",
       "      <th>weight</th>\n",
       "      <th>acceleration</th>\n",
       "      <th>model_year</th>\n",
       "      <th>origin</th>\n",
       "      <th>name</th>\n",
       "    </tr>\n",
       "  </thead>\n",
       "  <tbody>\n",
       "    <tr>\n",
       "      <th>0</th>\n",
       "      <td>18.0</td>\n",
       "      <td>8</td>\n",
       "      <td>307.0</td>\n",
       "      <td>130.0</td>\n",
       "      <td>3504.0</td>\n",
       "      <td>12.0</td>\n",
       "      <td>70</td>\n",
       "      <td>1</td>\n",
       "      <td>chevrolet chevelle malibu</td>\n",
       "    </tr>\n",
       "    <tr>\n",
       "      <th>1</th>\n",
       "      <td>15.0</td>\n",
       "      <td>8</td>\n",
       "      <td>350.0</td>\n",
       "      <td>165.0</td>\n",
       "      <td>3693.0</td>\n",
       "      <td>11.5</td>\n",
       "      <td>70</td>\n",
       "      <td>1</td>\n",
       "      <td>buick skylark 320</td>\n",
       "    </tr>\n",
       "    <tr>\n",
       "      <th>2</th>\n",
       "      <td>18.0</td>\n",
       "      <td>8</td>\n",
       "      <td>318.0</td>\n",
       "      <td>150.0</td>\n",
       "      <td>3436.0</td>\n",
       "      <td>11.0</td>\n",
       "      <td>70</td>\n",
       "      <td>1</td>\n",
       "      <td>plymouth satellite</td>\n",
       "    </tr>\n",
       "    <tr>\n",
       "      <th>3</th>\n",
       "      <td>16.0</td>\n",
       "      <td>8</td>\n",
       "      <td>304.0</td>\n",
       "      <td>150.0</td>\n",
       "      <td>3433.0</td>\n",
       "      <td>12.0</td>\n",
       "      <td>70</td>\n",
       "      <td>1</td>\n",
       "      <td>amc rebel sst</td>\n",
       "    </tr>\n",
       "    <tr>\n",
       "      <th>4</th>\n",
       "      <td>17.0</td>\n",
       "      <td>8</td>\n",
       "      <td>302.0</td>\n",
       "      <td>140.0</td>\n",
       "      <td>3449.0</td>\n",
       "      <td>10.5</td>\n",
       "      <td>70</td>\n",
       "      <td>1</td>\n",
       "      <td>ford torino</td>\n",
       "    </tr>\n",
       "    <tr>\n",
       "      <th>...</th>\n",
       "      <td>...</td>\n",
       "      <td>...</td>\n",
       "      <td>...</td>\n",
       "      <td>...</td>\n",
       "      <td>...</td>\n",
       "      <td>...</td>\n",
       "      <td>...</td>\n",
       "      <td>...</td>\n",
       "      <td>...</td>\n",
       "    </tr>\n",
       "    <tr>\n",
       "      <th>393</th>\n",
       "      <td>27.0</td>\n",
       "      <td>4</td>\n",
       "      <td>140.0</td>\n",
       "      <td>86.0</td>\n",
       "      <td>2790.0</td>\n",
       "      <td>15.6</td>\n",
       "      <td>82</td>\n",
       "      <td>1</td>\n",
       "      <td>ford mustang gl</td>\n",
       "    </tr>\n",
       "    <tr>\n",
       "      <th>394</th>\n",
       "      <td>44.0</td>\n",
       "      <td>4</td>\n",
       "      <td>97.0</td>\n",
       "      <td>52.0</td>\n",
       "      <td>2130.0</td>\n",
       "      <td>24.6</td>\n",
       "      <td>82</td>\n",
       "      <td>2</td>\n",
       "      <td>vw pickup</td>\n",
       "    </tr>\n",
       "    <tr>\n",
       "      <th>395</th>\n",
       "      <td>32.0</td>\n",
       "      <td>4</td>\n",
       "      <td>135.0</td>\n",
       "      <td>84.0</td>\n",
       "      <td>2295.0</td>\n",
       "      <td>11.6</td>\n",
       "      <td>82</td>\n",
       "      <td>1</td>\n",
       "      <td>dodge rampage</td>\n",
       "    </tr>\n",
       "    <tr>\n",
       "      <th>396</th>\n",
       "      <td>28.0</td>\n",
       "      <td>4</td>\n",
       "      <td>120.0</td>\n",
       "      <td>79.0</td>\n",
       "      <td>2625.0</td>\n",
       "      <td>18.6</td>\n",
       "      <td>82</td>\n",
       "      <td>1</td>\n",
       "      <td>ford ranger</td>\n",
       "    </tr>\n",
       "    <tr>\n",
       "      <th>397</th>\n",
       "      <td>31.0</td>\n",
       "      <td>4</td>\n",
       "      <td>119.0</td>\n",
       "      <td>82.0</td>\n",
       "      <td>2720.0</td>\n",
       "      <td>19.4</td>\n",
       "      <td>82</td>\n",
       "      <td>1</td>\n",
       "      <td>chevy s-10</td>\n",
       "    </tr>\n",
       "  </tbody>\n",
       "</table>\n",
       "<p>398 rows × 9 columns</p>\n",
       "</div>"
      ],
      "text/plain": [
       "      mpg  cylinders  displacement  horsepower  weight  acceleration  \\\n",
       "0    18.0          8         307.0       130.0  3504.0          12.0   \n",
       "1    15.0          8         350.0       165.0  3693.0          11.5   \n",
       "2    18.0          8         318.0       150.0  3436.0          11.0   \n",
       "3    16.0          8         304.0       150.0  3433.0          12.0   \n",
       "4    17.0          8         302.0       140.0  3449.0          10.5   \n",
       "..    ...        ...           ...         ...     ...           ...   \n",
       "393  27.0          4         140.0        86.0  2790.0          15.6   \n",
       "394  44.0          4          97.0        52.0  2130.0          24.6   \n",
       "395  32.0          4         135.0        84.0  2295.0          11.6   \n",
       "396  28.0          4         120.0        79.0  2625.0          18.6   \n",
       "397  31.0          4         119.0        82.0  2720.0          19.4   \n",
       "\n",
       "     model_year  origin                       name  \n",
       "0            70       1  chevrolet chevelle malibu  \n",
       "1            70       1          buick skylark 320  \n",
       "2            70       1         plymouth satellite  \n",
       "3            70       1              amc rebel sst  \n",
       "4            70       1                ford torino  \n",
       "..          ...     ...                        ...  \n",
       "393          82       1            ford mustang gl  \n",
       "394          82       2                  vw pickup  \n",
       "395          82       1              dodge rampage  \n",
       "396          82       1                ford ranger  \n",
       "397          82       1                 chevy s-10  \n",
       "\n",
       "[398 rows x 9 columns]"
      ]
     },
     "execution_count": 28,
     "metadata": {},
     "output_type": "execute_result"
    }
   ],
   "source": [
    "path = 'http://archive.ics.uci.edu/ml/machine-learning-databases/auto-mpg/auto-mpg.data'\n",
    "\n",
    "df = pd.read_csv(path, delim_whitespace=True, header=None,\n",
    "        names = ['mpg', 'cylinders', 'displacement','horsepower', 'weight', 'acceleration', 'model_year', 'origin', 'name'],\n",
    "        na_values='?')\n",
    "df"
   ]
  },
  {
   "cell_type": "code",
   "execution_count": 29,
   "id": "16a1f385-9e95-4bcd-a60c-98aff3c5a82e",
   "metadata": {},
   "outputs": [
    {
     "name": "stdout",
     "output_type": "stream",
     "text": [
      "<class 'pandas.core.frame.DataFrame'>\n",
      "RangeIndex: 398 entries, 0 to 397\n",
      "Data columns (total 9 columns):\n",
      " #   Column        Non-Null Count  Dtype  \n",
      "---  ------        --------------  -----  \n",
      " 0   mpg           398 non-null    float64\n",
      " 1   cylinders     398 non-null    int64  \n",
      " 2   displacement  398 non-null    float64\n",
      " 3   horsepower    392 non-null    float64\n",
      " 4   weight        398 non-null    float64\n",
      " 5   acceleration  398 non-null    float64\n",
      " 6   model_year    398 non-null    int64  \n",
      " 7   origin        398 non-null    int64  \n",
      " 8   name          398 non-null    object \n",
      "dtypes: float64(5), int64(3), object(1)\n",
      "memory usage: 28.1+ KB\n"
     ]
    }
   ],
   "source": [
    "df.info()"
   ]
  },
  {
   "cell_type": "code",
   "execution_count": 30,
   "id": "44f8c1f5-29ef-402b-802c-19d16c9b12ee",
   "metadata": {},
   "outputs": [
    {
     "data": {
      "text/plain": [
       "mpg             0\n",
       "cylinders       0\n",
       "displacement    0\n",
       "horsepower      6\n",
       "weight          0\n",
       "acceleration    0\n",
       "model_year      0\n",
       "origin          0\n",
       "name            0\n",
       "dtype: int64"
      ]
     },
     "execution_count": 30,
     "metadata": {},
     "output_type": "execute_result"
    }
   ],
   "source": [
    "df.isnull().sum()"
   ]
  },
  {
   "cell_type": "code",
   "execution_count": 31,
   "id": "1ca2f476-b321-4049-8299-a4b467c8f219",
   "metadata": {},
   "outputs": [
    {
     "data": {
      "text/html": [
       "<div>\n",
       "<style scoped>\n",
       "    .dataframe tbody tr th:only-of-type {\n",
       "        vertical-align: middle;\n",
       "    }\n",
       "\n",
       "    .dataframe tbody tr th {\n",
       "        vertical-align: top;\n",
       "    }\n",
       "\n",
       "    .dataframe thead th {\n",
       "        text-align: right;\n",
       "    }\n",
       "</style>\n",
       "<table border=\"1\" class=\"dataframe\">\n",
       "  <thead>\n",
       "    <tr style=\"text-align: right;\">\n",
       "      <th></th>\n",
       "      <th>mpg</th>\n",
       "      <th>cylinders</th>\n",
       "      <th>displacement</th>\n",
       "      <th>horsepower</th>\n",
       "      <th>weight</th>\n",
       "      <th>acceleration</th>\n",
       "      <th>model_year</th>\n",
       "      <th>origin</th>\n",
       "    </tr>\n",
       "  </thead>\n",
       "  <tbody>\n",
       "    <tr>\n",
       "      <th>count</th>\n",
       "      <td>398.000000</td>\n",
       "      <td>398.000000</td>\n",
       "      <td>398.000000</td>\n",
       "      <td>392.000000</td>\n",
       "      <td>398.000000</td>\n",
       "      <td>398.000000</td>\n",
       "      <td>398.000000</td>\n",
       "      <td>398.000000</td>\n",
       "    </tr>\n",
       "    <tr>\n",
       "      <th>mean</th>\n",
       "      <td>23.514573</td>\n",
       "      <td>5.454774</td>\n",
       "      <td>193.425879</td>\n",
       "      <td>104.469388</td>\n",
       "      <td>2970.424623</td>\n",
       "      <td>15.568090</td>\n",
       "      <td>76.010050</td>\n",
       "      <td>1.572864</td>\n",
       "    </tr>\n",
       "    <tr>\n",
       "      <th>std</th>\n",
       "      <td>7.815984</td>\n",
       "      <td>1.701004</td>\n",
       "      <td>104.269838</td>\n",
       "      <td>38.491160</td>\n",
       "      <td>846.841774</td>\n",
       "      <td>2.757689</td>\n",
       "      <td>3.697627</td>\n",
       "      <td>0.802055</td>\n",
       "    </tr>\n",
       "    <tr>\n",
       "      <th>min</th>\n",
       "      <td>9.000000</td>\n",
       "      <td>3.000000</td>\n",
       "      <td>68.000000</td>\n",
       "      <td>46.000000</td>\n",
       "      <td>1613.000000</td>\n",
       "      <td>8.000000</td>\n",
       "      <td>70.000000</td>\n",
       "      <td>1.000000</td>\n",
       "    </tr>\n",
       "    <tr>\n",
       "      <th>25%</th>\n",
       "      <td>17.500000</td>\n",
       "      <td>4.000000</td>\n",
       "      <td>104.250000</td>\n",
       "      <td>75.000000</td>\n",
       "      <td>2223.750000</td>\n",
       "      <td>13.825000</td>\n",
       "      <td>73.000000</td>\n",
       "      <td>1.000000</td>\n",
       "    </tr>\n",
       "    <tr>\n",
       "      <th>50%</th>\n",
       "      <td>23.000000</td>\n",
       "      <td>4.000000</td>\n",
       "      <td>148.500000</td>\n",
       "      <td>93.500000</td>\n",
       "      <td>2803.500000</td>\n",
       "      <td>15.500000</td>\n",
       "      <td>76.000000</td>\n",
       "      <td>1.000000</td>\n",
       "    </tr>\n",
       "    <tr>\n",
       "      <th>75%</th>\n",
       "      <td>29.000000</td>\n",
       "      <td>8.000000</td>\n",
       "      <td>262.000000</td>\n",
       "      <td>126.000000</td>\n",
       "      <td>3608.000000</td>\n",
       "      <td>17.175000</td>\n",
       "      <td>79.000000</td>\n",
       "      <td>2.000000</td>\n",
       "    </tr>\n",
       "    <tr>\n",
       "      <th>max</th>\n",
       "      <td>46.600000</td>\n",
       "      <td>8.000000</td>\n",
       "      <td>455.000000</td>\n",
       "      <td>230.000000</td>\n",
       "      <td>5140.000000</td>\n",
       "      <td>24.800000</td>\n",
       "      <td>82.000000</td>\n",
       "      <td>3.000000</td>\n",
       "    </tr>\n",
       "  </tbody>\n",
       "</table>\n",
       "</div>"
      ],
      "text/plain": [
       "              mpg   cylinders  displacement  horsepower       weight  \\\n",
       "count  398.000000  398.000000    398.000000  392.000000   398.000000   \n",
       "mean    23.514573    5.454774    193.425879  104.469388  2970.424623   \n",
       "std      7.815984    1.701004    104.269838   38.491160   846.841774   \n",
       "min      9.000000    3.000000     68.000000   46.000000  1613.000000   \n",
       "25%     17.500000    4.000000    104.250000   75.000000  2223.750000   \n",
       "50%     23.000000    4.000000    148.500000   93.500000  2803.500000   \n",
       "75%     29.000000    8.000000    262.000000  126.000000  3608.000000   \n",
       "max     46.600000    8.000000    455.000000  230.000000  5140.000000   \n",
       "\n",
       "       acceleration  model_year      origin  \n",
       "count    398.000000  398.000000  398.000000  \n",
       "mean      15.568090   76.010050    1.572864  \n",
       "std        2.757689    3.697627    0.802055  \n",
       "min        8.000000   70.000000    1.000000  \n",
       "25%       13.825000   73.000000    1.000000  \n",
       "50%       15.500000   76.000000    1.000000  \n",
       "75%       17.175000   79.000000    2.000000  \n",
       "max       24.800000   82.000000    3.000000  "
      ]
     },
     "execution_count": 31,
     "metadata": {},
     "output_type": "execute_result"
    }
   ],
   "source": [
    "df.describe()"
   ]
  },
  {
   "cell_type": "code",
   "execution_count": 32,
   "id": "42fcc4ec-96e1-4419-8a70-81e83707df42",
   "metadata": {},
   "outputs": [
    {
     "data": {
      "text/html": [
       "<div>\n",
       "<style scoped>\n",
       "    .dataframe tbody tr th:only-of-type {\n",
       "        vertical-align: middle;\n",
       "    }\n",
       "\n",
       "    .dataframe tbody tr th {\n",
       "        vertical-align: top;\n",
       "    }\n",
       "\n",
       "    .dataframe thead th {\n",
       "        text-align: right;\n",
       "    }\n",
       "</style>\n",
       "<table border=\"1\" class=\"dataframe\">\n",
       "  <thead>\n",
       "    <tr style=\"text-align: right;\">\n",
       "      <th></th>\n",
       "      <th>mpg</th>\n",
       "      <th>cylinders</th>\n",
       "      <th>displacement</th>\n",
       "      <th>horsepower</th>\n",
       "      <th>weight</th>\n",
       "      <th>acceleration</th>\n",
       "      <th>model_year</th>\n",
       "      <th>origin</th>\n",
       "    </tr>\n",
       "  </thead>\n",
       "  <tbody>\n",
       "    <tr>\n",
       "      <th>mpg</th>\n",
       "      <td>1.000000</td>\n",
       "      <td>-0.775396</td>\n",
       "      <td>-0.804203</td>\n",
       "      <td>-0.778427</td>\n",
       "      <td>-0.831741</td>\n",
       "      <td>0.420289</td>\n",
       "      <td>0.579267</td>\n",
       "      <td>0.563450</td>\n",
       "    </tr>\n",
       "    <tr>\n",
       "      <th>cylinders</th>\n",
       "      <td>-0.775396</td>\n",
       "      <td>1.000000</td>\n",
       "      <td>0.950721</td>\n",
       "      <td>0.842983</td>\n",
       "      <td>0.896017</td>\n",
       "      <td>-0.505419</td>\n",
       "      <td>-0.348746</td>\n",
       "      <td>-0.562543</td>\n",
       "    </tr>\n",
       "    <tr>\n",
       "      <th>displacement</th>\n",
       "      <td>-0.804203</td>\n",
       "      <td>0.950721</td>\n",
       "      <td>1.000000</td>\n",
       "      <td>0.897257</td>\n",
       "      <td>0.932824</td>\n",
       "      <td>-0.543684</td>\n",
       "      <td>-0.370164</td>\n",
       "      <td>-0.609409</td>\n",
       "    </tr>\n",
       "    <tr>\n",
       "      <th>horsepower</th>\n",
       "      <td>-0.778427</td>\n",
       "      <td>0.842983</td>\n",
       "      <td>0.897257</td>\n",
       "      <td>1.000000</td>\n",
       "      <td>0.864538</td>\n",
       "      <td>-0.689196</td>\n",
       "      <td>-0.416361</td>\n",
       "      <td>-0.455171</td>\n",
       "    </tr>\n",
       "    <tr>\n",
       "      <th>weight</th>\n",
       "      <td>-0.831741</td>\n",
       "      <td>0.896017</td>\n",
       "      <td>0.932824</td>\n",
       "      <td>0.864538</td>\n",
       "      <td>1.000000</td>\n",
       "      <td>-0.417457</td>\n",
       "      <td>-0.306564</td>\n",
       "      <td>-0.581024</td>\n",
       "    </tr>\n",
       "    <tr>\n",
       "      <th>acceleration</th>\n",
       "      <td>0.420289</td>\n",
       "      <td>-0.505419</td>\n",
       "      <td>-0.543684</td>\n",
       "      <td>-0.689196</td>\n",
       "      <td>-0.417457</td>\n",
       "      <td>1.000000</td>\n",
       "      <td>0.288137</td>\n",
       "      <td>0.205873</td>\n",
       "    </tr>\n",
       "    <tr>\n",
       "      <th>model_year</th>\n",
       "      <td>0.579267</td>\n",
       "      <td>-0.348746</td>\n",
       "      <td>-0.370164</td>\n",
       "      <td>-0.416361</td>\n",
       "      <td>-0.306564</td>\n",
       "      <td>0.288137</td>\n",
       "      <td>1.000000</td>\n",
       "      <td>0.180662</td>\n",
       "    </tr>\n",
       "    <tr>\n",
       "      <th>origin</th>\n",
       "      <td>0.563450</td>\n",
       "      <td>-0.562543</td>\n",
       "      <td>-0.609409</td>\n",
       "      <td>-0.455171</td>\n",
       "      <td>-0.581024</td>\n",
       "      <td>0.205873</td>\n",
       "      <td>0.180662</td>\n",
       "      <td>1.000000</td>\n",
       "    </tr>\n",
       "  </tbody>\n",
       "</table>\n",
       "</div>"
      ],
      "text/plain": [
       "                   mpg  cylinders  displacement  horsepower    weight  \\\n",
       "mpg           1.000000  -0.775396     -0.804203   -0.778427 -0.831741   \n",
       "cylinders    -0.775396   1.000000      0.950721    0.842983  0.896017   \n",
       "displacement -0.804203   0.950721      1.000000    0.897257  0.932824   \n",
       "horsepower   -0.778427   0.842983      0.897257    1.000000  0.864538   \n",
       "weight       -0.831741   0.896017      0.932824    0.864538  1.000000   \n",
       "acceleration  0.420289  -0.505419     -0.543684   -0.689196 -0.417457   \n",
       "model_year    0.579267  -0.348746     -0.370164   -0.416361 -0.306564   \n",
       "origin        0.563450  -0.562543     -0.609409   -0.455171 -0.581024   \n",
       "\n",
       "              acceleration  model_year    origin  \n",
       "mpg               0.420289    0.579267  0.563450  \n",
       "cylinders        -0.505419   -0.348746 -0.562543  \n",
       "displacement     -0.543684   -0.370164 -0.609409  \n",
       "horsepower       -0.689196   -0.416361 -0.455171  \n",
       "weight           -0.417457   -0.306564 -0.581024  \n",
       "acceleration      1.000000    0.288137  0.205873  \n",
       "model_year        0.288137    1.000000  0.180662  \n",
       "origin            0.205873    0.180662  1.000000  "
      ]
     },
     "execution_count": 32,
     "metadata": {},
     "output_type": "execute_result"
    }
   ],
   "source": [
    "corr = df.corr()\n",
    "df.corr()"
   ]
  },
  {
   "cell_type": "code",
   "execution_count": 33,
   "id": "791f6eb9-790b-454a-b149-a2c0eacea779",
   "metadata": {},
   "outputs": [
    {
     "data": {
      "text/plain": [
       "<AxesSubplot:>"
      ]
     },
     "execution_count": 33,
     "metadata": {},
     "output_type": "execute_result"
    },
    {
     "data": {
      "image/png": "[encoded data removed]",
      "text/plain": [
       "<Figure size 432x288 with 2 Axes>"
      ]
     },
     "metadata": {
      "needs_background": "light"
     },
     "output_type": "display_data"
    }
   ],
   "source": [
    "sns.heatmap(corr)"
   ]
  },
  {
   "cell_type": "code",
   "execution_count": 34,
   "id": "a897b0ef-829e-4dae-8511-d2aee0add7a1",
   "metadata": {},
   "outputs": [
    {
     "data": {
      "text/plain": [
       "-0.8317409332443351"
      ]
     },
     "execution_count": 34,
     "metadata": {},
     "output_type": "execute_result"
    }
   ],
   "source": [
    "df['mpg'].corr(df['weight'])"
   ]
  },
  {
   "cell_type": "code",
   "execution_count": 35,
   "id": "010c3af1-4918-4c9f-b13a-fe37e26e64cd",
   "metadata": {},
   "outputs": [
    {
     "data": {
      "text/plain": [
       "<seaborn.axisgrid.FacetGrid at 0x7f7cd4b8e070>"
      ]
     },
     "execution_count": 35,
     "metadata": {},
     "output_type": "execute_result"
    },
    {
     "data": {
      "image/png": "[encoded data removed]",
      "text/plain": [
       "<Figure size 360x360 with 1 Axes>"
      ]
     },
     "metadata": {
      "needs_background": "light"
     },
     "output_type": "display_data"
    }
   ],
   "source": [
    "sns.displot(df['horsepower'])"
   ]
  },
  {
   "cell_type": "code",
   "execution_count": 36,
   "id": "64413039-898a-4d25-b9b4-af17d2f1abf0",
   "metadata": {},
   "outputs": [],
   "source": [
    "# sns.pairplot(df)"
   ]
  },
  {
   "cell_type": "code",
   "execution_count": 37,
   "id": "551e5bf1-0602-465e-80ef-fa8467656dc9",
   "metadata": {},
   "outputs": [],
   "source": [
    "# sns.pairplot(df[['cylinders','displacement','horsepower','weight']])"
   ]
  },
  {
   "cell_type": "code",
   "execution_count": 38,
   "id": "c38c4230-cf78-4833-be09-7e69fb934587",
   "metadata": {},
   "outputs": [],
   "source": [
    "df = pd.read_csv('dataset/house_info.csv', thousands=',')"
   ]
  },
  {
   "cell_type": "code",
   "execution_count": 39,
   "id": "dc793e2e-a8d1-4291-b58e-2c9716423b47",
   "metadata": {},
   "outputs": [
    {
     "data": {
      "text/html": [
       "<div>\n",
       "<style scoped>\n",
       "    .dataframe tbody tr th:only-of-type {\n",
       "        vertical-align: middle;\n",
       "    }\n",
       "\n",
       "    .dataframe tbody tr th {\n",
       "        vertical-align: top;\n",
       "    }\n",
       "\n",
       "    .dataframe thead th {\n",
       "        text-align: right;\n",
       "    }\n",
       "</style>\n",
       "<table border=\"1\" class=\"dataframe\">\n",
       "  <thead>\n",
       "    <tr style=\"text-align: right;\">\n",
       "      <th></th>\n",
       "      <th>price</th>\n",
       "      <th>tsubo</th>\n",
       "      <th>tsubo_su</th>\n",
       "      <th>kenpei</th>\n",
       "      <th>building</th>\n",
       "      <th>age</th>\n",
       "      <th>birth</th>\n",
       "      <th>area</th>\n",
       "    </tr>\n",
       "  </thead>\n",
       "  <tbody>\n",
       "    <tr>\n",
       "      <th>0</th>\n",
       "      <td>47400000</td>\n",
       "      <td>563000</td>\n",
       "      <td>44.69</td>\n",
       "      <td>0.834</td>\n",
       "      <td>482000</td>\n",
       "      <td>30</td>\n",
       "      <td>1986</td>\n",
       "      <td>A</td>\n",
       "    </tr>\n",
       "    <tr>\n",
       "      <th>1</th>\n",
       "      <td>60300000</td>\n",
       "      <td>694000</td>\n",
       "      <td>41.74</td>\n",
       "      <td>0.759</td>\n",
       "      <td>518000</td>\n",
       "      <td>36</td>\n",
       "      <td>1980</td>\n",
       "      <td>A</td>\n",
       "    </tr>\n",
       "    <tr>\n",
       "      <th>2</th>\n",
       "      <td>53700000</td>\n",
       "      <td>744000</td>\n",
       "      <td>42.89</td>\n",
       "      <td>0.955</td>\n",
       "      <td>384000</td>\n",
       "      <td>38</td>\n",
       "      <td>1978</td>\n",
       "      <td>A</td>\n",
       "    </tr>\n",
       "    <tr>\n",
       "      <th>3</th>\n",
       "      <td>29300000</td>\n",
       "      <td>613000</td>\n",
       "      <td>37.87</td>\n",
       "      <td>0.892</td>\n",
       "      <td>440000</td>\n",
       "      <td>42</td>\n",
       "      <td>1974</td>\n",
       "      <td>C</td>\n",
       "    </tr>\n",
       "    <tr>\n",
       "      <th>4</th>\n",
       "      <td>56200000</td>\n",
       "      <td>717000</td>\n",
       "      <td>38.87</td>\n",
       "      <td>1.005</td>\n",
       "      <td>504000</td>\n",
       "      <td>39</td>\n",
       "      <td>1977</td>\n",
       "      <td>A</td>\n",
       "    </tr>\n",
       "  </tbody>\n",
       "</table>\n",
       "</div>"
      ],
      "text/plain": [
       "      price   tsubo  tsubo_su  kenpei  building  age  birth area\n",
       "0  47400000  563000     44.69   0.834    482000   30   1986    A\n",
       "1  60300000  694000     41.74   0.759    518000   36   1980    A\n",
       "2  53700000  744000     42.89   0.955    384000   38   1978    A\n",
       "3  29300000  613000     37.87   0.892    440000   42   1974    C\n",
       "4  56200000  717000     38.87   1.005    504000   39   1977    A"
      ]
     },
     "execution_count": 39,
     "metadata": {},
     "output_type": "execute_result"
    }
   ],
   "source": [
    "df.head()"
   ]
  },
  {
   "cell_type": "code",
   "execution_count": 40,
   "id": "367cdd18-859e-4421-9260-afa7ed16ad73",
   "metadata": {},
   "outputs": [
    {
     "data": {
      "text/html": [
       "<div>\n",
       "<style scoped>\n",
       "    .dataframe tbody tr th:only-of-type {\n",
       "        vertical-align: middle;\n",
       "    }\n",
       "\n",
       "    .dataframe tbody tr th {\n",
       "        vertical-align: top;\n",
       "    }\n",
       "\n",
       "    .dataframe thead th {\n",
       "        text-align: right;\n",
       "    }\n",
       "</style>\n",
       "<table border=\"1\" class=\"dataframe\">\n",
       "  <thead>\n",
       "    <tr style=\"text-align: right;\">\n",
       "      <th></th>\n",
       "      <th>price</th>\n",
       "      <th>tsubo</th>\n",
       "      <th>tsubo_su</th>\n",
       "      <th>kenpei</th>\n",
       "      <th>building</th>\n",
       "      <th>age</th>\n",
       "      <th>birth</th>\n",
       "      <th>area</th>\n",
       "    </tr>\n",
       "  </thead>\n",
       "  <tbody>\n",
       "    <tr>\n",
       "      <th>495</th>\n",
       "      <td>55000000</td>\n",
       "      <td>632000</td>\n",
       "      <td>36.90</td>\n",
       "      <td>0.855</td>\n",
       "      <td>457000</td>\n",
       "      <td>47</td>\n",
       "      <td>1969</td>\n",
       "      <td>A</td>\n",
       "    </tr>\n",
       "    <tr>\n",
       "      <th>496</th>\n",
       "      <td>40700000</td>\n",
       "      <td>712000</td>\n",
       "      <td>31.26</td>\n",
       "      <td>0.941</td>\n",
       "      <td>468000</td>\n",
       "      <td>43</td>\n",
       "      <td>1973</td>\n",
       "      <td>B</td>\n",
       "    </tr>\n",
       "    <tr>\n",
       "      <th>497</th>\n",
       "      <td>55600000</td>\n",
       "      <td>773000</td>\n",
       "      <td>39.71</td>\n",
       "      <td>0.855</td>\n",
       "      <td>369000</td>\n",
       "      <td>36</td>\n",
       "      <td>1980</td>\n",
       "      <td>A</td>\n",
       "    </tr>\n",
       "    <tr>\n",
       "      <th>498</th>\n",
       "      <td>51500000</td>\n",
       "      <td>677000</td>\n",
       "      <td>37.22</td>\n",
       "      <td>0.847</td>\n",
       "      <td>489000</td>\n",
       "      <td>47</td>\n",
       "      <td>1969</td>\n",
       "      <td>A</td>\n",
       "    </tr>\n",
       "    <tr>\n",
       "      <th>499</th>\n",
       "      <td>48200000</td>\n",
       "      <td>611000</td>\n",
       "      <td>47.19</td>\n",
       "      <td>0.751</td>\n",
       "      <td>495000</td>\n",
       "      <td>37</td>\n",
       "      <td>1979</td>\n",
       "      <td>B</td>\n",
       "    </tr>\n",
       "  </tbody>\n",
       "</table>\n",
       "</div>"
      ],
      "text/plain": [
       "        price   tsubo  tsubo_su  kenpei  building  age  birth area\n",
       "495  55000000  632000     36.90   0.855    457000   47   1969    A\n",
       "496  40700000  712000     31.26   0.941    468000   43   1973    B\n",
       "497  55600000  773000     39.71   0.855    369000   36   1980    A\n",
       "498  51500000  677000     37.22   0.847    489000   47   1969    A\n",
       "499  48200000  611000     47.19   0.751    495000   37   1979    B"
      ]
     },
     "execution_count": 40,
     "metadata": {},
     "output_type": "execute_result"
    }
   ],
   "source": [
    "df.tail()"
   ]
  },
  {
   "cell_type": "code",
   "execution_count": 41,
   "id": "43f3b653-1165-4182-a27e-7734930effba",
   "metadata": {},
   "outputs": [
    {
     "name": "stdout",
     "output_type": "stream",
     "text": [
      "<class 'pandas.core.frame.DataFrame'>\n",
      "RangeIndex: 500 entries, 0 to 499\n",
      "Data columns (total 8 columns):\n",
      " #   Column    Non-Null Count  Dtype  \n",
      "---  ------    --------------  -----  \n",
      " 0   price     500 non-null    int64  \n",
      " 1   tsubo     500 non-null    int64  \n",
      " 2   tsubo_su  500 non-null    float64\n",
      " 3   kenpei    500 non-null    float64\n",
      " 4   building  500 non-null    int64  \n",
      " 5   age       500 non-null    int64  \n",
      " 6   birth     500 non-null    int64  \n",
      " 7   area      500 non-null    object \n",
      "dtypes: float64(2), int64(5), object(1)\n",
      "memory usage: 31.4+ KB\n"
     ]
    }
   ],
   "source": [
    "df.info()"
   ]
  },
  {
   "cell_type": "code",
   "execution_count": 42,
   "id": "b30c40b1-9262-4f10-8269-240a03c7c8ed",
   "metadata": {},
   "outputs": [
    {
     "data": {
      "text/html": [
       "<div>\n",
       "<style scoped>\n",
       "    .dataframe tbody tr th:only-of-type {\n",
       "        vertical-align: middle;\n",
       "    }\n",
       "\n",
       "    .dataframe tbody tr th {\n",
       "        vertical-align: top;\n",
       "    }\n",
       "\n",
       "    .dataframe thead th {\n",
       "        text-align: right;\n",
       "    }\n",
       "</style>\n",
       "<table border=\"1\" class=\"dataframe\">\n",
       "  <thead>\n",
       "    <tr style=\"text-align: right;\">\n",
       "      <th></th>\n",
       "      <th>price</th>\n",
       "      <th>tsubo</th>\n",
       "      <th>tsubo_su</th>\n",
       "      <th>kenpei</th>\n",
       "      <th>building</th>\n",
       "      <th>age</th>\n",
       "      <th>birth</th>\n",
       "      <th>area</th>\n",
       "    </tr>\n",
       "  </thead>\n",
       "  <tbody>\n",
       "    <tr>\n",
       "      <th>count</th>\n",
       "      <td>5.000000e+02</td>\n",
       "      <td>500.00000</td>\n",
       "      <td>500.000000</td>\n",
       "      <td>500.000000</td>\n",
       "      <td>500.000000</td>\n",
       "      <td>500.000000</td>\n",
       "      <td>500.000000</td>\n",
       "      <td>500</td>\n",
       "    </tr>\n",
       "    <tr>\n",
       "      <th>unique</th>\n",
       "      <td>NaN</td>\n",
       "      <td>NaN</td>\n",
       "      <td>NaN</td>\n",
       "      <td>NaN</td>\n",
       "      <td>NaN</td>\n",
       "      <td>NaN</td>\n",
       "      <td>NaN</td>\n",
       "      <td>4</td>\n",
       "    </tr>\n",
       "    <tr>\n",
       "      <th>top</th>\n",
       "      <td>NaN</td>\n",
       "      <td>NaN</td>\n",
       "      <td>NaN</td>\n",
       "      <td>NaN</td>\n",
       "      <td>NaN</td>\n",
       "      <td>NaN</td>\n",
       "      <td>NaN</td>\n",
       "      <td>A</td>\n",
       "    </tr>\n",
       "    <tr>\n",
       "      <th>freq</th>\n",
       "      <td>NaN</td>\n",
       "      <td>NaN</td>\n",
       "      <td>NaN</td>\n",
       "      <td>NaN</td>\n",
       "      <td>NaN</td>\n",
       "      <td>NaN</td>\n",
       "      <td>NaN</td>\n",
       "      <td>279</td>\n",
       "    </tr>\n",
       "    <tr>\n",
       "      <th>mean</th>\n",
       "      <td>4.969820e+07</td>\n",
       "      <td>647582.00000</td>\n",
       "      <td>40.418260</td>\n",
       "      <td>0.852584</td>\n",
       "      <td>450258.000000</td>\n",
       "      <td>40.156000</td>\n",
       "      <td>1975.844000</td>\n",
       "      <td>NaN</td>\n",
       "    </tr>\n",
       "    <tr>\n",
       "      <th>std</th>\n",
       "      <td>8.426389e+06</td>\n",
       "      <td>80350.10613</td>\n",
       "      <td>5.168393</td>\n",
       "      <td>0.050790</td>\n",
       "      <td>39636.214438</td>\n",
       "      <td>4.000459</td>\n",
       "      <td>4.000459</td>\n",
       "      <td>NaN</td>\n",
       "    </tr>\n",
       "    <tr>\n",
       "      <th>min</th>\n",
       "      <td>2.370000e+07</td>\n",
       "      <td>397000.00000</td>\n",
       "      <td>28.310000</td>\n",
       "      <td>0.674000</td>\n",
       "      <td>336000.000000</td>\n",
       "      <td>29.000000</td>\n",
       "      <td>1964.000000</td>\n",
       "      <td>NaN</td>\n",
       "    </tr>\n",
       "    <tr>\n",
       "      <th>25%</th>\n",
       "      <td>4.410000e+07</td>\n",
       "      <td>592750.00000</td>\n",
       "      <td>36.687500</td>\n",
       "      <td>0.818000</td>\n",
       "      <td>424000.000000</td>\n",
       "      <td>37.000000</td>\n",
       "      <td>1973.000000</td>\n",
       "      <td>NaN</td>\n",
       "    </tr>\n",
       "    <tr>\n",
       "      <th>50%</th>\n",
       "      <td>4.935000e+07</td>\n",
       "      <td>648000.00000</td>\n",
       "      <td>40.450000</td>\n",
       "      <td>0.850000</td>\n",
       "      <td>451000.000000</td>\n",
       "      <td>40.000000</td>\n",
       "      <td>1976.000000</td>\n",
       "      <td>NaN</td>\n",
       "    </tr>\n",
       "    <tr>\n",
       "      <th>75%</th>\n",
       "      <td>5.552500e+07</td>\n",
       "      <td>704250.00000</td>\n",
       "      <td>43.760000</td>\n",
       "      <td>0.886000</td>\n",
       "      <td>478000.000000</td>\n",
       "      <td>43.000000</td>\n",
       "      <td>1979.000000</td>\n",
       "      <td>NaN</td>\n",
       "    </tr>\n",
       "    <tr>\n",
       "      <th>max</th>\n",
       "      <td>7.100000e+07</td>\n",
       "      <td>889000.00000</td>\n",
       "      <td>60.860000</td>\n",
       "      <td>1.005000</td>\n",
       "      <td>542000.000000</td>\n",
       "      <td>52.000000</td>\n",
       "      <td>1987.000000</td>\n",
       "      <td>NaN</td>\n",
       "    </tr>\n",
       "  </tbody>\n",
       "</table>\n",
       "</div>"
      ],
      "text/plain": [
       "               price         tsubo    tsubo_su      kenpei       building  \\\n",
       "count   5.000000e+02     500.00000  500.000000  500.000000     500.000000   \n",
       "unique           NaN           NaN         NaN         NaN            NaN   \n",
       "top              NaN           NaN         NaN         NaN            NaN   \n",
       "freq             NaN           NaN         NaN         NaN            NaN   \n",
       "mean    4.969820e+07  647582.00000   40.418260    0.852584  450258.000000   \n",
       "std     8.426389e+06   80350.10613    5.168393    0.050790   39636.214438   \n",
       "min     2.370000e+07  397000.00000   28.310000    0.674000  336000.000000   \n",
       "25%     4.410000e+07  592750.00000   36.687500    0.818000  424000.000000   \n",
       "50%     4.935000e+07  648000.00000   40.450000    0.850000  451000.000000   \n",
       "75%     5.552500e+07  704250.00000   43.760000    0.886000  478000.000000   \n",
       "max     7.100000e+07  889000.00000   60.860000    1.005000  542000.000000   \n",
       "\n",
       "               age        birth area  \n",
       "count   500.000000   500.000000  500  \n",
       "unique         NaN          NaN    4  \n",
       "top            NaN          NaN    A  \n",
       "freq           NaN          NaN  279  \n",
       "mean     40.156000  1975.844000  NaN  \n",
       "std       4.000459     4.000459  NaN  \n",
       "min      29.000000  1964.000000  NaN  \n",
       "25%      37.000000  1973.000000  NaN  \n",
       "50%      40.000000  1976.000000  NaN  \n",
       "75%      43.000000  1979.000000  NaN  \n",
       "max      52.000000  1987.000000  NaN  "
      ]
     },
     "execution_count": 42,
     "metadata": {},
     "output_type": "execute_result"
    }
   ],
   "source": [
    "df.describe(include='all')"
   ]
  },
  {
   "cell_type": "code",
   "execution_count": 43,
   "id": "e7e7c7d1-20a5-4c5e-8f7b-c9d07d86a851",
   "metadata": {},
   "outputs": [
    {
     "data": {
      "text/plain": [
       "Index(['price', 'tsubo', 'tsubo_su', 'kenpei', 'building', 'age', 'birth',\n",
       "       'area'],\n",
       "      dtype='object')"
      ]
     },
     "execution_count": 43,
     "metadata": {},
     "output_type": "execute_result"
    }
   ],
   "source": [
    "df.columns"
   ]
  },
  {
   "cell_type": "code",
   "execution_count": 44,
   "id": "ea552904-603a-4bdd-b6a8-abe1959ea0e1",
   "metadata": {},
   "outputs": [
    {
     "data": {
      "text/html": [
       "<div>\n",
       "<style scoped>\n",
       "    .dataframe tbody tr th:only-of-type {\n",
       "        vertical-align: middle;\n",
       "    }\n",
       "\n",
       "    .dataframe tbody tr th {\n",
       "        vertical-align: top;\n",
       "    }\n",
       "\n",
       "    .dataframe thead th {\n",
       "        text-align: right;\n",
       "    }\n",
       "</style>\n",
       "<table border=\"1\" class=\"dataframe\">\n",
       "  <thead>\n",
       "    <tr style=\"text-align: right;\">\n",
       "      <th></th>\n",
       "      <th>price</th>\n",
       "      <th>tsubo</th>\n",
       "      <th>tsubo_su</th>\n",
       "      <th>kenpei</th>\n",
       "      <th>building</th>\n",
       "      <th>age</th>\n",
       "      <th>birth</th>\n",
       "      <th>area</th>\n",
       "    </tr>\n",
       "  </thead>\n",
       "  <tbody>\n",
       "    <tr>\n",
       "      <th>2</th>\n",
       "      <td>53700000</td>\n",
       "      <td>744000</td>\n",
       "      <td>42.89</td>\n",
       "      <td>0.955</td>\n",
       "      <td>384000</td>\n",
       "      <td>38</td>\n",
       "      <td>1978</td>\n",
       "      <td>A</td>\n",
       "    </tr>\n",
       "  </tbody>\n",
       "</table>\n",
       "</div>"
      ],
      "text/plain": [
       "      price   tsubo  tsubo_su  kenpei  building  age  birth area\n",
       "2  53700000  744000     42.89   0.955    384000   38   1978    A"
      ]
     },
     "execution_count": 44,
     "metadata": {},
     "output_type": "execute_result"
    }
   ],
   "source": [
    "df.iloc[2:3]"
   ]
  },
  {
   "cell_type": "code",
   "execution_count": 45,
   "id": "465d0569-b789-4f36-bbd8-d8f935fe14e1",
   "metadata": {},
   "outputs": [
    {
     "data": {
      "text/html": [
       "<div>\n",
       "<style scoped>\n",
       "    .dataframe tbody tr th:only-of-type {\n",
       "        vertical-align: middle;\n",
       "    }\n",
       "\n",
       "    .dataframe tbody tr th {\n",
       "        vertical-align: top;\n",
       "    }\n",
       "\n",
       "    .dataframe thead th {\n",
       "        text-align: right;\n",
       "    }\n",
       "</style>\n",
       "<table border=\"1\" class=\"dataframe\">\n",
       "  <thead>\n",
       "    <tr style=\"text-align: right;\">\n",
       "      <th></th>\n",
       "      <th>price</th>\n",
       "      <th>tsubo</th>\n",
       "      <th>tsubo_su</th>\n",
       "      <th>kenpei</th>\n",
       "      <th>building</th>\n",
       "      <th>age</th>\n",
       "      <th>birth</th>\n",
       "      <th>area</th>\n",
       "    </tr>\n",
       "  </thead>\n",
       "  <tbody>\n",
       "    <tr>\n",
       "      <th>0</th>\n",
       "      <td>47400000</td>\n",
       "      <td>563000</td>\n",
       "      <td>44.69</td>\n",
       "      <td>0.834</td>\n",
       "      <td>482000</td>\n",
       "      <td>30</td>\n",
       "      <td>1986</td>\n",
       "      <td>A</td>\n",
       "    </tr>\n",
       "    <tr>\n",
       "      <th>1</th>\n",
       "      <td>60300000</td>\n",
       "      <td>694000</td>\n",
       "      <td>41.74</td>\n",
       "      <td>0.759</td>\n",
       "      <td>518000</td>\n",
       "      <td>36</td>\n",
       "      <td>1980</td>\n",
       "      <td>A</td>\n",
       "    </tr>\n",
       "    <tr>\n",
       "      <th>2</th>\n",
       "      <td>53700000</td>\n",
       "      <td>744000</td>\n",
       "      <td>42.89</td>\n",
       "      <td>0.955</td>\n",
       "      <td>384000</td>\n",
       "      <td>38</td>\n",
       "      <td>1978</td>\n",
       "      <td>A</td>\n",
       "    </tr>\n",
       "    <tr>\n",
       "      <th>4</th>\n",
       "      <td>56200000</td>\n",
       "      <td>717000</td>\n",
       "      <td>38.87</td>\n",
       "      <td>1.005</td>\n",
       "      <td>504000</td>\n",
       "      <td>39</td>\n",
       "      <td>1977</td>\n",
       "      <td>A</td>\n",
       "    </tr>\n",
       "    <tr>\n",
       "      <th>7</th>\n",
       "      <td>66200000</td>\n",
       "      <td>750000</td>\n",
       "      <td>36.49</td>\n",
       "      <td>0.834</td>\n",
       "      <td>396000</td>\n",
       "      <td>43</td>\n",
       "      <td>1973</td>\n",
       "      <td>A</td>\n",
       "    </tr>\n",
       "    <tr>\n",
       "      <th>...</th>\n",
       "      <td>...</td>\n",
       "      <td>...</td>\n",
       "      <td>...</td>\n",
       "      <td>...</td>\n",
       "      <td>...</td>\n",
       "      <td>...</td>\n",
       "      <td>...</td>\n",
       "      <td>...</td>\n",
       "    </tr>\n",
       "    <tr>\n",
       "      <th>491</th>\n",
       "      <td>50800000</td>\n",
       "      <td>703000</td>\n",
       "      <td>43.11</td>\n",
       "      <td>0.811</td>\n",
       "      <td>502000</td>\n",
       "      <td>47</td>\n",
       "      <td>1969</td>\n",
       "      <td>A</td>\n",
       "    </tr>\n",
       "    <tr>\n",
       "      <th>493</th>\n",
       "      <td>65800000</td>\n",
       "      <td>668000</td>\n",
       "      <td>47.62</td>\n",
       "      <td>0.798</td>\n",
       "      <td>461000</td>\n",
       "      <td>39</td>\n",
       "      <td>1977</td>\n",
       "      <td>A</td>\n",
       "    </tr>\n",
       "    <tr>\n",
       "      <th>495</th>\n",
       "      <td>55000000</td>\n",
       "      <td>632000</td>\n",
       "      <td>36.90</td>\n",
       "      <td>0.855</td>\n",
       "      <td>457000</td>\n",
       "      <td>47</td>\n",
       "      <td>1969</td>\n",
       "      <td>A</td>\n",
       "    </tr>\n",
       "    <tr>\n",
       "      <th>497</th>\n",
       "      <td>55600000</td>\n",
       "      <td>773000</td>\n",
       "      <td>39.71</td>\n",
       "      <td>0.855</td>\n",
       "      <td>369000</td>\n",
       "      <td>36</td>\n",
       "      <td>1980</td>\n",
       "      <td>A</td>\n",
       "    </tr>\n",
       "    <tr>\n",
       "      <th>498</th>\n",
       "      <td>51500000</td>\n",
       "      <td>677000</td>\n",
       "      <td>37.22</td>\n",
       "      <td>0.847</td>\n",
       "      <td>489000</td>\n",
       "      <td>47</td>\n",
       "      <td>1969</td>\n",
       "      <td>A</td>\n",
       "    </tr>\n",
       "  </tbody>\n",
       "</table>\n",
       "<p>279 rows × 8 columns</p>\n",
       "</div>"
      ],
      "text/plain": [
       "        price   tsubo  tsubo_su  kenpei  building  age  birth area\n",
       "0    47400000  563000     44.69   0.834    482000   30   1986    A\n",
       "1    60300000  694000     41.74   0.759    518000   36   1980    A\n",
       "2    53700000  744000     42.89   0.955    384000   38   1978    A\n",
       "4    56200000  717000     38.87   1.005    504000   39   1977    A\n",
       "7    66200000  750000     36.49   0.834    396000   43   1973    A\n",
       "..        ...     ...       ...     ...       ...  ...    ...  ...\n",
       "491  50800000  703000     43.11   0.811    502000   47   1969    A\n",
       "493  65800000  668000     47.62   0.798    461000   39   1977    A\n",
       "495  55000000  632000     36.90   0.855    457000   47   1969    A\n",
       "497  55600000  773000     39.71   0.855    369000   36   1980    A\n",
       "498  51500000  677000     37.22   0.847    489000   47   1969    A\n",
       "\n",
       "[279 rows x 8 columns]"
      ]
     },
     "execution_count": 45,
     "metadata": {},
     "output_type": "execute_result"
    }
   ],
   "source": [
    "df[df['area'] == 'A']"
   ]
  },
  {
   "cell_type": "code",
   "execution_count": 46,
   "id": "7af67c86-5434-44ab-897c-3aa627a48449",
   "metadata": {},
   "outputs": [
    {
     "data": {
      "text/plain": [
       "Text(0, 0.5, 'count')"
      ]
     },
     "execution_count": 46,
     "metadata": {},
     "output_type": "execute_result"
    },
    {
     "data": {
      "image/png": "[encoded data removed]",
      "text/plain": [
       "<Figure size 432x288 with 1 Axes>"
      ]
     },
     "metadata": {
      "needs_background": "light"
     },
     "output_type": "display_data"
    }
   ],
   "source": [
    "fig, ax = plt.subplots()\n",
    "ax.hist(df['price'])\n",
    "ax.set_xlabel('price')\n",
    "ax.set_ylabel('count')"
   ]
  },
  {
   "cell_type": "code",
   "execution_count": 47,
   "id": "7b7b7a69-436f-4806-b2ba-b429767b2427",
   "metadata": {},
   "outputs": [
    {
     "data": {
      "text/plain": [
       "0    A\n",
       "dtype: object"
      ]
     },
     "execution_count": 47,
     "metadata": {},
     "output_type": "execute_result"
    }
   ],
   "source": [
    "df['area'].mode()"
   ]
  },
  {
   "cell_type": "code",
   "execution_count": 48,
   "id": "2ec6669a-dac7-4c06-a3aa-8b7ce975ca78",
   "metadata": {},
   "outputs": [
    {
     "data": {
      "text/plain": [
       "71004024809619.23"
      ]
     },
     "execution_count": 48,
     "metadata": {},
     "output_type": "execute_result"
    }
   ],
   "source": [
    "df['price'].var()"
   ]
  },
  {
   "cell_type": "code",
   "execution_count": 49,
   "id": "1a973159-cb28-489e-b939-1be9d51b472b",
   "metadata": {},
   "outputs": [
    {
     "data": {
      "text/plain": [
       "8426388.5983035"
      ]
     },
     "execution_count": 49,
     "metadata": {},
     "output_type": "execute_result"
    }
   ],
   "source": [
    "df['price'].std()"
   ]
  },
  {
   "cell_type": "code",
   "execution_count": 50,
   "id": "1df0807c-76fa-41d6-9e0e-c304b7ba57a3",
   "metadata": {},
   "outputs": [
    {
     "data": {
      "text/html": [
       "<div>\n",
       "<style scoped>\n",
       "    .dataframe tbody tr th:only-of-type {\n",
       "        vertical-align: middle;\n",
       "    }\n",
       "\n",
       "    .dataframe tbody tr th {\n",
       "        vertical-align: top;\n",
       "    }\n",
       "\n",
       "    .dataframe thead th {\n",
       "        text-align: right;\n",
       "    }\n",
       "</style>\n",
       "<table border=\"1\" class=\"dataframe\">\n",
       "  <thead>\n",
       "    <tr style=\"text-align: right;\">\n",
       "      <th></th>\n",
       "      <th>price</th>\n",
       "      <th>tsubo</th>\n",
       "      <th>tsubo_su</th>\n",
       "      <th>kenpei</th>\n",
       "      <th>building</th>\n",
       "      <th>age</th>\n",
       "      <th>birth</th>\n",
       "    </tr>\n",
       "    <tr>\n",
       "      <th>area</th>\n",
       "      <th></th>\n",
       "      <th></th>\n",
       "      <th></th>\n",
       "      <th></th>\n",
       "      <th></th>\n",
       "      <th></th>\n",
       "      <th></th>\n",
       "    </tr>\n",
       "  </thead>\n",
       "  <tbody>\n",
       "    <tr>\n",
       "      <th>A</th>\n",
       "      <td>5.477563e+07</td>\n",
       "      <td>667784.946237</td>\n",
       "      <td>41.792688</td>\n",
       "      <td>0.853921</td>\n",
       "      <td>451620.071685</td>\n",
       "      <td>40.161290</td>\n",
       "      <td>1975.838710</td>\n",
       "    </tr>\n",
       "    <tr>\n",
       "      <th>B</th>\n",
       "      <td>4.345238e+07</td>\n",
       "      <td>628297.619048</td>\n",
       "      <td>38.367024</td>\n",
       "      <td>0.850202</td>\n",
       "      <td>442964.285714</td>\n",
       "      <td>40.047619</td>\n",
       "      <td>1975.952381</td>\n",
       "    </tr>\n",
       "    <tr>\n",
       "      <th>C</th>\n",
       "      <td>4.322917e+07</td>\n",
       "      <td>620666.666667</td>\n",
       "      <td>38.498750</td>\n",
       "      <td>0.852594</td>\n",
       "      <td>453552.083333</td>\n",
       "      <td>40.614583</td>\n",
       "      <td>1975.385417</td>\n",
       "    </tr>\n",
       "    <tr>\n",
       "      <th>D</th>\n",
       "      <td>4.309024e+07</td>\n",
       "      <td>612634.146341</td>\n",
       "      <td>39.762439</td>\n",
       "      <td>0.848341</td>\n",
       "      <td>448219.512195</td>\n",
       "      <td>39.268293</td>\n",
       "      <td>1976.731707</td>\n",
       "    </tr>\n",
       "  </tbody>\n",
       "</table>\n",
       "</div>"
      ],
      "text/plain": [
       "             price          tsubo   tsubo_su    kenpei       building  \\\n",
       "area                                                                    \n",
       "A     5.477563e+07  667784.946237  41.792688  0.853921  451620.071685   \n",
       "B     4.345238e+07  628297.619048  38.367024  0.850202  442964.285714   \n",
       "C     4.322917e+07  620666.666667  38.498750  0.852594  453552.083333   \n",
       "D     4.309024e+07  612634.146341  39.762439  0.848341  448219.512195   \n",
       "\n",
       "            age        birth  \n",
       "area                          \n",
       "A     40.161290  1975.838710  \n",
       "B     40.047619  1975.952381  \n",
       "C     40.614583  1975.385417  \n",
       "D     39.268293  1976.731707  "
      ]
     },
     "execution_count": 50,
     "metadata": {},
     "output_type": "execute_result"
    }
   ],
   "source": [
    "df.groupby(['area']).mean()"
   ]
  },
  {
   "cell_type": "code",
   "execution_count": 51,
   "id": "d9a37628-4190-45bd-9162-2c52e6042bab",
   "metadata": {},
   "outputs": [
    {
     "data": {
      "text/plain": [
       "<AxesSubplot:>"
      ]
     },
     "execution_count": 51,
     "metadata": {},
     "output_type": "execute_result"
    },
    {
     "data": {
      "image/png": "[encoded data removed]",
      "text/plain": [
       "<Figure size 432x288 with 2 Axes>"
      ]
     },
     "metadata": {
      "needs_background": "light"
     },
     "output_type": "display_data"
    }
   ],
   "source": [
    "corr = df.corr()\n",
    "sns.heatmap(corr, cmap='coolwarm', annot=True)"
   ]
  },
  {
   "cell_type": "code",
   "execution_count": 52,
   "id": "5991e277-6506-469d-88ba-7c77c4ee0984",
   "metadata": {},
   "outputs": [
    {
     "data": {
      "text/plain": [
       "<seaborn.axisgrid.JointGrid at 0x7f7cd2476880>"
      ]
     },
     "execution_count": 52,
     "metadata": {},
     "output_type": "execute_result"
    },
    {
     "data": {
      "image/png": "[encoded data removed]",
      "text/plain": [
       "<Figure size 432x432 with 3 Axes>"
      ]
     },
     "metadata": {
      "needs_background": "light"
     },
     "output_type": "display_data"
    }
   ],
   "source": [
    "sns.jointplot(x='tsubo', \n",
    "              y='price', \n",
    "              data=df, \n",
    "              kind='reg', \n",
    "              joint_kws={'scatter_kws':dict(alpha=0.2)})"
   ]
  },
  {
   "cell_type": "code",
   "execution_count": 53,
   "id": "4c188e2f-02b1-49d0-96d6-d89c34241bd3",
   "metadata": {},
   "outputs": [
    {
     "data": {
      "text/html": [
       "<div>\n",
       "<style scoped>\n",
       "    .dataframe tbody tr th:only-of-type {\n",
       "        vertical-align: middle;\n",
       "    }\n",
       "\n",
       "    .dataframe tbody tr th {\n",
       "        vertical-align: top;\n",
       "    }\n",
       "\n",
       "    .dataframe thead th {\n",
       "        text-align: right;\n",
       "    }\n",
       "</style>\n",
       "<table border=\"1\" class=\"dataframe\">\n",
       "  <thead>\n",
       "    <tr style=\"text-align: right;\">\n",
       "      <th></th>\n",
       "      <th>weight</th>\n",
       "      <th>height</th>\n",
       "    </tr>\n",
       "  </thead>\n",
       "  <tbody>\n",
       "    <tr>\n",
       "      <th>0</th>\n",
       "      <td>42</td>\n",
       "      <td>138</td>\n",
       "    </tr>\n",
       "    <tr>\n",
       "      <th>1</th>\n",
       "      <td>46</td>\n",
       "      <td>150</td>\n",
       "    </tr>\n",
       "    <tr>\n",
       "      <th>2</th>\n",
       "      <td>53</td>\n",
       "      <td>152</td>\n",
       "    </tr>\n",
       "    <tr>\n",
       "      <th>3</th>\n",
       "      <td>56</td>\n",
       "      <td>163</td>\n",
       "    </tr>\n",
       "    <tr>\n",
       "      <th>4</th>\n",
       "      <td>58</td>\n",
       "      <td>164</td>\n",
       "    </tr>\n",
       "    <tr>\n",
       "      <th>5</th>\n",
       "      <td>61</td>\n",
       "      <td>167</td>\n",
       "    </tr>\n",
       "    <tr>\n",
       "      <th>6</th>\n",
       "      <td>62</td>\n",
       "      <td>165</td>\n",
       "    </tr>\n",
       "    <tr>\n",
       "      <th>7</th>\n",
       "      <td>63</td>\n",
       "      <td>182</td>\n",
       "    </tr>\n",
       "    <tr>\n",
       "      <th>8</th>\n",
       "      <td>65</td>\n",
       "      <td>180</td>\n",
       "    </tr>\n",
       "    <tr>\n",
       "      <th>9</th>\n",
       "      <td>67</td>\n",
       "      <td>180</td>\n",
       "    </tr>\n",
       "    <tr>\n",
       "      <th>10</th>\n",
       "      <td>73</td>\n",
       "      <td>183</td>\n",
       "    </tr>\n",
       "  </tbody>\n",
       "</table>\n",
       "</div>"
      ],
      "text/plain": [
       "    weight  height\n",
       "0       42     138\n",
       "1       46     150\n",
       "2       53     152\n",
       "3       56     163\n",
       "4       58     164\n",
       "5       61     167\n",
       "6       62     165\n",
       "7       63     182\n",
       "8       65     180\n",
       "9       67     180\n",
       "10      73     183"
      ]
     },
     "execution_count": 53,
     "metadata": {},
     "output_type": "execute_result"
    }
   ],
   "source": [
    "weight = np.array([42, 46, 53, 56, 58, 61, 62, 63, 65, 67, 73])\n",
    "height = np.array([138, 150, 152, 163, 164, 167, 165, 182, 180, 180, 183])\n",
    "\n",
    "df = pd.DataFrame({'weight':weight, 'height':height})\n",
    "\n",
    "df"
   ]
  },
  {
   "cell_type": "code",
   "execution_count": 54,
   "id": "b70d4e2a-4978-4030-bbcf-3a4fe241cd97",
   "metadata": {},
   "outputs": [
    {
     "data": {
      "text/plain": [
       "<seaborn.axisgrid.JointGrid at 0x7f7cd25f54f0>"
      ]
     },
     "execution_count": 54,
     "metadata": {},
     "output_type": "execute_result"
    },
    {
     "data": {
      "image/png": "[encoded data removed]",
      "text/plain": [
       "<Figure size 432x432 with 3 Axes>"
      ]
     },
     "metadata": {
      "needs_background": "light"
     },
     "output_type": "display_data"
    }
   ],
   "source": [
    "sns.jointplot(x='height',\n",
    "              y='weight',\n",
    "              data=df,\n",
    "              kind='reg',\n",
    "              joint_kws={'scatter_kws':dict(alpha=0.2)})"
   ]
  },
  {
   "cell_type": "code",
   "execution_count": 55,
   "id": "4e85144e-d27c-4bd8-a549-67d0d9a71edb",
   "metadata": {},
   "outputs": [
    {
     "data": {
      "text/html": [
       "<div>\n",
       "<style scoped>\n",
       "    .dataframe tbody tr th:only-of-type {\n",
       "        vertical-align: middle;\n",
       "    }\n",
       "\n",
       "    .dataframe tbody tr th {\n",
       "        vertical-align: top;\n",
       "    }\n",
       "\n",
       "    .dataframe thead th {\n",
       "        text-align: right;\n",
       "    }\n",
       "</style>\n",
       "<table border=\"1\" class=\"dataframe\">\n",
       "  <thead>\n",
       "    <tr style=\"text-align: right;\">\n",
       "      <th></th>\n",
       "      <th>weight</th>\n",
       "      <th>height</th>\n",
       "    </tr>\n",
       "  </thead>\n",
       "  <tbody>\n",
       "    <tr>\n",
       "      <th>weight</th>\n",
       "      <td>1.000000</td>\n",
       "      <td>0.947577</td>\n",
       "    </tr>\n",
       "    <tr>\n",
       "      <th>height</th>\n",
       "      <td>0.947577</td>\n",
       "      <td>1.000000</td>\n",
       "    </tr>\n",
       "  </tbody>\n",
       "</table>\n",
       "</div>"
      ],
      "text/plain": [
       "          weight    height\n",
       "weight  1.000000  0.947577\n",
       "height  0.947577  1.000000"
      ]
     },
     "execution_count": 55,
     "metadata": {},
     "output_type": "execute_result"
    }
   ],
   "source": [
    "df.corr()"
   ]
  },
  {
   "cell_type": "code",
   "execution_count": 56,
   "id": "ce9d0bfc-3da5-4ca4-90ea-ca967eda4e01",
   "metadata": {},
   "outputs": [],
   "source": [
    "df = pd.read_csv('dataset/house_info.csv', thousands=',')"
   ]
  },
  {
   "cell_type": "code",
   "execution_count": 57,
   "id": "03c80dd0-0716-419e-965b-66198ae6fb42",
   "metadata": {},
   "outputs": [
    {
     "data": {
      "text/html": [
       "<div>\n",
       "<style scoped>\n",
       "    .dataframe tbody tr th:only-of-type {\n",
       "        vertical-align: middle;\n",
       "    }\n",
       "\n",
       "    .dataframe tbody tr th {\n",
       "        vertical-align: top;\n",
       "    }\n",
       "\n",
       "    .dataframe thead th {\n",
       "        text-align: right;\n",
       "    }\n",
       "</style>\n",
       "<table border=\"1\" class=\"dataframe\">\n",
       "  <thead>\n",
       "    <tr style=\"text-align: right;\">\n",
       "      <th></th>\n",
       "      <th>price</th>\n",
       "      <th>tsubo</th>\n",
       "      <th>tsubo_su</th>\n",
       "      <th>kenpei</th>\n",
       "      <th>building</th>\n",
       "      <th>age</th>\n",
       "      <th>birth</th>\n",
       "      <th>area</th>\n",
       "    </tr>\n",
       "  </thead>\n",
       "  <tbody>\n",
       "    <tr>\n",
       "      <th>0</th>\n",
       "      <td>47400000</td>\n",
       "      <td>563000</td>\n",
       "      <td>44.69</td>\n",
       "      <td>0.834</td>\n",
       "      <td>482000</td>\n",
       "      <td>30</td>\n",
       "      <td>1986</td>\n",
       "      <td>A</td>\n",
       "    </tr>\n",
       "    <tr>\n",
       "      <th>1</th>\n",
       "      <td>60300000</td>\n",
       "      <td>694000</td>\n",
       "      <td>41.74</td>\n",
       "      <td>0.759</td>\n",
       "      <td>518000</td>\n",
       "      <td>36</td>\n",
       "      <td>1980</td>\n",
       "      <td>A</td>\n",
       "    </tr>\n",
       "    <tr>\n",
       "      <th>2</th>\n",
       "      <td>53700000</td>\n",
       "      <td>744000</td>\n",
       "      <td>42.89</td>\n",
       "      <td>0.955</td>\n",
       "      <td>384000</td>\n",
       "      <td>38</td>\n",
       "      <td>1978</td>\n",
       "      <td>A</td>\n",
       "    </tr>\n",
       "    <tr>\n",
       "      <th>3</th>\n",
       "      <td>29300000</td>\n",
       "      <td>613000</td>\n",
       "      <td>37.87</td>\n",
       "      <td>0.892</td>\n",
       "      <td>440000</td>\n",
       "      <td>42</td>\n",
       "      <td>1974</td>\n",
       "      <td>C</td>\n",
       "    </tr>\n",
       "    <tr>\n",
       "      <th>4</th>\n",
       "      <td>56200000</td>\n",
       "      <td>717000</td>\n",
       "      <td>38.87</td>\n",
       "      <td>1.005</td>\n",
       "      <td>504000</td>\n",
       "      <td>39</td>\n",
       "      <td>1977</td>\n",
       "      <td>A</td>\n",
       "    </tr>\n",
       "    <tr>\n",
       "      <th>...</th>\n",
       "      <td>...</td>\n",
       "      <td>...</td>\n",
       "      <td>...</td>\n",
       "      <td>...</td>\n",
       "      <td>...</td>\n",
       "      <td>...</td>\n",
       "      <td>...</td>\n",
       "      <td>...</td>\n",
       "    </tr>\n",
       "    <tr>\n",
       "      <th>495</th>\n",
       "      <td>55000000</td>\n",
       "      <td>632000</td>\n",
       "      <td>36.90</td>\n",
       "      <td>0.855</td>\n",
       "      <td>457000</td>\n",
       "      <td>47</td>\n",
       "      <td>1969</td>\n",
       "      <td>A</td>\n",
       "    </tr>\n",
       "    <tr>\n",
       "      <th>496</th>\n",
       "      <td>40700000</td>\n",
       "      <td>712000</td>\n",
       "      <td>31.26</td>\n",
       "      <td>0.941</td>\n",
       "      <td>468000</td>\n",
       "      <td>43</td>\n",
       "      <td>1973</td>\n",
       "      <td>B</td>\n",
       "    </tr>\n",
       "    <tr>\n",
       "      <th>497</th>\n",
       "      <td>55600000</td>\n",
       "      <td>773000</td>\n",
       "      <td>39.71</td>\n",
       "      <td>0.855</td>\n",
       "      <td>369000</td>\n",
       "      <td>36</td>\n",
       "      <td>1980</td>\n",
       "      <td>A</td>\n",
       "    </tr>\n",
       "    <tr>\n",
       "      <th>498</th>\n",
       "      <td>51500000</td>\n",
       "      <td>677000</td>\n",
       "      <td>37.22</td>\n",
       "      <td>0.847</td>\n",
       "      <td>489000</td>\n",
       "      <td>47</td>\n",
       "      <td>1969</td>\n",
       "      <td>A</td>\n",
       "    </tr>\n",
       "    <tr>\n",
       "      <th>499</th>\n",
       "      <td>48200000</td>\n",
       "      <td>611000</td>\n",
       "      <td>47.19</td>\n",
       "      <td>0.751</td>\n",
       "      <td>495000</td>\n",
       "      <td>37</td>\n",
       "      <td>1979</td>\n",
       "      <td>B</td>\n",
       "    </tr>\n",
       "  </tbody>\n",
       "</table>\n",
       "<p>500 rows × 8 columns</p>\n",
       "</div>"
      ],
      "text/plain": [
       "        price   tsubo  tsubo_su  kenpei  building  age  birth area\n",
       "0    47400000  563000     44.69   0.834    482000   30   1986    A\n",
       "1    60300000  694000     41.74   0.759    518000   36   1980    A\n",
       "2    53700000  744000     42.89   0.955    384000   38   1978    A\n",
       "3    29300000  613000     37.87   0.892    440000   42   1974    C\n",
       "4    56200000  717000     38.87   1.005    504000   39   1977    A\n",
       "..        ...     ...       ...     ...       ...  ...    ...  ...\n",
       "495  55000000  632000     36.90   0.855    457000   47   1969    A\n",
       "496  40700000  712000     31.26   0.941    468000   43   1973    B\n",
       "497  55600000  773000     39.71   0.855    369000   36   1980    A\n",
       "498  51500000  677000     37.22   0.847    489000   47   1969    A\n",
       "499  48200000  611000     47.19   0.751    495000   37   1979    B\n",
       "\n",
       "[500 rows x 8 columns]"
      ]
     },
     "execution_count": 57,
     "metadata": {},
     "output_type": "execute_result"
    }
   ],
   "source": [
    "df"
   ]
  },
  {
   "cell_type": "code",
   "execution_count": 58,
   "id": "4dd587a2-f485-4fbc-8c21-e183bc383a63",
   "metadata": {},
   "outputs": [
    {
     "data": {
      "text/html": [
       "<div>\n",
       "<style scoped>\n",
       "    .dataframe tbody tr th:only-of-type {\n",
       "        vertical-align: middle;\n",
       "    }\n",
       "\n",
       "    .dataframe tbody tr th {\n",
       "        vertical-align: top;\n",
       "    }\n",
       "\n",
       "    .dataframe thead th {\n",
       "        text-align: right;\n",
       "    }\n",
       "</style>\n",
       "<table border=\"1\" class=\"dataframe\">\n",
       "  <thead>\n",
       "    <tr style=\"text-align: right;\">\n",
       "      <th></th>\n",
       "      <th>price</th>\n",
       "      <th>tsubo</th>\n",
       "      <th>tsubo_su</th>\n",
       "      <th>kenpei</th>\n",
       "      <th>building</th>\n",
       "      <th>age</th>\n",
       "      <th>birth</th>\n",
       "      <th>area</th>\n",
       "    </tr>\n",
       "  </thead>\n",
       "  <tbody>\n",
       "    <tr>\n",
       "      <th>count</th>\n",
       "      <td>5.000000e+02</td>\n",
       "      <td>500.00000</td>\n",
       "      <td>500.000000</td>\n",
       "      <td>500.000000</td>\n",
       "      <td>500.000000</td>\n",
       "      <td>500.000000</td>\n",
       "      <td>500.000000</td>\n",
       "      <td>500</td>\n",
       "    </tr>\n",
       "    <tr>\n",
       "      <th>unique</th>\n",
       "      <td>NaN</td>\n",
       "      <td>NaN</td>\n",
       "      <td>NaN</td>\n",
       "      <td>NaN</td>\n",
       "      <td>NaN</td>\n",
       "      <td>NaN</td>\n",
       "      <td>NaN</td>\n",
       "      <td>4</td>\n",
       "    </tr>\n",
       "    <tr>\n",
       "      <th>top</th>\n",
       "      <td>NaN</td>\n",
       "      <td>NaN</td>\n",
       "      <td>NaN</td>\n",
       "      <td>NaN</td>\n",
       "      <td>NaN</td>\n",
       "      <td>NaN</td>\n",
       "      <td>NaN</td>\n",
       "      <td>A</td>\n",
       "    </tr>\n",
       "    <tr>\n",
       "      <th>freq</th>\n",
       "      <td>NaN</td>\n",
       "      <td>NaN</td>\n",
       "      <td>NaN</td>\n",
       "      <td>NaN</td>\n",
       "      <td>NaN</td>\n",
       "      <td>NaN</td>\n",
       "      <td>NaN</td>\n",
       "      <td>279</td>\n",
       "    </tr>\n",
       "    <tr>\n",
       "      <th>mean</th>\n",
       "      <td>4.969820e+07</td>\n",
       "      <td>647582.00000</td>\n",
       "      <td>40.418260</td>\n",
       "      <td>0.852584</td>\n",
       "      <td>450258.000000</td>\n",
       "      <td>40.156000</td>\n",
       "      <td>1975.844000</td>\n",
       "      <td>NaN</td>\n",
       "    </tr>\n",
       "    <tr>\n",
       "      <th>std</th>\n",
       "      <td>8.426389e+06</td>\n",
       "      <td>80350.10613</td>\n",
       "      <td>5.168393</td>\n",
       "      <td>0.050790</td>\n",
       "      <td>39636.214438</td>\n",
       "      <td>4.000459</td>\n",
       "      <td>4.000459</td>\n",
       "      <td>NaN</td>\n",
       "    </tr>\n",
       "    <tr>\n",
       "      <th>min</th>\n",
       "      <td>2.370000e+07</td>\n",
       "      <td>397000.00000</td>\n",
       "      <td>28.310000</td>\n",
       "      <td>0.674000</td>\n",
       "      <td>336000.000000</td>\n",
       "      <td>29.000000</td>\n",
       "      <td>1964.000000</td>\n",
       "      <td>NaN</td>\n",
       "    </tr>\n",
       "    <tr>\n",
       "      <th>25%</th>\n",
       "      <td>4.410000e+07</td>\n",
       "      <td>592750.00000</td>\n",
       "      <td>36.687500</td>\n",
       "      <td>0.818000</td>\n",
       "      <td>424000.000000</td>\n",
       "      <td>37.000000</td>\n",
       "      <td>1973.000000</td>\n",
       "      <td>NaN</td>\n",
       "    </tr>\n",
       "    <tr>\n",
       "      <th>50%</th>\n",
       "      <td>4.935000e+07</td>\n",
       "      <td>648000.00000</td>\n",
       "      <td>40.450000</td>\n",
       "      <td>0.850000</td>\n",
       "      <td>451000.000000</td>\n",
       "      <td>40.000000</td>\n",
       "      <td>1976.000000</td>\n",
       "      <td>NaN</td>\n",
       "    </tr>\n",
       "    <tr>\n",
       "      <th>75%</th>\n",
       "      <td>5.552500e+07</td>\n",
       "      <td>704250.00000</td>\n",
       "      <td>43.760000</td>\n",
       "      <td>0.886000</td>\n",
       "      <td>478000.000000</td>\n",
       "      <td>43.000000</td>\n",
       "      <td>1979.000000</td>\n",
       "      <td>NaN</td>\n",
       "    </tr>\n",
       "    <tr>\n",
       "      <th>max</th>\n",
       "      <td>7.100000e+07</td>\n",
       "      <td>889000.00000</td>\n",
       "      <td>60.860000</td>\n",
       "      <td>1.005000</td>\n",
       "      <td>542000.000000</td>\n",
       "      <td>52.000000</td>\n",
       "      <td>1987.000000</td>\n",
       "      <td>NaN</td>\n",
       "    </tr>\n",
       "  </tbody>\n",
       "</table>\n",
       "</div>"
      ],
      "text/plain": [
       "               price         tsubo    tsubo_su      kenpei       building  \\\n",
       "count   5.000000e+02     500.00000  500.000000  500.000000     500.000000   \n",
       "unique           NaN           NaN         NaN         NaN            NaN   \n",
       "top              NaN           NaN         NaN         NaN            NaN   \n",
       "freq             NaN           NaN         NaN         NaN            NaN   \n",
       "mean    4.969820e+07  647582.00000   40.418260    0.852584  450258.000000   \n",
       "std     8.426389e+06   80350.10613    5.168393    0.050790   39636.214438   \n",
       "min     2.370000e+07  397000.00000   28.310000    0.674000  336000.000000   \n",
       "25%     4.410000e+07  592750.00000   36.687500    0.818000  424000.000000   \n",
       "50%     4.935000e+07  648000.00000   40.450000    0.850000  451000.000000   \n",
       "75%     5.552500e+07  704250.00000   43.760000    0.886000  478000.000000   \n",
       "max     7.100000e+07  889000.00000   60.860000    1.005000  542000.000000   \n",
       "\n",
       "               age        birth area  \n",
       "count   500.000000   500.000000  500  \n",
       "unique         NaN          NaN    4  \n",
       "top            NaN          NaN    A  \n",
       "freq           NaN          NaN  279  \n",
       "mean     40.156000  1975.844000  NaN  \n",
       "std       4.000459     4.000459  NaN  \n",
       "min      29.000000  1964.000000  NaN  \n",
       "25%      37.000000  1973.000000  NaN  \n",
       "50%      40.000000  1976.000000  NaN  \n",
       "75%      43.000000  1979.000000  NaN  \n",
       "max      52.000000  1987.000000  NaN  "
      ]
     },
     "execution_count": 58,
     "metadata": {},
     "output_type": "execute_result"
    }
   ],
   "source": [
    "df.describe(include='all')"
   ]
  },
  {
   "cell_type": "code",
   "execution_count": 59,
   "id": "91763c38-e1b5-43f4-beae-9ef40c265fdd",
   "metadata": {},
   "outputs": [
    {
     "name": "stdout",
     "output_type": "stream",
     "text": [
      "<class 'pandas.core.frame.DataFrame'>\n",
      "RangeIndex: 500 entries, 0 to 499\n",
      "Data columns (total 8 columns):\n",
      " #   Column    Non-Null Count  Dtype  \n",
      "---  ------    --------------  -----  \n",
      " 0   price     500 non-null    int64  \n",
      " 1   tsubo     500 non-null    int64  \n",
      " 2   tsubo_su  500 non-null    float64\n",
      " 3   kenpei    500 non-null    float64\n",
      " 4   building  500 non-null    int64  \n",
      " 5   age       500 non-null    int64  \n",
      " 6   birth     500 non-null    int64  \n",
      " 7   area      500 non-null    object \n",
      "dtypes: float64(2), int64(5), object(1)\n",
      "memory usage: 31.4+ KB\n"
     ]
    }
   ],
   "source": [
    "df.info()"
   ]
  },
  {
   "cell_type": "code",
   "execution_count": 62,
   "id": "9ca32e7b-1bc0-4f95-9748-1d4e7340ea41",
   "metadata": {},
   "outputs": [],
   "source": [
    "X = df[['tsubo']]\n",
    "y = df[['price']]"
   ]
  },
  {
   "cell_type": "code",
   "execution_count": 63,
   "id": "c84f6496-b042-46cc-88aa-213a960b9061",
   "metadata": {},
   "outputs": [
    {
     "data": {
      "text/plain": [
       "LinearRegression()"
      ]
     },
     "execution_count": 63,
     "metadata": {},
     "output_type": "execute_result"
    }
   ],
   "source": [
    "reg = LinearRegression()\n",
    "reg.fit(X, y)"
   ]
  },
  {
   "cell_type": "code",
   "execution_count": 64,
   "id": "70825eef-2ed1-4f62-a88c-58a8f5a2c744",
   "metadata": {},
   "outputs": [
    {
     "name": "stdout",
     "output_type": "stream",
     "text": [
      "b=[[47.44945887]]\n",
      "a=[18970784.52832152]\n"
     ]
    }
   ],
   "source": [
    "print(\"b={}\".format(reg.coef_))\n",
    "print(\"a={}\".format(reg.intercept_))"
   ]
  },
  {
   "cell_type": "code",
   "execution_count": 65,
   "id": "189a178d-287f-476a-82fb-a56e89d10be7",
   "metadata": {},
   "outputs": [
    {
     "data": {
      "text/plain": [
       "array([[45684829.87015465]])"
      ]
     },
     "execution_count": 65,
     "metadata": {},
     "output_type": "execute_result"
    }
   ],
   "source": [
    "reg.predict([[563000]])"
   ]
  },
  {
   "cell_type": "code",
   "execution_count": 66,
   "id": "6df340d4-4a15-4b23-bd03-eaae12d7f1a3",
   "metadata": {},
   "outputs": [
    {
     "data": {
      "text/plain": [
       "0.204716321979326"
      ]
     },
     "execution_count": 66,
     "metadata": {},
     "output_type": "execute_result"
    }
   ],
   "source": [
    "reg.score(X, y)"
   ]
  },
  {
   "cell_type": "code",
   "execution_count": 67,
   "id": "f998e952-a838-43c3-ba39-57e6de4a8363",
   "metadata": {},
   "outputs": [],
   "source": [
    "weight = np.array([42, 46, 53, 56, 58, 61, 62, 63, 65, 67, 73])\n",
    "height = np.array([138, 150, 152, 163, 164, 167, 165, 182, 180, 180, 183])\n",
    "df = pd.DataFrame({'weight':weight, 'height':height})"
   ]
  },
  {
   "cell_type": "code",
   "execution_count": 68,
   "id": "dfdd689e-a14d-4cd9-a551-f2aeafc500c7",
   "metadata": {},
   "outputs": [
    {
     "data": {
      "text/plain": [
       "LinearRegression()"
      ]
     },
     "execution_count": 68,
     "metadata": {},
     "output_type": "execute_result"
    }
   ],
   "source": [
    "from sklearn.linear_model import LinearRegression\n",
    "\n",
    "X = df[['height']]\n",
    "y = df[['weight']]\n",
    "\n",
    "reg = LinearRegression()\n",
    "reg.fit(X, y)"
   ]
  },
  {
   "cell_type": "code",
   "execution_count": 69,
   "id": "74b38764-0590-4c44-879a-05fd8056f16e",
   "metadata": {},
   "outputs": [
    {
     "name": "stdout",
     "output_type": "stream",
     "text": [
      "Regression coefficient=[[0.58302859]]\n",
      "Intercept=[-37.94946809]\n"
     ]
    }
   ],
   "source": [
    "print(\"Regression coefficient={}\".format(reg.coef_))\n",
    "print(\"Intercept={}\".format(reg.intercept_))"
   ]
  },
  {
   "cell_type": "code",
   "execution_count": 70,
   "id": "8a8e106f-a20a-4881-b4af-9a78c0df7089",
   "metadata": {},
   "outputs": [
    {
     "name": "stdout",
     "output_type": "stream",
     "text": [
      "[[175]] [[64.08053524]]\n"
     ]
    }
   ],
   "source": [
    "x_input = np.array([[175]])\n",
    "y_hat = reg.predict(x_input)\n",
    "print(x_input, y_hat)"
   ]
  },
  {
   "cell_type": "code",
   "execution_count": 71,
   "id": "daa0b62c-7c58-4a7f-bc0b-3b221d952d7c",
   "metadata": {},
   "outputs": [
    {
     "data": {
      "text/plain": [
       "0.8979024285038653"
      ]
     },
     "execution_count": 71,
     "metadata": {},
     "output_type": "execute_result"
    }
   ],
   "source": [
    "reg.score(X,y)"
   ]
  },
  {
   "cell_type": "code",
   "execution_count": 72,
   "id": "490702e1-47fb-4546-a5fa-bbab509f2007",
   "metadata": {},
   "outputs": [],
   "source": [
    "df = pd.read_csv('dataset/house_info.csv', thousands=',')"
   ]
  },
  {
   "cell_type": "code",
   "execution_count": 73,
   "id": "b63564d0-d132-4a76-95f3-476f573294c8",
   "metadata": {},
   "outputs": [
    {
     "name": "stdout",
     "output_type": "stream",
     "text": [
      "<class 'pandas.core.frame.DataFrame'>\n",
      "RangeIndex: 500 entries, 0 to 499\n",
      "Data columns (total 8 columns):\n",
      " #   Column    Non-Null Count  Dtype  \n",
      "---  ------    --------------  -----  \n",
      " 0   price     500 non-null    int64  \n",
      " 1   tsubo     500 non-null    int64  \n",
      " 2   tsubo_su  500 non-null    float64\n",
      " 3   kenpei    500 non-null    float64\n",
      " 4   building  500 non-null    int64  \n",
      " 5   age       500 non-null    int64  \n",
      " 6   birth     500 non-null    int64  \n",
      " 7   area      500 non-null    object \n",
      "dtypes: float64(2), int64(5), object(1)\n",
      "memory usage: 31.4+ KB\n"
     ]
    }
   ],
   "source": [
    "df.info()"
   ]
  },
  {
   "cell_type": "code",
   "execution_count": 74,
   "id": "99531b7a-48a4-4f1a-bdee-3a72451ca431",
   "metadata": {},
   "outputs": [
    {
     "data": {
      "text/html": [
       "<div>\n",
       "<style scoped>\n",
       "    .dataframe tbody tr th:only-of-type {\n",
       "        vertical-align: middle;\n",
       "    }\n",
       "\n",
       "    .dataframe tbody tr th {\n",
       "        vertical-align: top;\n",
       "    }\n",
       "\n",
       "    .dataframe thead th {\n",
       "        text-align: right;\n",
       "    }\n",
       "</style>\n",
       "<table border=\"1\" class=\"dataframe\">\n",
       "  <thead>\n",
       "    <tr style=\"text-align: right;\">\n",
       "      <th></th>\n",
       "      <th>price</th>\n",
       "      <th>tsubo</th>\n",
       "      <th>tsubo_su</th>\n",
       "      <th>kenpei</th>\n",
       "      <th>building</th>\n",
       "      <th>age</th>\n",
       "      <th>birth</th>\n",
       "      <th>area</th>\n",
       "    </tr>\n",
       "  </thead>\n",
       "  <tbody>\n",
       "    <tr>\n",
       "      <th>count</th>\n",
       "      <td>5.000000e+02</td>\n",
       "      <td>500.00000</td>\n",
       "      <td>500.000000</td>\n",
       "      <td>500.000000</td>\n",
       "      <td>500.000000</td>\n",
       "      <td>500.000000</td>\n",
       "      <td>500.000000</td>\n",
       "      <td>500</td>\n",
       "    </tr>\n",
       "    <tr>\n",
       "      <th>unique</th>\n",
       "      <td>NaN</td>\n",
       "      <td>NaN</td>\n",
       "      <td>NaN</td>\n",
       "      <td>NaN</td>\n",
       "      <td>NaN</td>\n",
       "      <td>NaN</td>\n",
       "      <td>NaN</td>\n",
       "      <td>4</td>\n",
       "    </tr>\n",
       "    <tr>\n",
       "      <th>top</th>\n",
       "      <td>NaN</td>\n",
       "      <td>NaN</td>\n",
       "      <td>NaN</td>\n",
       "      <td>NaN</td>\n",
       "      <td>NaN</td>\n",
       "      <td>NaN</td>\n",
       "      <td>NaN</td>\n",
       "      <td>A</td>\n",
       "    </tr>\n",
       "    <tr>\n",
       "      <th>freq</th>\n",
       "      <td>NaN</td>\n",
       "      <td>NaN</td>\n",
       "      <td>NaN</td>\n",
       "      <td>NaN</td>\n",
       "      <td>NaN</td>\n",
       "      <td>NaN</td>\n",
       "      <td>NaN</td>\n",
       "      <td>279</td>\n",
       "    </tr>\n",
       "    <tr>\n",
       "      <th>mean</th>\n",
       "      <td>4.969820e+07</td>\n",
       "      <td>647582.00000</td>\n",
       "      <td>40.418260</td>\n",
       "      <td>0.852584</td>\n",
       "      <td>450258.000000</td>\n",
       "      <td>40.156000</td>\n",
       "      <td>1975.844000</td>\n",
       "      <td>NaN</td>\n",
       "    </tr>\n",
       "    <tr>\n",
       "      <th>std</th>\n",
       "      <td>8.426389e+06</td>\n",
       "      <td>80350.10613</td>\n",
       "      <td>5.168393</td>\n",
       "      <td>0.050790</td>\n",
       "      <td>39636.214438</td>\n",
       "      <td>4.000459</td>\n",
       "      <td>4.000459</td>\n",
       "      <td>NaN</td>\n",
       "    </tr>\n",
       "    <tr>\n",
       "      <th>min</th>\n",
       "      <td>2.370000e+07</td>\n",
       "      <td>397000.00000</td>\n",
       "      <td>28.310000</td>\n",
       "      <td>0.674000</td>\n",
       "      <td>336000.000000</td>\n",
       "      <td>29.000000</td>\n",
       "      <td>1964.000000</td>\n",
       "      <td>NaN</td>\n",
       "    </tr>\n",
       "    <tr>\n",
       "      <th>25%</th>\n",
       "      <td>4.410000e+07</td>\n",
       "      <td>592750.00000</td>\n",
       "      <td>36.687500</td>\n",
       "      <td>0.818000</td>\n",
       "      <td>424000.000000</td>\n",
       "      <td>37.000000</td>\n",
       "      <td>1973.000000</td>\n",
       "      <td>NaN</td>\n",
       "    </tr>\n",
       "    <tr>\n",
       "      <th>50%</th>\n",
       "      <td>4.935000e+07</td>\n",
       "      <td>648000.00000</td>\n",
       "      <td>40.450000</td>\n",
       "      <td>0.850000</td>\n",
       "      <td>451000.000000</td>\n",
       "      <td>40.000000</td>\n",
       "      <td>1976.000000</td>\n",
       "      <td>NaN</td>\n",
       "    </tr>\n",
       "    <tr>\n",
       "      <th>75%</th>\n",
       "      <td>5.552500e+07</td>\n",
       "      <td>704250.00000</td>\n",
       "      <td>43.760000</td>\n",
       "      <td>0.886000</td>\n",
       "      <td>478000.000000</td>\n",
       "      <td>43.000000</td>\n",
       "      <td>1979.000000</td>\n",
       "      <td>NaN</td>\n",
       "    </tr>\n",
       "    <tr>\n",
       "      <th>max</th>\n",
       "      <td>7.100000e+07</td>\n",
       "      <td>889000.00000</td>\n",
       "      <td>60.860000</td>\n",
       "      <td>1.005000</td>\n",
       "      <td>542000.000000</td>\n",
       "      <td>52.000000</td>\n",
       "      <td>1987.000000</td>\n",
       "      <td>NaN</td>\n",
       "    </tr>\n",
       "  </tbody>\n",
       "</table>\n",
       "</div>"
      ],
      "text/plain": [
       "               price         tsubo    tsubo_su      kenpei       building  \\\n",
       "count   5.000000e+02     500.00000  500.000000  500.000000     500.000000   \n",
       "unique           NaN           NaN         NaN         NaN            NaN   \n",
       "top              NaN           NaN         NaN         NaN            NaN   \n",
       "freq             NaN           NaN         NaN         NaN            NaN   \n",
       "mean    4.969820e+07  647582.00000   40.418260    0.852584  450258.000000   \n",
       "std     8.426389e+06   80350.10613    5.168393    0.050790   39636.214438   \n",
       "min     2.370000e+07  397000.00000   28.310000    0.674000  336000.000000   \n",
       "25%     4.410000e+07  592750.00000   36.687500    0.818000  424000.000000   \n",
       "50%     4.935000e+07  648000.00000   40.450000    0.850000  451000.000000   \n",
       "75%     5.552500e+07  704250.00000   43.760000    0.886000  478000.000000   \n",
       "max     7.100000e+07  889000.00000   60.860000    1.005000  542000.000000   \n",
       "\n",
       "               age        birth area  \n",
       "count   500.000000   500.000000  500  \n",
       "unique         NaN          NaN    4  \n",
       "top            NaN          NaN    A  \n",
       "freq           NaN          NaN  279  \n",
       "mean     40.156000  1975.844000  NaN  \n",
       "std       4.000459     4.000459  NaN  \n",
       "min      29.000000  1964.000000  NaN  \n",
       "25%      37.000000  1973.000000  NaN  \n",
       "50%      40.000000  1976.000000  NaN  \n",
       "75%      43.000000  1979.000000  NaN  \n",
       "max      52.000000  1987.000000  NaN  "
      ]
     },
     "execution_count": 74,
     "metadata": {},
     "output_type": "execute_result"
    }
   ],
   "source": [
    "df.describe(include='all')"
   ]
  },
  {
   "cell_type": "code",
   "execution_count": 75,
   "id": "8f67236c-df6d-4073-93fe-0bc09ecdc6f3",
   "metadata": {},
   "outputs": [],
   "source": [
    "# sns.pairplot(data=df)"
   ]
  },
  {
   "cell_type": "code",
   "execution_count": 76,
   "id": "97ad468c-36bc-4dd6-b318-a87102fe8812",
   "metadata": {},
   "outputs": [
    {
     "data": {
      "text/html": [
       "<div>\n",
       "<style scoped>\n",
       "    .dataframe tbody tr th:only-of-type {\n",
       "        vertical-align: middle;\n",
       "    }\n",
       "\n",
       "    .dataframe tbody tr th {\n",
       "        vertical-align: top;\n",
       "    }\n",
       "\n",
       "    .dataframe thead th {\n",
       "        text-align: right;\n",
       "    }\n",
       "</style>\n",
       "<table border=\"1\" class=\"dataframe\">\n",
       "  <thead>\n",
       "    <tr style=\"text-align: right;\">\n",
       "      <th></th>\n",
       "      <th>price</th>\n",
       "      <th>tsubo</th>\n",
       "      <th>tsubo_su</th>\n",
       "      <th>kenpei</th>\n",
       "      <th>building</th>\n",
       "      <th>age</th>\n",
       "      <th>birth</th>\n",
       "    </tr>\n",
       "    <tr>\n",
       "      <th>area</th>\n",
       "      <th></th>\n",
       "      <th></th>\n",
       "      <th></th>\n",
       "      <th></th>\n",
       "      <th></th>\n",
       "      <th></th>\n",
       "      <th></th>\n",
       "    </tr>\n",
       "  </thead>\n",
       "  <tbody>\n",
       "    <tr>\n",
       "      <th>A</th>\n",
       "      <td>5.477563e+07</td>\n",
       "      <td>667784.946237</td>\n",
       "      <td>41.792688</td>\n",
       "      <td>0.853921</td>\n",
       "      <td>451620.071685</td>\n",
       "      <td>40.161290</td>\n",
       "      <td>1975.838710</td>\n",
       "    </tr>\n",
       "    <tr>\n",
       "      <th>B</th>\n",
       "      <td>4.345238e+07</td>\n",
       "      <td>628297.619048</td>\n",
       "      <td>38.367024</td>\n",
       "      <td>0.850202</td>\n",
       "      <td>442964.285714</td>\n",
       "      <td>40.047619</td>\n",
       "      <td>1975.952381</td>\n",
       "    </tr>\n",
       "    <tr>\n",
       "      <th>C</th>\n",
       "      <td>4.322917e+07</td>\n",
       "      <td>620666.666667</td>\n",
       "      <td>38.498750</td>\n",
       "      <td>0.852594</td>\n",
       "      <td>453552.083333</td>\n",
       "      <td>40.614583</td>\n",
       "      <td>1975.385417</td>\n",
       "    </tr>\n",
       "    <tr>\n",
       "      <th>D</th>\n",
       "      <td>4.309024e+07</td>\n",
       "      <td>612634.146341</td>\n",
       "      <td>39.762439</td>\n",
       "      <td>0.848341</td>\n",
       "      <td>448219.512195</td>\n",
       "      <td>39.268293</td>\n",
       "      <td>1976.731707</td>\n",
       "    </tr>\n",
       "  </tbody>\n",
       "</table>\n",
       "</div>"
      ],
      "text/plain": [
       "             price          tsubo   tsubo_su    kenpei       building  \\\n",
       "area                                                                    \n",
       "A     5.477563e+07  667784.946237  41.792688  0.853921  451620.071685   \n",
       "B     4.345238e+07  628297.619048  38.367024  0.850202  442964.285714   \n",
       "C     4.322917e+07  620666.666667  38.498750  0.852594  453552.083333   \n",
       "D     4.309024e+07  612634.146341  39.762439  0.848341  448219.512195   \n",
       "\n",
       "            age        birth  \n",
       "area                          \n",
       "A     40.161290  1975.838710  \n",
       "B     40.047619  1975.952381  \n",
       "C     40.614583  1975.385417  \n",
       "D     39.268293  1976.731707  "
      ]
     },
     "execution_count": 76,
     "metadata": {},
     "output_type": "execute_result"
    }
   ],
   "source": [
    "df.groupby('area').mean()"
   ]
  },
  {
   "cell_type": "code",
   "execution_count": 77,
   "id": "aef182c8-29c0-4472-9aa4-e247add1e67a",
   "metadata": {},
   "outputs": [
    {
     "data": {
      "text/plain": [
       "area\n",
       "A    279\n",
       "B     84\n",
       "C     96\n",
       "D     41\n",
       "Name: price, dtype: int64"
      ]
     },
     "execution_count": 77,
     "metadata": {},
     "output_type": "execute_result"
    }
   ],
   "source": [
    "df.groupby('area').count()['price']"
   ]
  },
  {
   "cell_type": "code",
   "execution_count": 78,
   "id": "c935e0d5-823f-44b9-a1b7-f7c1c8fbd015",
   "metadata": {},
   "outputs": [
    {
     "data": {
      "text/html": [
       "<div>\n",
       "<style scoped>\n",
       "    .dataframe tbody tr th:only-of-type {\n",
       "        vertical-align: middle;\n",
       "    }\n",
       "\n",
       "    .dataframe tbody tr th {\n",
       "        vertical-align: top;\n",
       "    }\n",
       "\n",
       "    .dataframe thead tr th {\n",
       "        text-align: left;\n",
       "    }\n",
       "\n",
       "    .dataframe thead tr:last-of-type th {\n",
       "        text-align: right;\n",
       "    }\n",
       "</style>\n",
       "<table border=\"1\" class=\"dataframe\">\n",
       "  <thead>\n",
       "    <tr>\n",
       "      <th></th>\n",
       "      <th colspan=\"8\" halign=\"left\">price</th>\n",
       "      <th colspan=\"2\" halign=\"left\">tsubo</th>\n",
       "      <th>...</th>\n",
       "      <th colspan=\"2\" halign=\"left\">age</th>\n",
       "      <th colspan=\"8\" halign=\"left\">birth</th>\n",
       "    </tr>\n",
       "    <tr>\n",
       "      <th></th>\n",
       "      <th>count</th>\n",
       "      <th>mean</th>\n",
       "      <th>std</th>\n",
       "      <th>min</th>\n",
       "      <th>25%</th>\n",
       "      <th>50%</th>\n",
       "      <th>75%</th>\n",
       "      <th>max</th>\n",
       "      <th>count</th>\n",
       "      <th>mean</th>\n",
       "      <th>...</th>\n",
       "      <th>75%</th>\n",
       "      <th>max</th>\n",
       "      <th>count</th>\n",
       "      <th>mean</th>\n",
       "      <th>std</th>\n",
       "      <th>min</th>\n",
       "      <th>25%</th>\n",
       "      <th>50%</th>\n",
       "      <th>75%</th>\n",
       "      <th>max</th>\n",
       "    </tr>\n",
       "    <tr>\n",
       "      <th>area</th>\n",
       "      <th></th>\n",
       "      <th></th>\n",
       "      <th></th>\n",
       "      <th></th>\n",
       "      <th></th>\n",
       "      <th></th>\n",
       "      <th></th>\n",
       "      <th></th>\n",
       "      <th></th>\n",
       "      <th></th>\n",
       "      <th></th>\n",
       "      <th></th>\n",
       "      <th></th>\n",
       "      <th></th>\n",
       "      <th></th>\n",
       "      <th></th>\n",
       "      <th></th>\n",
       "      <th></th>\n",
       "      <th></th>\n",
       "      <th></th>\n",
       "      <th></th>\n",
       "    </tr>\n",
       "  </thead>\n",
       "  <tbody>\n",
       "    <tr>\n",
       "      <th>A</th>\n",
       "      <td>279.0</td>\n",
       "      <td>5.477563e+07</td>\n",
       "      <td>6.926576e+06</td>\n",
       "      <td>28000000.0</td>\n",
       "      <td>51200000.0</td>\n",
       "      <td>54900000.0</td>\n",
       "      <td>59500000.0</td>\n",
       "      <td>71000000.0</td>\n",
       "      <td>279.0</td>\n",
       "      <td>667784.946237</td>\n",
       "      <td>...</td>\n",
       "      <td>43.00</td>\n",
       "      <td>50.0</td>\n",
       "      <td>279.0</td>\n",
       "      <td>1975.838710</td>\n",
       "      <td>4.010661</td>\n",
       "      <td>1966.0</td>\n",
       "      <td>1973.00</td>\n",
       "      <td>1976.0</td>\n",
       "      <td>1978.00</td>\n",
       "      <td>1986.0</td>\n",
       "    </tr>\n",
       "    <tr>\n",
       "      <th>B</th>\n",
       "      <td>84.0</td>\n",
       "      <td>4.345238e+07</td>\n",
       "      <td>4.728088e+06</td>\n",
       "      <td>23700000.0</td>\n",
       "      <td>41500000.0</td>\n",
       "      <td>44150000.0</td>\n",
       "      <td>47200000.0</td>\n",
       "      <td>50000000.0</td>\n",
       "      <td>84.0</td>\n",
       "      <td>628297.619048</td>\n",
       "      <td>...</td>\n",
       "      <td>43.00</td>\n",
       "      <td>48.0</td>\n",
       "      <td>84.0</td>\n",
       "      <td>1975.952381</td>\n",
       "      <td>3.945120</td>\n",
       "      <td>1968.0</td>\n",
       "      <td>1973.00</td>\n",
       "      <td>1976.0</td>\n",
       "      <td>1979.00</td>\n",
       "      <td>1987.0</td>\n",
       "    </tr>\n",
       "    <tr>\n",
       "      <th>C</th>\n",
       "      <td>96.0</td>\n",
       "      <td>4.322917e+07</td>\n",
       "      <td>5.480970e+06</td>\n",
       "      <td>27500000.0</td>\n",
       "      <td>39000000.0</td>\n",
       "      <td>44700000.0</td>\n",
       "      <td>47625000.0</td>\n",
       "      <td>50000000.0</td>\n",
       "      <td>96.0</td>\n",
       "      <td>620666.666667</td>\n",
       "      <td>...</td>\n",
       "      <td>43.25</td>\n",
       "      <td>49.0</td>\n",
       "      <td>96.0</td>\n",
       "      <td>1975.385417</td>\n",
       "      <td>3.861742</td>\n",
       "      <td>1967.0</td>\n",
       "      <td>1972.75</td>\n",
       "      <td>1975.0</td>\n",
       "      <td>1978.25</td>\n",
       "      <td>1986.0</td>\n",
       "    </tr>\n",
       "    <tr>\n",
       "      <th>D</th>\n",
       "      <td>41.0</td>\n",
       "      <td>4.309024e+07</td>\n",
       "      <td>5.259886e+06</td>\n",
       "      <td>25700000.0</td>\n",
       "      <td>40400000.0</td>\n",
       "      <td>45000000.0</td>\n",
       "      <td>46600000.0</td>\n",
       "      <td>49700000.0</td>\n",
       "      <td>41.0</td>\n",
       "      <td>612634.146341</td>\n",
       "      <td>...</td>\n",
       "      <td>42.00</td>\n",
       "      <td>52.0</td>\n",
       "      <td>41.0</td>\n",
       "      <td>1976.731707</td>\n",
       "      <td>4.336037</td>\n",
       "      <td>1964.0</td>\n",
       "      <td>1974.00</td>\n",
       "      <td>1977.0</td>\n",
       "      <td>1980.00</td>\n",
       "      <td>1985.0</td>\n",
       "    </tr>\n",
       "  </tbody>\n",
       "</table>\n",
       "<p>4 rows × 56 columns</p>\n",
       "</div>"
      ],
      "text/plain": [
       "      price                                                                  \\\n",
       "      count          mean           std         min         25%         50%   \n",
       "area                                                                          \n",
       "A     279.0  5.477563e+07  6.926576e+06  28000000.0  51200000.0  54900000.0   \n",
       "B      84.0  4.345238e+07  4.728088e+06  23700000.0  41500000.0  44150000.0   \n",
       "C      96.0  4.322917e+07  5.480970e+06  27500000.0  39000000.0  44700000.0   \n",
       "D      41.0  4.309024e+07  5.259886e+06  25700000.0  40400000.0  45000000.0   \n",
       "\n",
       "                              tsubo                 ...    age        birth  \\\n",
       "             75%         max  count           mean  ...    75%   max  count   \n",
       "area                                                ...                       \n",
       "A     59500000.0  71000000.0  279.0  667784.946237  ...  43.00  50.0  279.0   \n",
       "B     47200000.0  50000000.0   84.0  628297.619048  ...  43.00  48.0   84.0   \n",
       "C     47625000.0  50000000.0   96.0  620666.666667  ...  43.25  49.0   96.0   \n",
       "D     46600000.0  49700000.0   41.0  612634.146341  ...  42.00  52.0   41.0   \n",
       "\n",
       "                                                                       \n",
       "             mean       std     min      25%     50%      75%     max  \n",
       "area                                                                   \n",
       "A     1975.838710  4.010661  1966.0  1973.00  1976.0  1978.00  1986.0  \n",
       "B     1975.952381  3.945120  1968.0  1973.00  1976.0  1979.00  1987.0  \n",
       "C     1975.385417  3.861742  1967.0  1972.75  1975.0  1978.25  1986.0  \n",
       "D     1976.731707  4.336037  1964.0  1974.00  1977.0  1980.00  1985.0  \n",
       "\n",
       "[4 rows x 56 columns]"
      ]
     },
     "execution_count": 78,
     "metadata": {},
     "output_type": "execute_result"
    }
   ],
   "source": [
    "df.groupby('area').describe()"
   ]
  },
  {
   "cell_type": "code",
   "execution_count": 79,
   "id": "9baa7bfc-9ee9-4d6a-be0d-17e164387f49",
   "metadata": {},
   "outputs": [
    {
     "data": {
      "text/plain": [
       "<AxesSubplot:>"
      ]
     },
     "execution_count": 79,
     "metadata": {},
     "output_type": "execute_result"
    },
    {
     "data": {
      "image/png": "[encoded data removed]",
      "text/plain": [
       "<Figure size 432x288 with 2 Axes>"
      ]
     },
     "metadata": {
      "needs_background": "light"
     },
     "output_type": "display_data"
    }
   ],
   "source": [
    "corr = df.corr()\n",
    "sns.heatmap(data=corr, cmap='coolwarm', annot=True)"
   ]
  },
  {
   "cell_type": "code",
   "execution_count": 80,
   "id": "f372ae81-e5a3-435a-bb29-375b682c502c",
   "metadata": {},
   "outputs": [],
   "source": [
    "X = df[['tsubo', 'tsubo_su']]\n",
    "y = df[['price']]"
   ]
  },
  {
   "cell_type": "code",
   "execution_count": 81,
   "id": "0b8442e2-ed80-4a09-bc68-1995c4cee224",
   "metadata": {},
   "outputs": [
    {
     "data": {
      "text/html": [
       "<div>\n",
       "<style scoped>\n",
       "    .dataframe tbody tr th:only-of-type {\n",
       "        vertical-align: middle;\n",
       "    }\n",
       "\n",
       "    .dataframe tbody tr th {\n",
       "        vertical-align: top;\n",
       "    }\n",
       "\n",
       "    .dataframe thead th {\n",
       "        text-align: right;\n",
       "    }\n",
       "</style>\n",
       "<table border=\"1\" class=\"dataframe\">\n",
       "  <thead>\n",
       "    <tr style=\"text-align: right;\">\n",
       "      <th></th>\n",
       "      <th>tsubo</th>\n",
       "      <th>tsubo_su</th>\n",
       "    </tr>\n",
       "  </thead>\n",
       "  <tbody>\n",
       "    <tr>\n",
       "      <th>0</th>\n",
       "      <td>563000</td>\n",
       "      <td>44.69</td>\n",
       "    </tr>\n",
       "    <tr>\n",
       "      <th>1</th>\n",
       "      <td>694000</td>\n",
       "      <td>41.74</td>\n",
       "    </tr>\n",
       "    <tr>\n",
       "      <th>2</th>\n",
       "      <td>744000</td>\n",
       "      <td>42.89</td>\n",
       "    </tr>\n",
       "    <tr>\n",
       "      <th>3</th>\n",
       "      <td>613000</td>\n",
       "      <td>37.87</td>\n",
       "    </tr>\n",
       "    <tr>\n",
       "      <th>4</th>\n",
       "      <td>717000</td>\n",
       "      <td>38.87</td>\n",
       "    </tr>\n",
       "  </tbody>\n",
       "</table>\n",
       "</div>"
      ],
      "text/plain": [
       "    tsubo  tsubo_su\n",
       "0  563000     44.69\n",
       "1  694000     41.74\n",
       "2  744000     42.89\n",
       "3  613000     37.87\n",
       "4  717000     38.87"
      ]
     },
     "execution_count": 81,
     "metadata": {},
     "output_type": "execute_result"
    }
   ],
   "source": [
    "X.head()"
   ]
  },
  {
   "cell_type": "code",
   "execution_count": 82,
   "id": "6305aa7b-1051-4750-b485-f8d42b010b38",
   "metadata": {},
   "outputs": [
    {
     "data": {
      "text/plain": [
       "LinearRegression()"
      ]
     },
     "execution_count": 82,
     "metadata": {},
     "output_type": "execute_result"
    }
   ],
   "source": [
    "reg = LinearRegression()\n",
    "reg.fit(X, y)"
   ]
  },
  {
   "cell_type": "code",
   "execution_count": 83,
   "id": "ad1d7778-e464-4d25-b840-2f0d5812eb0d",
   "metadata": {},
   "outputs": [
    {
     "data": {
      "text/plain": [
       "0.3520178148928559"
      ]
     },
     "execution_count": 83,
     "metadata": {},
     "output_type": "execute_result"
    }
   ],
   "source": [
    "reg.score(X,y)"
   ]
  },
  {
   "cell_type": "code",
   "execution_count": 84,
   "id": "3a8df439-71dd-4441-816a-31c8b8b042f8",
   "metadata": {},
   "outputs": [
    {
     "data": {
      "text/html": [
       "<div>\n",
       "<style scoped>\n",
       "    .dataframe tbody tr th:only-of-type {\n",
       "        vertical-align: middle;\n",
       "    }\n",
       "\n",
       "    .dataframe tbody tr th {\n",
       "        vertical-align: top;\n",
       "    }\n",
       "\n",
       "    .dataframe thead th {\n",
       "        text-align: right;\n",
       "    }\n",
       "</style>\n",
       "<table border=\"1\" class=\"dataframe\">\n",
       "  <thead>\n",
       "    <tr style=\"text-align: right;\">\n",
       "      <th></th>\n",
       "      <th>price</th>\n",
       "      <th>tsubo</th>\n",
       "      <th>tsubo_su</th>\n",
       "      <th>kenpei</th>\n",
       "      <th>building</th>\n",
       "      <th>age</th>\n",
       "      <th>birth</th>\n",
       "      <th>area_A</th>\n",
       "      <th>area_B</th>\n",
       "      <th>area_C</th>\n",
       "      <th>area_D</th>\n",
       "    </tr>\n",
       "  </thead>\n",
       "  <tbody>\n",
       "    <tr>\n",
       "      <th>0</th>\n",
       "      <td>47400000</td>\n",
       "      <td>563000</td>\n",
       "      <td>44.69</td>\n",
       "      <td>0.834</td>\n",
       "      <td>482000</td>\n",
       "      <td>30</td>\n",
       "      <td>1986</td>\n",
       "      <td>1</td>\n",
       "      <td>0</td>\n",
       "      <td>0</td>\n",
       "      <td>0</td>\n",
       "    </tr>\n",
       "    <tr>\n",
       "      <th>1</th>\n",
       "      <td>60300000</td>\n",
       "      <td>694000</td>\n",
       "      <td>41.74</td>\n",
       "      <td>0.759</td>\n",
       "      <td>518000</td>\n",
       "      <td>36</td>\n",
       "      <td>1980</td>\n",
       "      <td>1</td>\n",
       "      <td>0</td>\n",
       "      <td>0</td>\n",
       "      <td>0</td>\n",
       "    </tr>\n",
       "    <tr>\n",
       "      <th>2</th>\n",
       "      <td>53700000</td>\n",
       "      <td>744000</td>\n",
       "      <td>42.89</td>\n",
       "      <td>0.955</td>\n",
       "      <td>384000</td>\n",
       "      <td>38</td>\n",
       "      <td>1978</td>\n",
       "      <td>1</td>\n",
       "      <td>0</td>\n",
       "      <td>0</td>\n",
       "      <td>0</td>\n",
       "    </tr>\n",
       "    <tr>\n",
       "      <th>3</th>\n",
       "      <td>29300000</td>\n",
       "      <td>613000</td>\n",
       "      <td>37.87</td>\n",
       "      <td>0.892</td>\n",
       "      <td>440000</td>\n",
       "      <td>42</td>\n",
       "      <td>1974</td>\n",
       "      <td>0</td>\n",
       "      <td>0</td>\n",
       "      <td>1</td>\n",
       "      <td>0</td>\n",
       "    </tr>\n",
       "    <tr>\n",
       "      <th>4</th>\n",
       "      <td>56200000</td>\n",
       "      <td>717000</td>\n",
       "      <td>38.87</td>\n",
       "      <td>1.005</td>\n",
       "      <td>504000</td>\n",
       "      <td>39</td>\n",
       "      <td>1977</td>\n",
       "      <td>1</td>\n",
       "      <td>0</td>\n",
       "      <td>0</td>\n",
       "      <td>0</td>\n",
       "    </tr>\n",
       "  </tbody>\n",
       "</table>\n",
       "</div>"
      ],
      "text/plain": [
       "      price   tsubo  tsubo_su  kenpei  building  age  birth  area_A  area_B  \\\n",
       "0  47400000  563000     44.69   0.834    482000   30   1986       1       0   \n",
       "1  60300000  694000     41.74   0.759    518000   36   1980       1       0   \n",
       "2  53700000  744000     42.89   0.955    384000   38   1978       1       0   \n",
       "3  29300000  613000     37.87   0.892    440000   42   1974       0       0   \n",
       "4  56200000  717000     38.87   1.005    504000   39   1977       1       0   \n",
       "\n",
       "   area_C  area_D  \n",
       "0       0       0  \n",
       "1       0       0  \n",
       "2       0       0  \n",
       "3       1       0  \n",
       "4       0       0  "
      ]
     },
     "execution_count": 84,
     "metadata": {},
     "output_type": "execute_result"
    }
   ],
   "source": [
    "X3 = pd.get_dummies(df)\n",
    "X3.head()"
   ]
  },
  {
   "cell_type": "code",
   "execution_count": null,
   "id": "8a32b2b1-e397-43ea-a283-d05d20c5db6b",
   "metadata": {},
   "outputs": [],
   "source": []
  }
 ],
 "metadata": {
  "kernelspec": {
   "display_name": "Python 3",
   "language": "python",
   "name": "python3"
  },
  "language_info": {
   "codemirror_mode": {
    "name": "ipython",
    "version": 3
   },
   "file_extension": ".py",
   "mimetype": "text/x-python",
   "name": "python",
   "nbconvert_exporter": "python",
   "pygments_lexer": "ipython3",
   "version": "3.8.8"
  }
 },
 "nbformat": 4,
 "nbformat_minor": 5
}

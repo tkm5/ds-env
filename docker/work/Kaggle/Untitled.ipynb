{
 "cells": [
  {
   "cell_type": "code",
   "execution_count": 7,
   "id": "ec2a128f-4439-4114-a2d0-577205261cf0",
   "metadata": {},
   "outputs": [],
   "source": [
    "! mkdir -p ~/.kaggle"
   ]
  },
  {
   "cell_type": "code",
   "execution_count": 13,
   "id": "2fc07298-0b26-4562-9076-f7e70ae00436",
   "metadata": {},
   "outputs": [
    {
     "name": "stdout",
     "output_type": "stream",
     "text": [
      "401 - Unauthorized\n"
     ]
    }
   ],
   "source": [
    "! kaggle competitions download -c allstate-claims-severity"
   ]
  },
  {
   "cell_type": "code",
   "execution_count": 12,
   "id": "eeb52dbd-083f-41be-bb93-659fe22ebc5c",
   "metadata": {},
   "outputs": [
    {
     "name": "stdout",
     "output_type": "stream",
     "text": [
      "/work/Kaggle\n"
     ]
    }
   ],
   "source": [
    "! pwd"
   ]
  },
  {
   "cell_type": "code",
   "execution_count": 13,
   "id": "11a13851-70e3-4cbd-8673-a56ab19951a2",
   "metadata": {},
   "outputs": [],
   "source": [
    "! mv /work/kaggle/token/kaggle.json /root/.kaggle/"
   ]
  },
  {
   "cell_type": "code",
   "execution_count": 14,
   "id": "4b8a4bfc-9476-4477-b319-45af1d5b4e9d",
   "metadata": {},
   "outputs": [
    {
     "name": "stdout",
     "output_type": "stream",
     "text": [
      "kaggle.json\n"
     ]
    }
   ],
   "source": [
    "! ls /root/.kaggle/"
   ]
  },
  {
   "cell_type": "code",
   "execution_count": 1,
   "id": "76412c2b-3eaf-4bbe-8912-67b445b7b25e",
   "metadata": {},
   "outputs": [],
   "source": [
    "! chmod 600 ~/.kaggle/kaggle.json"
   ]
  },
  {
   "cell_type": "code",
   "execution_count": 4,
   "id": "43223160-8266-4221-b192-bfe838261293",
   "metadata": {},
   "outputs": [
    {
     "name": "stdout",
     "output_type": "stream",
     "text": [
      "401 - Unauthorized\n"
     ]
    }
   ],
   "source": [
    "! kaggle competitions list"
   ]
  },
  {
   "cell_type": "code",
   "execution_count": 5,
   "id": "c8c76185-8beb-4276-af83-e01cee4083f8",
   "metadata": {},
   "outputs": [
    {
     "name": "stdout",
     "output_type": "stream",
     "text": [
      "kaggle.json\n"
     ]
    }
   ],
   "source": [
    "! ls /root/.kaggle/"
   ]
  },
  {
   "cell_type": "code",
   "execution_count": 7,
   "id": "4ff22272-94f6-492b-9664-7a7ce6d8dfc2",
   "metadata": {},
   "outputs": [
    {
     "name": "stdout",
     "output_type": "stream",
     "text": [
      "{\"username\":\"takumig\",\"key\":\"19067347f913f95b8680cec46769ae78\"}"
     ]
    }
   ],
   "source": [
    "! cat /root/.kaggle/kaggle.json"
   ]
  },
  {
   "cell_type": "code",
   "execution_count": 12,
   "id": "fdfbd3d8-6d4e-4f8e-89f9-2a29a395cc67",
   "metadata": {},
   "outputs": [],
   "source": [
    "! chmod 600 /root/.kaggle/kaggle.json"
   ]
  },
  {
   "cell_type": "code",
   "execution_count": 11,
   "id": "da7d6037-0371-421f-aa5c-42a432457fca",
   "metadata": {},
   "outputs": [
    {
     "name": "stdout",
     "output_type": "stream",
     "text": [
      "Requirement already satisfied: kaggle in /opt/anaconda3/lib/python3.8/site-packages (1.5.12)\n",
      "Requirement already satisfied: requests in /opt/anaconda3/lib/python3.8/site-packages (from kaggle) (2.25.1)\n",
      "Requirement already satisfied: six>=1.10 in /opt/anaconda3/lib/python3.8/site-packages (from kaggle) (1.15.0)\n",
      "Requirement already satisfied: certifi in /opt/anaconda3/lib/python3.8/site-packages (from kaggle) (2020.12.5)\n",
      "Requirement already satisfied: python-slugify in /opt/anaconda3/lib/python3.8/site-packages (from kaggle) (6.1.0)\n",
      "Requirement already satisfied: urllib3 in /opt/anaconda3/lib/python3.8/site-packages (from kaggle) (1.26.4)\n",
      "Requirement already satisfied: tqdm in /opt/anaconda3/lib/python3.8/site-packages (from kaggle) (4.59.0)\n",
      "Requirement already satisfied: python-dateutil in /opt/anaconda3/lib/python3.8/site-packages (from kaggle) (2.8.1)\n",
      "Requirement already satisfied: text-unidecode>=1.3 in /opt/anaconda3/lib/python3.8/site-packages (from python-slugify->kaggle) (1.3)\n",
      "Requirement already satisfied: chardet<5,>=3.0.2 in /opt/anaconda3/lib/python3.8/site-packages (from requests->kaggle) (4.0.0)\n",
      "Requirement already satisfied: idna<3,>=2.5 in /opt/anaconda3/lib/python3.8/site-packages (from requests->kaggle) (2.10)\n",
      "\u001b[33mWARNING: Running pip as the 'root' user can result in broken permissions and conflicting behaviour with the system package manager. It is recommended to use a virtual environment instead: https://pip.pypa.io/warnings/venv\u001b[0m\u001b[33m\n",
      "\u001b[0m"
     ]
    }
   ],
   "source": [
    "! pip install -U kaggle"
   ]
  },
  {
   "cell_type": "code",
   "execution_count": null,
   "id": "64ffd75e-a2ed-4d75-8dcf-70346df6bc0e",
   "metadata": {},
   "outputs": [],
   "source": []
  }
 ],
 "metadata": {
  "kernelspec": {
   "display_name": "Python 3",
   "language": "python",
   "name": "python3"
  },
  "language_info": {
   "codemirror_mode": {
    "name": "ipython",
    "version": 3
   },
   "file_extension": ".py",
   "mimetype": "text/x-python",
   "name": "python",
   "nbconvert_exporter": "python",
   "pygments_lexer": "ipython3",
   "version": "3.8.8"
  }
 },
 "nbformat": 4,
 "nbformat_minor": 5
}

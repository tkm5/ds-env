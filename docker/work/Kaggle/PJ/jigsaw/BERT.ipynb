{
 "cells": [
  {
   "cell_type": "markdown",
   "id": "99527d16-1a1d-4aaa-af4a-e425158f8f68",
   "metadata": {
    "pycharm": {
     "name": "#%% md\n"
    }
   },
   "source": [
    "<font size=10em>Multi-label language classification</font>  \n",
    "<font size=6em>BERT - TensorFlow 2 & Hugging Face Transformers Library</font>"
   ]
  },
  {
   "cell_type": "code",
   "execution_count": null,
   "id": "eda5bf06-a3c6-49ec-abc7-a885d4b10b1c",
   "metadata": {
    "pycharm": {
     "name": "#%%\n"
    }
   },
   "outputs": [],
   "source": [
    "__author__ = 'takumig'"
   ]
  },
  {
   "cell_type": "markdown",
   "id": "65b6834a-ea47-4a2c-a205-cd0fb036c343",
   "metadata": {
    "pycharm": {
     "name": "#%% md\n"
    }
   },
   "source": [
    "<font size=4em>abstract</font>  \n",
    "In this notebook we will learn how to solve the [Jigsaw Toxic Comment Classification Challenge](https://www.kaggle.com/c/jigsaw-toxic-comment-classification-challenge).  \n",
    "The challenge is to determine if a comment taken from a Wikipedia edit discussion can be classified as one or more of the following:  \n",
    "- toxic\n",
    "- severe_toxic\n",
    "- obscene\n",
    "- threat\n",
    "- insult\n",
    "- identity_hate"
   ]
  },
  {
   "cell_type": "markdown",
   "id": "d64ce696-7bec-43d3-8f82-6285ac177cda",
   "metadata": {
    "pycharm": {
     "name": "#%% md\n"
    }
   },
   "source": [
    "# preparation"
   ]
  },
  {
   "cell_type": "markdown",
   "id": "47132300-ec6c-4935-82c9-00d4bfe5e2be",
   "metadata": {
    "pycharm": {
     "name": "#%% md\n"
    }
   },
   "source": [
    "## Settings"
   ]
  },
  {
   "cell_type": "code",
   "execution_count": null,
   "id": "1895529d-9123-4559-b835-b6b9daec7255",
   "metadata": {
    "pycharm": {
     "name": "#%%\n"
    }
   },
   "outputs": [],
   "source": [
    "# setting up kaggle authentication\n",
    "# Just do one of the following\n",
    "\n",
    "# -------------------------------------------------------------\n",
    "# # 1. change permission\n",
    "# ! chmod 600 ~/.kaggle/kaggle.json\n",
    "\n",
    "# -------------------------------------------------------------\n",
    "# 2. set environment variable    <<======== !!choose now!!\n",
    "import os\n",
    "import json\n",
    "\n",
    "with open(\"~/.kaggle/kaggle.json\", mode=\"r\") as f:\n",
    "    json_data = json.load(f)\n",
    "os.environ[\"KAGGLE_USERNAME\"] = json_data[\"username\"]\n",
    "os.environ[\"KAGGLE_KEY\"] = json_data[\"key\"]"
   ]
  },
  {
   "cell_type": "markdown",
   "id": "ca10206c-3a60-4b4f-bdb6-859b0b9ee734",
   "metadata": {
    "pycharm": {
     "name": "#%% md\n"
    }
   },
   "source": [
    "useing environments\n",
    "- [Kaggle API](https://github.com/Kaggle/kaggle-api)\n",
    "- [Docker container registory](https://console.cloud.google.com/gcr/images/kaggle-gpu-images/GLOBAL/python@sha256:7b500f6081e92f812db283da919abe5e305c17a7130d456ddd8ddbd7da786e50/details)\n",
    "- [GitHub](https://github.com/Kaggle/docker-python/blob/main/Dockerfile.tmpl)  "
   ]
  },
  {
   "cell_type": "markdown",
   "id": "9c880e14-3272-4c9f-be83-57376b7eb685",
   "metadata": {
    "pycharm": {
     "name": "#%% md\n"
    }
   },
   "source": [
    "## Data Preparation"
   ]
  },
  {
   "cell_type": "code",
   "execution_count": null,
   "id": "d0c14459-a85e-4239-9840-17e42c94eac5",
   "metadata": {
    "pycharm": {
     "name": "#%%\n"
    }
   },
   "outputs": [],
   "source": [
    "# # download data using kaggle API\n",
    "# ! kaggle competitions download -c jigsaw-toxic-comment-classification-challenge\n",
    "# # unzip the downloaded data\n",
    "# ! unzip jigsaw-toxic-comment-classification-challenge.zip"
   ]
  },
  {
   "cell_type": "code",
   "execution_count": null,
   "id": "c5a49e7d-77a5-4ed9-820e-00ec665d4f48",
   "metadata": {
    "pycharm": {
     "name": "#%%\n"
    }
   },
   "outputs": [],
   "source": [
    "# If the error occurs in the version, please activate below\n",
    "!pip install transformers==2.3.0"
   ]
  },
  {
   "cell_type": "code",
   "execution_count": null,
   "id": "44dd7367-0c03-498b-9499-6f0957cd5705",
   "metadata": {
    "pycharm": {
     "name": "#%%\n"
    }
   },
   "outputs": [],
   "source": [
    "# ds library\n",
    "import numpy as np\n",
    "import pandas as pd\n",
    "import tensorflow as tf\n",
    "\n",
    "# drawing　library\n",
    "import matplotlib.pyplot as plt\n",
    "import seaborn as sns\n",
    "%matplotlib inline\n",
    "\n",
    "# others \n",
    "from tqdm.notebook import tqdm"
   ]
  },
  {
   "cell_type": "code",
   "execution_count": null,
   "id": "1d3ea838-c1d4-4751-95b9-393cbd21c489",
   "metadata": {
    "pycharm": {
     "name": "#%%\n"
    }
   },
   "outputs": [],
   "source": [
    "df_train = pd.read_csv('train.csv.zip')\n",
    "df_test = pd.read_csv('test.csv.zip')"
   ]
  },
  {
   "cell_type": "markdown",
   "id": "4f81c6db-972c-4cf1-962e-c6343716f474",
   "metadata": {
    "pycharm": {
     "name": "#%% md\n"
    }
   },
   "source": [
    "# EDA"
   ]
  },
  {
   "cell_type": "markdown",
   "id": "13cd7f7f-6d77-4baf-a988-023c61a1d23b",
   "metadata": {
    "pycharm": {
     "name": "#%% md\n"
    }
   },
   "source": [
    "## overhead view"
   ]
  },
  {
   "cell_type": "code",
   "execution_count": null,
   "id": "31dae13d-7433-48c0-9274-c5bad1f697c9",
   "metadata": {
    "pycharm": {
     "name": "#%%\n"
    }
   },
   "outputs": [],
   "source": [
    "df_train"
   ]
  },
  {
   "cell_type": "code",
   "execution_count": null,
   "id": "ef4f3585-0b69-4e05-a3c3-ab0a1585468e",
   "metadata": {
    "pycharm": {
     "name": "#%%\n"
    }
   },
   "outputs": [],
   "source": [
    "df_test"
   ]
  },
  {
   "cell_type": "code",
   "execution_count": null,
   "id": "b255df2f-85de-4e5e-bfaa-159564c05f59",
   "metadata": {
    "pycharm": {
     "name": "#%%\n"
    }
   },
   "outputs": [],
   "source": [
    "df_train.info()"
   ]
  },
  {
   "cell_type": "markdown",
   "id": "1531a253-6429-4839-b7ec-b55b7bfe9620",
   "metadata": {
    "pycharm": {
     "name": "#%% md\n"
    }
   },
   "source": [
    "## lavel columns"
   ]
  },
  {
   "cell_type": "code",
   "execution_count": null,
   "id": "3fef1dfb-a7e9-4e22-9b71-1bd1ccbd2982",
   "metadata": {
    "pycharm": {
     "name": "#%%\n"
    }
   },
   "outputs": [],
   "source": [
    "df_train.describe()"
   ]
  },
  {
   "cell_type": "code",
   "execution_count": null,
   "id": "bdd2f204-71ae-4964-a77f-fa8c8622b944",
   "metadata": {
    "pycharm": {
     "name": "#%%\n"
    }
   },
   "outputs": [],
   "source": [
    "comments = df_train.drop(['id','comment_text'],axis = 1)\n",
    "for i in comments.columns :\n",
    "    print(f\"percent of {i}: {round(100*comments[i].mean(),2)}%\")"
   ]
  },
  {
   "cell_type": "markdown",
   "id": "ce4ed541-ac7c-41f2-afe0-a443d44d45fa",
   "metadata": {
    "pycharm": {
     "name": "#%% md\n"
    }
   },
   "source": [
    "## comment_colmun"
   ]
  },
  {
   "cell_type": "code",
   "execution_count": null,
   "id": "a2bac6fd-3dad-4003-ad69-5c3e21d5c38b",
   "metadata": {
    "pycharm": {
     "name": "#%%\n"
    }
   },
   "outputs": [],
   "source": [
    "lens = df_train.comment_text.str.len()\n",
    "\n",
    "print(f\"\"\"\\\n",
    "mean: {lens.mean():.2f}\\n \\\n",
    "std: {lens.std():.2f}\\n \\\n",
    "min: {lens.min()}\\n \\\n",
    "max: {lens.max()}\\n \\\n",
    "\"\"\")"
   ]
  },
  {
   "cell_type": "code",
   "execution_count": null,
   "id": "bbd6b194-451f-4678-9d5e-ef2f51ec2bdc",
   "metadata": {
    "pycharm": {
     "name": "#%%\n"
    }
   },
   "outputs": [],
   "source": [
    "fig, ax = plt.subplots(figsize=(25, 7))\n",
    "sns.histplot(data=lens, ax=ax, kde=True)"
   ]
  },
  {
   "cell_type": "code",
   "execution_count": null,
   "id": "c7a162fd-58f3-49e9-a6ae-55e546f13f9d",
   "metadata": {
    "pycharm": {
     "name": "#%%\n"
    }
   },
   "outputs": [],
   "source": [
    "label_cols = [cname for cname in df_train.columns \n",
    "              if df_train[cname].dtype == \"int64\"]\n",
    "label_cols"
   ]
  },
  {
   "cell_type": "markdown",
   "id": "ac5dc32a-5e11-4429-9d3a-a223a7afb7be",
   "metadata": {
    "pycharm": {
     "name": "#%% md\n"
    }
   },
   "source": [
    "# building the model"
   ]
  },
  {
   "cell_type": "markdown",
   "id": "69931ef1-7f61-4e23-bdc1-056855028a69",
   "metadata": {
    "pycharm": {
     "name": "#%% md\n"
    }
   },
   "source": [
    "## data pipeline\n",
    "- Preprocessing (Tokenization, Truncation & Padding)\n",
    "- Creating efficient data pipelines using [tf.data](https://www.tensorflow.org/guide/data).  \n",
    "- Base model is [bert-base-uncased](https://huggingface.co/bert-base-uncased)\n",
    "- [Hugging Face Glossaary](https://huggingface.co/docs/transformers/glossary)"
   ]
  },
  {
   "cell_type": "code",
   "execution_count": null,
   "id": "09687e15-26a0-4736-81be-430791d7159b",
   "metadata": {
    "pycharm": {
     "name": "#%%\n"
    }
   },
   "outputs": [],
   "source": [
    "df_test_labels = pd.read_csv(\"test_labels.csv.zip\", index_col='id')"
   ]
  },
  {
   "cell_type": "code",
   "execution_count": null,
   "id": "bb722743-fffc-4e25-882d-61a6713400f1",
   "metadata": {
    "pycharm": {
     "name": "#%%\n"
    }
   },
   "outputs": [],
   "source": [
    "from transformers import BertTokenizer\n",
    "from keras.preprocessing.sequence import pad_sequences\n",
    "\n",
    "bert_model_name = 'bert-base-uncased'\n",
    "\n",
    "tokenizer = BertTokenizer.from_pretrained(bert_model_name, do_lower_case=True)\n",
    "MAX_LEN = 128\n",
    "\n",
    "def tokenize_sentences(sentences, tokenizer, max_seq_len = 128):\n",
    "    tokenized_sentences = []\n",
    "\n",
    "    for sentence in tqdm(sentences):\n",
    "        tokenized_sentence = tokenizer.encode(\n",
    "                            sentence,                  # Sentence to encode.\n",
    "                            add_special_tokens = True, # Add '[CLS]' and '[SEP]'\n",
    "                            max_length = max_seq_len,  # Truncate all sentences.\n",
    "                    )\n",
    "        \n",
    "        tokenized_sentences.append(tokenized_sentence)\n",
    "\n",
    "    return tokenized_sentences\n",
    "\n",
    "def create_attention_masks(tokenized_and_padded_sentences):\n",
    "    attention_masks = []\n",
    "\n",
    "    for sentence in tokenized_and_padded_sentences:\n",
    "        att_mask = [int(token_id > 0) for token_id in sentence]\n",
    "        attention_masks.append(att_mask)\n",
    "\n",
    "    return np.asarray(attention_masks)\n",
    "\n",
    "input_ids = tokenize_sentences(df_train['comment_text'], tokenizer, MAX_LEN) # Stores encoded body data\n",
    "input_ids = pad_sequences(input_ids, maxlen=MAX_LEN, dtype=\"long\", value=0, truncating=\"post\", padding=\"post\")\n",
    "attention_masks = create_attention_masks(input_ids)"
   ]
  },
  {
   "cell_type": "markdown",
   "id": "47c094e9-bc5f-47df-bd45-b6b2dd8cbdf0",
   "metadata": {
    "pycharm": {
     "name": "#%% md\n"
    }
   },
   "source": [
    "- Split train test"
   ]
  },
  {
   "cell_type": "code",
   "execution_count": null,
   "id": "1ef01c5f-d417-45ba-940c-0fc2c68b053f",
   "metadata": {
    "pycharm": {
     "name": "#%%\n"
    }
   },
   "outputs": [],
   "source": [
    "from sklearn.model_selection import train_test_split\n",
    "\n",
    "labels =  df_train[label_cols].values\n",
    "\n",
    "train_inputs, validation_inputs, train_labels, validation_labels = train_test_split(input_ids, labels, random_state=0, test_size=0.1)\n",
    "train_masks, validation_masks, _, _ = train_test_split(attention_masks, labels, random_state=0, test_size=0.1)\n",
    "\n",
    "train_size = len(train_inputs)\n",
    "validation_size = len(validation_inputs)"
   ]
  },
  {
   "cell_type": "markdown",
   "id": "072c793c-759d-4b46-97ed-8711d3d3d208",
   "metadata": {
    "pycharm": {
     "name": "#%% md\n"
    }
   },
   "source": [
    "- Creating dataset using [tf.data.Dataset](https://www.tensorflow.org/api_docs/python/tf/data/Dataset)"
   ]
  },
  {
   "cell_type": "code",
   "execution_count": null,
   "id": "01e58708-24df-4d54-9e6c-fb72a1811521",
   "metadata": {
    "pycharm": {
     "name": "#%%\n"
    }
   },
   "outputs": [],
   "source": [
    "BATCH_SIZE = 32\n",
    "NR_EPOCHS = 1\n",
    "\n",
    "def create_dataset(data_tuple, epochs=1, batch_size=32, buffer_size=10000, train=True):\n",
    "    dataset = tf.data.Dataset.from_tensor_slices(data_tuple)\n",
    "    if train:\n",
    "        dataset = dataset.shuffle(buffer_size=buffer_size)\n",
    "    dataset = dataset.repeat(epochs)\n",
    "    dataset = dataset.batch(batch_size)\n",
    "    if train:\n",
    "        dataset = dataset.prefetch(1)\n",
    "    \n",
    "    return dataset\n",
    "\n",
    "train_dataset = create_dataset((train_inputs, train_masks, train_labels), epochs=NR_EPOCHS, batch_size=BATCH_SIZE)\n",
    "validation_dataset = create_dataset((validation_inputs, validation_masks, validation_labels), epochs=NR_EPOCHS, batch_size=BATCH_SIZE)"
   ]
  },
  {
   "cell_type": "markdown",
   "id": "0417a145-76ca-4c1b-a2b2-0106ff525d0b",
   "metadata": {
    "pycharm": {
     "name": "#%% md\n"
    },
    "tags": []
   },
   "source": [
    "## BERT model\n",
    "- Load the pretrained [BERT](https://arxiv.org/pdf/1810.04805.pdf) base-model from Transformers library.\n",
    "- Take the first hidden-state from BERT output and feed it into a Dense layer with 6 neurons and sigmoid activation. \n",
    "- The outputs of this layer can be interpreted as probabilities for each of the 6 classes.\n",
    "- Better performance with [tf.function](https://www.tensorflow.org/guide/function?hl=en)"
   ]
  },
  {
   "cell_type": "code",
   "execution_count": null,
   "id": "bd13aa3b-fc2c-4278-8c8e-32d4853aec72",
   "metadata": {
    "pycharm": {
     "name": "#%%\n"
    }
   },
   "outputs": [],
   "source": [
    "from transformers import TFBertModel\n",
    "from tensorflow.keras.layers import Dense, Flatten\n",
    "\n",
    "class BertClassifier(tf.keras.Model):    \n",
    "    def __init__(self, bert: TFBertModel, num_classes: int):\n",
    "        super().__init__()\n",
    "        self.bert = bert\n",
    "        self.classifier = Dense(num_classes, activation='sigmoid')\n",
    "        \n",
    "    @tf.function\n",
    "    def call(self, input_ids, attention_mask=None, token_type_ids=None, position_ids=None, head_mask=None):\n",
    "        outputs = self.bert(input_ids,\n",
    "                               attention_mask=attention_mask,\n",
    "                               token_type_ids=token_type_ids,\n",
    "                               position_ids=position_ids,\n",
    "                               head_mask=head_mask)\n",
    "        cls_output = outputs[1]\n",
    "        cls_output = self.classifier(cls_output)\n",
    "                \n",
    "        return cls_output\n",
    "\n",
    "model = BertClassifier(TFBertModel.from_pretrained(bert_model_name), len(label_cols))"
   ]
  },
  {
   "cell_type": "markdown",
   "id": "6a96e5e7-7269-4c73-abf1-2a4c80928850",
   "metadata": {
    "pycharm": {
     "name": "#%% md\n"
    }
   },
   "source": [
    "## Training Loop\n",
    "- Use [BinaryCrossentropy](https://www.tensorflow.org/api_docs/python/tf/keras/losses/BinaryCrossentropy) as loss function\n",
    "- Use the [AdamW optimizer](https://www.tensorflow.org/addons/api_docs/python/tfa/optimizers/AdamW) with 1-cycle-policy from the Transformers library\n",
    "- [Metrics](https://www.tensorflow.org/api_docs/python/tf/keras/metrics/Mean)\n",
    "- Better performance with [tf.function](https://www.tensorflow.org/guide/function?hl=en)\n",
    "- AUC evaluation metrics"
   ]
  },
  {
   "cell_type": "code",
   "execution_count": null,
   "id": "07cbb86d-8cc9-4f5a-b8f5-1dfc2b086ac8",
   "metadata": {
    "pycharm": {
     "name": "#%%\n"
    }
   },
   "outputs": [],
   "source": [
    "import time\n",
    "from transformers import create_optimizer\n",
    "\n",
    "steps_per_epoch = train_size // BATCH_SIZE\n",
    "validation_steps = validation_size // BATCH_SIZE\n",
    "\n",
    "# Loss Function\n",
    "loss_object = tf.keras.losses.BinaryCrossentropy(from_logits=False)\n",
    "train_loss = tf.keras.metrics.Mean(name='train_loss')\n",
    "validation_loss = tf.keras.metrics.Mean(name='test_loss')\n",
    "\n",
    "# Optimizer (with 1-cycle-policy)\n",
    "warmup_steps = steps_per_epoch // 3\n",
    "total_steps = steps_per_epoch * NR_EPOCHS - warmup_steps\n",
    "optimizer = create_optimizer(init_lr=2e-5, num_train_steps=total_steps, num_warmup_steps=warmup_steps)\n",
    "\n",
    "# Metrics\n",
    "train_auc_metrics = [tf.keras.metrics.AUC() for i in range(len(label_cols))]\n",
    "validation_auc_metrics = [tf.keras.metrics.AUC() for i in range(len(label_cols))]\n",
    "\n",
    "@tf.function\n",
    "def train_step(model, token_ids, masks, labels):\n",
    "    labels = tf.dtypes.cast(labels, tf.float32)\n",
    "\n",
    "    with tf.GradientTape() as tape:\n",
    "        predictions = model(token_ids, attention_mask=masks)\n",
    "        loss = loss_object(labels, predictions)\n",
    "\n",
    "    gradients = tape.gradient(loss, model.trainable_variables)\n",
    "    optimizer.apply_gradients(zip(gradients, model.trainable_variables), 1.0)\n",
    "\n",
    "    train_loss(loss)\n",
    "\n",
    "    for i, auc in enumerate(train_auc_metrics):\n",
    "        auc.update_state(labels[:,i], predictions[:,i])\n",
    "        \n",
    "@tf.function\n",
    "def validation_step(model, token_ids, masks, labels):\n",
    "    labels = tf.dtypes.cast(labels, tf.float32)\n",
    "\n",
    "    predictions = model(token_ids, attention_mask=masks, training=False)\n",
    "    v_loss = loss_object(labels, predictions)\n",
    "\n",
    "    validation_loss(v_loss)\n",
    "    for i, auc in enumerate(validation_auc_metrics):\n",
    "        auc.update_state(labels[:,i], predictions[:,i])\n",
    "                                              \n",
    "def train(model, train_dataset, val_dataset, train_steps_per_epoch, val_steps_per_epoch, epochs):\n",
    "    for epoch in range(epochs):\n",
    "        print('=' * 50, f\"EPOCH {epoch}\", '=' * 50)\n",
    "\n",
    "        start = time.time()\n",
    "\n",
    "        for i, (token_ids, masks, labels) in enumerate(tqdm(train_dataset, total=train_steps_per_epoch)):\n",
    "            train_step(model, token_ids, masks, labels)\n",
    "            if i % 1000 == 0:\n",
    "                print(f'\\nTrain Step: {i}, Loss: {train_loss.result()}')\n",
    "                for i, label_name in enumerate(label_cols):\n",
    "                    print(f\"{label_name} roc_auc {train_auc_metrics[i].result()}\")\n",
    "                    train_auc_metrics[i].reset_states()\n",
    "        \n",
    "        for i, (token_ids, masks, labels) in enumerate(tqdm(val_dataset, total=val_steps_per_epoch)):\n",
    "            validation_step(model, token_ids, masks, labels)\n",
    "\n",
    "        print(f'\\nEpoch {epoch+1}, Validation Loss: {validation_loss.result()}, Time: {time.time()-start}\\n')\n",
    "\n",
    "        for i, label_name in enumerate(label_cols):\n",
    "            print(f\"{label_name} roc_auc {validation_auc_metrics[i].result()}\")\n",
    "            validation_auc_metrics[i].reset_states()\n",
    "\n",
    "        print('\\n')\n",
    "\n",
    "        \n",
    "train(model, train_dataset, validation_dataset, train_steps_per_epoch=steps_per_epoch, val_steps_per_epoch=validation_steps, epochs=NR_EPOCHS)"
   ]
  },
  {
   "cell_type": "markdown",
   "id": "e6976637-08ed-4374-80b4-4040edf1f4fa",
   "metadata": {
    "pycharm": {
     "name": "#%% md\n"
    }
   },
   "source": [
    "# predict & submission"
   ]
  },
  {
   "cell_type": "code",
   "execution_count": null,
   "id": "eff309f6-1e61-40fb-b4eb-68710e8cbcf9",
   "metadata": {
    "pycharm": {
     "name": "#%%\n"
    }
   },
   "outputs": [],
   "source": [
    "test_input_ids = tokenize_sentences(df_test['comment_text'], tokenizer, MAX_LEN)\n",
    "test_input_ids = pad_sequences(test_input_ids, maxlen=MAX_LEN, dtype=\"long\", value=0, truncating=\"post\", padding=\"post\")\n",
    "test_attention_masks = create_attention_masks(test_input_ids)"
   ]
  },
  {
   "cell_type": "code",
   "execution_count": null,
   "id": "83da80f8-dec5-4ca9-be08-82f61a1d3ea1",
   "metadata": {
    "pycharm": {
     "name": "#%%\n"
    }
   },
   "outputs": [],
   "source": [
    "TEST_BATCH_SIZE = 32\n",
    "test_steps = len(df_test) // TEST_BATCH_SIZE\n",
    "\n",
    "test_dataset = create_dataset((test_input_ids, test_attention_masks), batch_size=TEST_BATCH_SIZE, train=False, epochs=1)\n",
    "\n",
    "df_submission = pd.read_csv(\"sample_submission.csv.zip\", index_col='id')\n",
    "\n",
    "for i, (token_ids, masks) in enumerate(tqdm(test_dataset, total=test_steps)):\n",
    "    sample_ids = df_test.iloc[i*TEST_BATCH_SIZE:(i+1)*TEST_BATCH_SIZE]['id']\n",
    "    predictions = model(token_ids, attention_mask=masks).numpy()\n",
    "\n",
    "    df_submission.loc[sample_ids, label_cols] = predictions"
   ]
  },
  {
   "cell_type": "code",
   "execution_count": null,
   "id": "aee3d922-59f7-4492-a936-0bd1e560515d",
   "metadata": {
    "pycharm": {
     "name": "#%%\n"
    }
   },
   "outputs": [],
   "source": [
    "df_submission.to_csv('submission.csv')"
   ]
  },
  {
   "cell_type": "markdown",
   "id": "85f9a43e-1ea8-49c2-93ab-3fb0b174eecb",
   "metadata": {
    "pycharm": {
     "name": "#%% md\n"
    }
   },
   "source": [
    "-  Send a DM to slack when the process is finished."
   ]
  },
  {
   "cell_type": "code",
   "execution_count": null,
   "id": "8ecde0ae-f03f-444a-ae2c-41572067eba6",
   "metadata": {
    "pycharm": {
     "name": "#%%\n"
    }
   },
   "outputs": [],
   "source": [
    "# pip install slack_sdk\n",
    "import json\n",
    "from slack_sdk import WebClient\n",
    "\n",
    "with open(\"slack.json\", mode=\"r\") as f:\n",
    "    json_data = json.load(f)\n",
    "\n",
    "token = json_data[\"token\"]\n",
    "\n",
    "client = WebClient(token)\n",
    "user_id = json_data[\"user_id\"]\n",
    "\n",
    "res = client.conversations_open(users=user_id)\n",
    "dm_id = res['channel']['id']\n",
    "\n",
    "text = \"The BERT study and the creation of the CSV file have been completed.\"\n",
    "client.chat_postMessage(channel=dm_id, text=text)"
   ]
  },
  {
   "cell_type": "code",
   "execution_count": null,
   "id": "27fda987-33ac-4836-9384-132aa9fd4348",
   "metadata": {
    "pycharm": {
     "name": "#%%\n"
    }
   },
   "outputs": [],
   "source": [
    "# submit using kaggle api\n",
    "! kaggle competitions submit -c jigsaw-toxic-comment-classification-challenge -f submission.csv -m \"Predicted using BERT\""
   ]
  },
  {
   "cell_type": "markdown",
   "id": "d3a708e8-1bf3-4df1-b412-2e79269b6281",
   "metadata": {
    "pycharm": {
     "name": "#%% md\n"
    },
    "tags": []
   },
   "source": [
    "# result"
   ]
  },
  {
   "cell_type": "markdown",
   "id": "8f8f1782-1559-49cb-beb9-c85cd66493d8",
   "metadata": {
    "pycharm": {
     "name": "#%% md\n"
    }
   },
   "source": [
    "Private Score: 0.98403  \n",
    "Public Score: 0.98374"
   ]
  },
  {
   "attachments": {
    "054f8ec3-4771-4d08-b76b-6049a4ce61d4.jpg": {
     "image/jpeg": "[encoded data removed]"
    }
   },
   "cell_type": "markdown",
   "id": "b3b4bfc3-0ac1-40e2-83b9-83eb2e7b50bb",
   "metadata": {
    "pycharm": {
     "name": "#%% md\n"
    }
   },
   "source": [
    "![Screen Shot 2022-03-12 at 2.12.12 AM.jpg](attachment:054f8ec3-4771-4d08-b76b-6049a4ce61d4.jpg)"
   ]
  },
  {
   "cell_type": "markdown",
   "id": "71e24a29-eb76-408a-8088-33847a869347",
   "metadata": {
    "pycharm": {
     "name": "#%% md\n"
    }
   },
   "source": [
    "# conclusion"
   ]
  },
  {
   "cell_type": "markdown",
   "id": "571a0f8d-b4ae-4c81-8e5b-f8e2aa7e6174",
   "metadata": {
    "pycharm": {
     "name": "#%% md\n"
    }
   },
   "source": [
    "## FYI: Do not use NN"
   ]
  },
  {
   "cell_type": "markdown",
   "id": "010d05c0-4989-4687-9f2d-900499d2bba5",
   "metadata": {
    "pycharm": {
     "name": "#%% md\n"
    }
   },
   "source": [
    "The following results are obtained using NBSVM.  \n",
    "Features are extracted using Bayes' theorem and then classified by SVM.  \n",
    "Use logistic regression instead of SVM.  \n",
    "[Baselines and Bigrams: Simple, Good Sentiment and Topic Classification](https://nlp.stanford.edu/pubs/sidaw12_simple_sentiment.pdf)  \n",
    "code is here -> [NBSVM.ipynb](http://localhost:8888/lab/tree/work/Kaggle/PJ/jigsaw/NBSVM.ipynb)"
   ]
  },
  {
   "attachments": {
    "8503cea8-07c1-4e4c-a378-baa00d466a60.jpg": {
     "image/jpeg": "[encoded data removed]"
    }
   },
   "cell_type": "markdown",
   "id": "630c8efc-48e9-4164-ba41-1c10e3b6e5d8",
   "metadata": {
    "pycharm": {
     "name": "#%% md\n"
    }
   },
   "source": [
    "![Screen Shot 2022-03-12 at 1.10.52 AM.jpg](attachment:8503cea8-07c1-4e4c-a378-baa00d466a60.jpg)"
   ]
  },
  {
   "cell_type": "markdown",
   "id": "d9da1949-7857-4fb1-8549-809299fc3ef6",
   "metadata": {
    "pycharm": {
     "name": "#%% md\n"
    }
   },
   "source": [
    "## impressions"
   ]
  },
  {
   "cell_type": "markdown",
   "id": "c6b29c5b-f894-4e35-af3a-69c54e9c8c9c",
   "metadata": {
    "pycharm": {
     "name": "#%% md\n"
    }
   },
   "source": [
    "Accuracy was greatly improved when BERT was used.  \n",
    "However, significant costs were incurred.  \n",
    "\n",
    " For example, the GPU environment required a GCP environment.  \n",
    " Because of time constraints, a high-spec instance was used for this project.  \n",
    " The cost was approximately ￥10,000 yen.  \n",
    "  \n",
    "In addition, since many methods are provided, implementation was not difficult,  \n",
    "but I also realized the disadvantage that it is difficult to follow the inner processes.  \n",
    "\n",
    "If only accuracy is required, such as in kaggle and applications  \n",
    "I think deep learning is a good way to go.  \n",
    "I have the impression that it is not suitable for strategic planning in my business."
   ]
  },
  {
   "cell_type": "code",
   "execution_count": null,
   "id": "0af31335-ba0f-4a47-bc93-2865d8b01a5d",
   "metadata": {
    "pycharm": {
     "name": "#%%\n"
    }
   },
   "outputs": [],
   "source": []
  }
 ],
 "metadata": {
  "environment": {
   "kernel": "python3",
   "name": "tf2-gpu.2-8.m90",
   "type": "gcloud",
   "uri": "gcr.io/deeplearning-platform-release/tf2-gpu.2-8:m90"
  },
  "kernelspec": {
   "display_name": "Python 3 (ipykernel)",
   "language": "python",
   "name": "python3"
  },
  "language_info": {
   "codemirror_mode": {
    "name": "ipython",
    "version": 3
   },
   "file_extension": ".py",
   "mimetype": "text/x-python",
   "name": "python",
   "nbconvert_exporter": "python",
   "pygments_lexer": "ipython3",
   "version": "3.9.7"
  },
  "toc-autonumbering": true
 },
 "nbformat": 4,
 "nbformat_minor": 5
}

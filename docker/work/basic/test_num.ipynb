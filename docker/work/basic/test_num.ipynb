{
 "cells": [
  {
   "cell_type": "code",
   "execution_count": 2,
   "id": "56e4f74e-cb55-4892-b902-fc0232cae714",
   "metadata": {},
   "outputs": [],
   "source": [
    "import random"
   ]
  },
  {
   "cell_type": "code",
   "execution_count": 3,
   "id": "ecd81922-8495-4eb7-bf6e-9b5c538feea4",
   "metadata": {},
   "outputs": [],
   "source": [
    "def rand_ints_nodup(a, b, k):\n",
    "    ns = []\n",
    "    while len(ns) < k:\n",
    "        n = random.randint(a, b)\n",
    "        if not n in ns:\n",
    "            ns.append(n)\n",
    "    return ns"
   ]
  },
  {
   "cell_type": "code",
   "execution_count": 4,
   "id": "72778ae1-1176-4708-b5bb-50f335269f22",
   "metadata": {},
   "outputs": [],
   "source": [
    "start_page = 1\n",
    "end_page = 141\n",
    "q_num = 20"
   ]
  },
  {
   "cell_type": "code",
   "execution_count": 5,
   "id": "3fbdcec2-df23-465c-80d1-32844d188906",
   "metadata": {},
   "outputs": [
    {
     "name": "stdout",
     "output_type": "stream",
     "text": [
      "[2, 5, 8, 13, 21, 23, 27, 29, 41, 52, 57, 60, 62, 81, 95, 109, 119, 125, 128, 131]\n"
     ]
    }
   ],
   "source": [
    "print(sorted(rand_ints_nodup(start_page, end_page, q_num)))"
   ]
  },
  {
   "cell_type": "code",
   "execution_count": null,
   "id": "414d0211-e2b2-451d-b9a0-3859edbca15b",
   "metadata": {},
   "outputs": [],
   "source": []
  }
 ],
 "metadata": {
  "kernelspec": {
   "display_name": "Python 3",
   "language": "python",
   "name": "python3"
  },
  "language_info": {
   "codemirror_mode": {
    "name": "ipython",
    "version": 3
   },
   "file_extension": ".py",
   "mimetype": "text/x-python",
   "name": "python",
   "nbconvert_exporter": "python",
   "pygments_lexer": "ipython3",
   "version": "3.8.8"
  }
 },
 "nbformat": 4,
 "nbformat_minor": 5
}

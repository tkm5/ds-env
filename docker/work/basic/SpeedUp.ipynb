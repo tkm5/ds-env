{
 "cells": [
  {
   "cell_type": "code",
   "execution_count": 1,
   "id": "491999c2-c7bf-4101-b71f-51d6c5af735e",
   "metadata": {},
   "outputs": [
    {
     "name": "stdout",
     "output_type": "stream",
     "text": [
      "5.65 ns ± 0.104 ns per loop (mean ± std. dev. of 7 runs, 100000000 loops each)\n"
     ]
    }
   ],
   "source": [
    "%%timeit\n",
    "1+3"
   ]
  },
  {
   "cell_type": "code",
   "execution_count": 9,
   "id": "51cb5b99-90d2-4c6a-adb6-ca5582728d74",
   "metadata": {},
   "outputs": [],
   "source": [
    "%load_ext Cython"
   ]
  },
  {
   "cell_type": "markdown",
   "id": "0ce8d59d-9de1-4844-a7bd-da04e5bc45b2",
   "metadata": {},
   "source": [
    "[]Qこれはどんな処理をしている？\n"
   ]
  },
  {
   "cell_type": "code",
   "execution_count": 10,
   "id": "049f2d1e-af3a-4415-952d-ec09d44ec894",
   "metadata": {},
   "outputs": [
    {
     "name": "stdout",
     "output_type": "stream",
     "text": [
      "325 µs ± 4.79 µs per loop (mean ± std. dev. of 7 runs, 1000 loops each)\n"
     ]
    }
   ],
   "source": [
    "%%timeit\n",
    "l = list(range(10000))\n",
    "for n in [1,2,5,7,9,100000,123456789]:\n",
    "    n in l"
   ]
  },
  {
   "cell_type": "code",
   "execution_count": 10,
   "id": "644dfd7c-2372-4ef7-b740-da1cf97db962",
   "metadata": {},
   "outputs": [
    {
     "name": "stdout",
     "output_type": "stream",
     "text": [
      "True\n",
      "True\n",
      "True\n",
      "True\n",
      "True\n",
      "False\n",
      "False\n"
     ]
    }
   ],
   "source": [
    "l = list(range(10000))\n"
   ]
  },
  {
   "cell_type": "code",
   "execution_count": 36,
   "id": "01b5a4d8-75b8-4f4f-ad13-3c6220aa2f7a",
   "metadata": {},
   "outputs": [
    {
     "name": "stdout",
     "output_type": "stream",
     "text": [
      "True\n",
      "True\n",
      "True\n",
      "True\n",
      "True\n",
      "False\n",
      "False\n"
     ]
    }
   ],
   "source": [
    "l = [i for i in range(10000)]\n",
    "for n in [1,2,5,7,9,10000,123456789]:\n",
    "    print(n in l)"
   ]
  },
  {
   "cell_type": "code",
   "execution_count": null,
   "id": "ad3c675e-b130-4fac-9198-c1bc7a1c4ebc",
   "metadata": {},
   "outputs": [],
   "source": []
  }
 ],
 "metadata": {
  "kernelspec": {
   "display_name": "Python 3",
   "language": "python",
   "name": "python3"
  },
  "language_info": {
   "codemirror_mode": {
    "name": "ipython",
    "version": 3
   },
   "file_extension": ".py",
   "mimetype": "text/x-python",
   "name": "python",
   "nbconvert_exporter": "python",
   "pygments_lexer": "ipython3",
   "version": "3.8.8"
  }
 },
 "nbformat": 4,
 "nbformat_minor": 5
}

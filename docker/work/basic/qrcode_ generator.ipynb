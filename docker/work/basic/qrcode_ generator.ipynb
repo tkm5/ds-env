{
 "cells": [
  {
   "cell_type": "code",
   "execution_count": 7,
   "id": "eebcf2e8-eeb5-4ebc-8c84-43e72237ca02",
   "metadata": {},
   "outputs": [
    {
     "name": "stdout",
     "output_type": "stream",
     "text": [
      "Requirement already satisfied: qrcode in /opt/anaconda3/lib/python3.8/site-packages (7.3)\n",
      "\u001b[33mWARNING: Running pip as the 'root' user can result in broken permissions and conflicting behaviour with the system package manager. It is recommended to use a virtual environment instead: https://pip.pypa.io/warnings/venv\u001b[0m\n",
      "Note: you may need to restart the kernel to use updated packages.\n"
     ]
    }
   ],
   "source": [
    "pip install qrcode"
   ]
  },
  {
   "cell_type": "code",
   "execution_count": 8,
   "id": "50b02cb5-d0ae-4cd9-962e-e71bcb9292f5",
   "metadata": {},
   "outputs": [],
   "source": [
    "import qrcode\n",
    "\n",
    "url = \"google.com\"\n",
    "file_name = \"qr\"\n",
    "\n",
    "img = qrcode.make(url)\n",
    "img.save(f\"{file_name}.jpg\")"
   ]
  },
  {
   "cell_type": "code",
   "execution_count": 20,
   "id": "2b178b62-c70e-40e8-990a-7f6884bccaf9",
   "metadata": {},
   "outputs": [],
   "source": [
    "def generate_qrcode(url=\"google.com\", file_name=\"qrcode\"):\n",
    "    img = qrcode.make(url)\n",
    "    img.save(f\"{file_name}.jpg\")\n",
    "    print(\"complete\")"
   ]
  },
  {
   "cell_type": "code",
   "execution_count": 23,
   "id": "7201f9b8-18fa-413b-b73d-7447c49789d4",
   "metadata": {},
   "outputs": [
    {
     "name": "stdout",
     "output_type": "stream",
     "text": [
      "complete\n"
     ]
    }
   ],
   "source": [
    "generate_qrcode(\n",
    "url = \"https://docs.google.com/forms/d/e/1FAIpQLSfAy1sRqHCONyJL_vNJizf1HdFrIXPZNVMhdKHLBlrtigS88w/viewform?usp=sf_link\",\n",
    "file_name = \"google_form\")"
   ]
  },
  {
   "cell_type": "code",
   "execution_count": null,
   "id": "0a00748f-4b52-4fd0-8307-a79d14d72d66",
   "metadata": {},
   "outputs": [],
   "source": []
  }
 ],
 "metadata": {
  "kernelspec": {
   "display_name": "Python 3",
   "language": "python",
   "name": "python3"
  },
  "language_info": {
   "codemirror_mode": {
    "name": "ipython",
    "version": 3
   },
   "file_extension": ".py",
   "mimetype": "text/x-python",
   "name": "python",
   "nbconvert_exporter": "python",
   "pygments_lexer": "ipython3",
   "version": "3.8.8"
  }
 },
 "nbformat": 4,
 "nbformat_minor": 5
}

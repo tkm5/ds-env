{
 "cells": [
  {
   "cell_type": "code",
   "execution_count": 1,
   "id": "455e8b3e-5174-434c-8a16-ec87657e211b",
   "metadata": {},
   "outputs": [],
   "source": [
    "from glob import glob\n",
    "import numpy as np\n",
    "import pandas as pd\n",
    "import matplotlib.pyplot as plt\n",
    "import seaborn as sns\n",
    "%matplotlib inline\n",
    "\n",
    "\n",
    "from tqdm import tqdm\n",
    "import os\n",
    "from pathlib import Path\n",
    "import time"
   ]
  },
  {
   "cell_type": "code",
   "execution_count": 2,
   "id": "bcd7a041-40fe-49d4-b654-962a79e1960a",
   "metadata": {},
   "outputs": [
    {
     "name": "stderr",
     "output_type": "stream",
     "text": [
      "100%|██████████| 100000/100000 [00:00<00:00, 263014.91it/s]"
     ]
    },
    {
     "name": "stdout",
     "output_type": "stream",
     "text": [
      "0.39258599281311035\n"
     ]
    },
    {
     "name": "stderr",
     "output_type": "stream",
     "text": [
      "\n"
     ]
    }
   ],
   "source": [
    "sum_ = 0\n",
    "\n",
    "before = time.time()\n",
    "for i in tqdm(range(int(1e5)), position=0):\n",
    "    sum_ += 1\n",
    "after = time.time()\n",
    "\n",
    "p_time = after - before\n",
    "print(p_time)"
   ]
  },
  {
   "cell_type": "code",
   "execution_count": 3,
   "id": "a8d5bc38-cf74-4f8d-830d-ed5b33caecba",
   "metadata": {},
   "outputs": [
    {
     "data": {
      "text/plain": [
       "['BasicGrammar.ipynb',\n",
       " 'ExploratoryDataAnalysis.ipynb',\n",
       " 'HowToUse_axis.ipynb',\n",
       " 'Machine_Learning_AI.txt',\n",
       " 'Matplotlib.ipynb',\n",
       " 'NumPy.ipynb',\n",
       " 'Pandas.ipynb',\n",
       " 'Questionnaire_data_1.ipynb',\n",
       " 'Questionnaire_data_2.ipynb',\n",
       " 'Seaborn.ipynb',\n",
       " 'SpeedUp.ipynb',\n",
       " 'covid-data',\n",
       " 'dataset',\n",
       " 'descriptive statistics.ipynb',\n",
       " 'mymodule.py',\n",
       " 'others.ipynb']"
      ]
     },
     "execution_count": 3,
     "metadata": {},
     "output_type": "execute_result"
    }
   ],
   "source": [
    "glob('*')"
   ]
  },
  {
   "cell_type": "code",
   "execution_count": 4,
   "id": "e9c26aff-ee11-4304-a437-8eb5ffae4c6b",
   "metadata": {},
   "outputs": [
    {
     "data": {
      "text/plain": [
       "['BasicGrammar.ipynb',\n",
       " 'ExploratoryDataAnalysis.ipynb',\n",
       " 'HowToUse_axis.ipynb',\n",
       " 'Matplotlib.ipynb',\n",
       " 'NumPy.ipynb',\n",
       " 'Pandas.ipynb',\n",
       " 'Questionnaire_data_1.ipynb',\n",
       " 'Questionnaire_data_2.ipynb',\n",
       " 'Seaborn.ipynb',\n",
       " 'SpeedUp.ipynb',\n",
       " 'descriptive statistics.ipynb',\n",
       " 'others.ipynb']"
      ]
     },
     "execution_count": 4,
     "metadata": {},
     "output_type": "execute_result"
    }
   ],
   "source": [
    "glob('*.ipynb')"
   ]
  },
  {
   "cell_type": "code",
   "execution_count": 5,
   "id": "cce5ef68-e505-44f1-bfc6-5147bca6b746",
   "metadata": {},
   "outputs": [
    {
     "data": {
      "text/plain": [
       "['covid-data/rp_im/1.nii.gz',\n",
       " 'covid-data/rp_im/2.nii.gz',\n",
       " 'covid-data/rp_im/3.nii.gz',\n",
       " 'covid-data/rp_im/4.nii.gz',\n",
       " 'covid-data/rp_im/5.nii.gz',\n",
       " 'covid-data/rp_im/6.nii.gz',\n",
       " 'covid-data/rp_im/7.nii.gz',\n",
       " 'covid-data/rp_im/8.nii.gz',\n",
       " 'covid-data/rp_im/9.nii.gz',\n",
       " 'covid-data/rp_msk/1.nii.gz',\n",
       " 'covid-data/rp_msk/2.nii.gz',\n",
       " 'covid-data/rp_msk/3.nii.gz',\n",
       " 'covid-data/rp_msk/4.nii.gz',\n",
       " 'covid-data/rp_msk/5.nii.gz',\n",
       " 'covid-data/rp_msk/6.nii.gz',\n",
       " 'covid-data/rp_msk/7.nii.gz',\n",
       " 'covid-data/rp_msk/8.nii.gz',\n",
       " 'covid-data/rp_msk/9.nii.gz']"
      ]
     },
     "execution_count": 5,
     "metadata": {},
     "output_type": "execute_result"
    }
   ],
   "source": [
    "glob('covid-data/*/*')"
   ]
  },
  {
   "cell_type": "code",
   "execution_count": 6,
   "id": "12705aac-a08e-4ea8-a708-8ae35bf19d3f",
   "metadata": {},
   "outputs": [],
   "source": [
    "p = Path('covid-data/')"
   ]
  },
  {
   "cell_type": "code",
   "execution_count": 7,
   "id": "64ac75bf-98c0-4cd5-b948-1f6078ce6609",
   "metadata": {},
   "outputs": [],
   "source": [
    "p_i = p.iterdir()"
   ]
  },
  {
   "cell_type": "code",
   "execution_count": 8,
   "id": "41c5d9ba-89ec-42bc-b5ce-2cc5a69776d1",
   "metadata": {},
   "outputs": [
    {
     "data": {
      "text/plain": [
       "PosixPath('covid-data/.ipynb_checkpoints')"
      ]
     },
     "execution_count": 8,
     "metadata": {},
     "output_type": "execute_result"
    }
   ],
   "source": [
    "next(p_i)"
   ]
  },
  {
   "cell_type": "code",
   "execution_count": 9,
   "id": "5b0860e4-3abd-408d-b901-3a86e64c2461",
   "metadata": {},
   "outputs": [
    {
     "data": {
      "text/plain": [
       "<function posixpath.split(p)>"
      ]
     },
     "execution_count": 9,
     "metadata": {},
     "output_type": "execute_result"
    }
   ],
   "source": [
    "os.path.split"
   ]
  },
  {
   "cell_type": "code",
   "execution_count": 10,
   "id": "1502ea73-133f-4d30-ae9d-e1a6120b1893",
   "metadata": {},
   "outputs": [
    {
     "data": {
      "text/plain": [
       "'covid-data/new_folder'"
      ]
     },
     "execution_count": 10,
     "metadata": {},
     "output_type": "execute_result"
    }
   ],
   "source": [
    "p = Path('covid-data/')\n",
    "new_folder_name = 'new_folder'\n",
    "new_folder_path = os.path.join(p, new_folder_name)\n",
    "new_folder_path"
   ]
  },
  {
   "cell_type": "code",
   "execution_count": 11,
   "id": "ac6e3dd4-0452-4ca0-bb59-0d97baf7c9f5",
   "metadata": {},
   "outputs": [
    {
     "data": {
      "text/plain": [
       "True"
      ]
     },
     "execution_count": 11,
     "metadata": {},
     "output_type": "execute_result"
    }
   ],
   "source": [
    "os.path.exists(new_folder_path)"
   ]
  },
  {
   "cell_type": "code",
   "execution_count": 12,
   "id": "81db4f3a-2616-496a-bf23-d059872626e8",
   "metadata": {},
   "outputs": [],
   "source": [
    "if not os.path.exists(new_folder_path):\n",
    "    os.makedirs(new_folder_path)"
   ]
  },
  {
   "cell_type": "markdown",
   "id": "7122c275-aa4b-4889-865f-bbec49f3fd34",
   "metadata": {},
   "source": [
    "tqdm"
   ]
  },
  {
   "cell_type": "code",
   "execution_count": 13,
   "id": "e323a45c-1671-4d55-9eba-92ba863adb62",
   "metadata": {},
   "outputs": [
    {
     "name": "stderr",
     "output_type": "stream",
     "text": [
      "100%|██████████| 10000000/10000000 [00:08<00:00, 1248684.90it/s]"
     ]
    },
    {
     "name": "stdout",
     "output_type": "stream",
     "text": [
      "10000000\n"
     ]
    },
    {
     "name": "stderr",
     "output_type": "stream",
     "text": [
      "\n"
     ]
    }
   ],
   "source": [
    "\n",
    "sum_ = 0\n",
    "for i in tqdm(range(int(1e7))):\n",
    "    sum_ += 1\n",
    "    \n",
    "print(sum_)"
   ]
  },
  {
   "cell_type": "code",
   "execution_count": 14,
   "id": "696819cc-7ac6-4ba5-91b1-7011888bfbdc",
   "metadata": {},
   "outputs": [],
   "source": [
    "p = Path('covid-data')\n",
    "df_list = []\n",
    "for folder in p.iterdir():\n",
    "    path_list = [p.as_posix() for p in list(folder.iterdir())]\n",
    "    file_list = [os.path.split(p)[1] for p in list(folder.iterdir())]\n",
    "    df_list.append(pd.DataFrame({'path':path_list, 'filename':file_list}))"
   ]
  },
  {
   "cell_type": "code",
   "execution_count": 15,
   "id": "5275ed85-13ae-4b3f-a84f-337b5fde036b",
   "metadata": {},
   "outputs": [
    {
     "data": {
      "text/html": [
       "<div>\n",
       "<style scoped>\n",
       "    .dataframe tbody tr th:only-of-type {\n",
       "        vertical-align: middle;\n",
       "    }\n",
       "\n",
       "    .dataframe tbody tr th {\n",
       "        vertical-align: top;\n",
       "    }\n",
       "\n",
       "    .dataframe thead th {\n",
       "        text-align: right;\n",
       "    }\n",
       "</style>\n",
       "<table border=\"1\" class=\"dataframe\">\n",
       "  <thead>\n",
       "    <tr style=\"text-align: right;\">\n",
       "      <th></th>\n",
       "      <th>path</th>\n",
       "      <th>filename</th>\n",
       "    </tr>\n",
       "  </thead>\n",
       "  <tbody>\n",
       "  </tbody>\n",
       "</table>\n",
       "</div>"
      ],
      "text/plain": [
       "Empty DataFrame\n",
       "Columns: [path, filename]\n",
       "Index: []"
      ]
     },
     "execution_count": 15,
     "metadata": {},
     "output_type": "execute_result"
    }
   ],
   "source": [
    "df_list[0]"
   ]
  },
  {
   "cell_type": "code",
   "execution_count": 16,
   "id": "243c2994-5959-41a1-aeba-6a8d41cb96db",
   "metadata": {},
   "outputs": [
    {
     "data": {
      "text/html": [
       "<div>\n",
       "<style scoped>\n",
       "    .dataframe tbody tr th:only-of-type {\n",
       "        vertical-align: middle;\n",
       "    }\n",
       "\n",
       "    .dataframe tbody tr th {\n",
       "        vertical-align: top;\n",
       "    }\n",
       "\n",
       "    .dataframe thead th {\n",
       "        text-align: right;\n",
       "    }\n",
       "</style>\n",
       "<table border=\"1\" class=\"dataframe\">\n",
       "  <thead>\n",
       "    <tr style=\"text-align: right;\">\n",
       "      <th></th>\n",
       "      <th>path</th>\n",
       "      <th>filename</th>\n",
       "    </tr>\n",
       "  </thead>\n",
       "  <tbody>\n",
       "  </tbody>\n",
       "</table>\n",
       "</div>"
      ],
      "text/plain": [
       "Empty DataFrame\n",
       "Columns: [path, filename]\n",
       "Index: []"
      ]
     },
     "execution_count": 16,
     "metadata": {},
     "output_type": "execute_result"
    }
   ],
   "source": [
    "df_list[1]"
   ]
  },
  {
   "cell_type": "code",
   "execution_count": 17,
   "id": "753cca70-4727-4144-9607-5824831d2c51",
   "metadata": {},
   "outputs": [
    {
     "data": {
      "text/html": [
       "<div>\n",
       "<style scoped>\n",
       "    .dataframe tbody tr th:only-of-type {\n",
       "        vertical-align: middle;\n",
       "    }\n",
       "\n",
       "    .dataframe tbody tr th {\n",
       "        vertical-align: top;\n",
       "    }\n",
       "\n",
       "    .dataframe thead th {\n",
       "        text-align: right;\n",
       "    }\n",
       "</style>\n",
       "<table border=\"1\" class=\"dataframe\">\n",
       "  <thead>\n",
       "    <tr style=\"text-align: right;\">\n",
       "      <th></th>\n",
       "      <th>path_im</th>\n",
       "      <th>filename</th>\n",
       "      <th>path_msk</th>\n",
       "    </tr>\n",
       "  </thead>\n",
       "  <tbody>\n",
       "    <tr>\n",
       "      <th>0</th>\n",
       "      <td>covid-data/rp_im/1.nii.gz</td>\n",
       "      <td>1.nii.gz</td>\n",
       "      <td>covid-data/rp_msk/1.nii.gz</td>\n",
       "    </tr>\n",
       "    <tr>\n",
       "      <th>1</th>\n",
       "      <td>covid-data/rp_im/2.nii.gz</td>\n",
       "      <td>2.nii.gz</td>\n",
       "      <td>covid-data/rp_msk/2.nii.gz</td>\n",
       "    </tr>\n",
       "    <tr>\n",
       "      <th>2</th>\n",
       "      <td>covid-data/rp_im/3.nii.gz</td>\n",
       "      <td>3.nii.gz</td>\n",
       "      <td>covid-data/rp_msk/3.nii.gz</td>\n",
       "    </tr>\n",
       "    <tr>\n",
       "      <th>3</th>\n",
       "      <td>covid-data/rp_im/4.nii.gz</td>\n",
       "      <td>4.nii.gz</td>\n",
       "      <td>covid-data/rp_msk/4.nii.gz</td>\n",
       "    </tr>\n",
       "    <tr>\n",
       "      <th>4</th>\n",
       "      <td>covid-data/rp_im/5.nii.gz</td>\n",
       "      <td>5.nii.gz</td>\n",
       "      <td>covid-data/rp_msk/5.nii.gz</td>\n",
       "    </tr>\n",
       "    <tr>\n",
       "      <th>5</th>\n",
       "      <td>covid-data/rp_im/6.nii.gz</td>\n",
       "      <td>6.nii.gz</td>\n",
       "      <td>covid-data/rp_msk/6.nii.gz</td>\n",
       "    </tr>\n",
       "    <tr>\n",
       "      <th>6</th>\n",
       "      <td>covid-data/rp_im/7.nii.gz</td>\n",
       "      <td>7.nii.gz</td>\n",
       "      <td>covid-data/rp_msk/7.nii.gz</td>\n",
       "    </tr>\n",
       "    <tr>\n",
       "      <th>7</th>\n",
       "      <td>covid-data/rp_im/8.nii.gz</td>\n",
       "      <td>8.nii.gz</td>\n",
       "      <td>covid-data/rp_msk/8.nii.gz</td>\n",
       "    </tr>\n",
       "    <tr>\n",
       "      <th>8</th>\n",
       "      <td>covid-data/rp_im/9.nii.gz</td>\n",
       "      <td>9.nii.gz</td>\n",
       "      <td>covid-data/rp_msk/9.nii.gz</td>\n",
       "    </tr>\n",
       "  </tbody>\n",
       "</table>\n",
       "</div>"
      ],
      "text/plain": [
       "                     path_im  filename                    path_msk\n",
       "0  covid-data/rp_im/1.nii.gz  1.nii.gz  covid-data/rp_msk/1.nii.gz\n",
       "1  covid-data/rp_im/2.nii.gz  2.nii.gz  covid-data/rp_msk/2.nii.gz\n",
       "2  covid-data/rp_im/3.nii.gz  3.nii.gz  covid-data/rp_msk/3.nii.gz\n",
       "3  covid-data/rp_im/4.nii.gz  4.nii.gz  covid-data/rp_msk/4.nii.gz\n",
       "4  covid-data/rp_im/5.nii.gz  5.nii.gz  covid-data/rp_msk/5.nii.gz\n",
       "5  covid-data/rp_im/6.nii.gz  6.nii.gz  covid-data/rp_msk/6.nii.gz\n",
       "6  covid-data/rp_im/7.nii.gz  7.nii.gz  covid-data/rp_msk/7.nii.gz\n",
       "7  covid-data/rp_im/8.nii.gz  8.nii.gz  covid-data/rp_msk/8.nii.gz\n",
       "8  covid-data/rp_im/9.nii.gz  9.nii.gz  covid-data/rp_msk/9.nii.gz"
      ]
     },
     "execution_count": 17,
     "metadata": {},
     "output_type": "execute_result"
    }
   ],
   "source": [
    "df = df_list[2].merge(df_list[3], on='filename', suffixes=('_im', '_msk'))\n",
    "df"
   ]
  },
  {
   "cell_type": "code",
   "execution_count": 18,
   "id": "a9b22c82-9d88-457d-ad80-a330ee0e5edf",
   "metadata": {},
   "outputs": [
    {
     "name": "stderr",
     "output_type": "stream",
     "text": [
      "100%|██████████| 9/9 [00:00<00:00, 2010.69it/s]"
     ]
    },
    {
     "name": "stdout",
     "output_type": "stream",
     "text": [
      "covid-data/rp_im/1.nii.gz and 1.nii.gz & covid-data/rp_msk/1.nii.gz\n",
      "covid-data/rp_im/2.nii.gz and 2.nii.gz & covid-data/rp_msk/2.nii.gz\n",
      "covid-data/rp_im/3.nii.gz and 3.nii.gz & covid-data/rp_msk/3.nii.gz\n",
      "covid-data/rp_im/4.nii.gz and 4.nii.gz & covid-data/rp_msk/4.nii.gz\n",
      "covid-data/rp_im/5.nii.gz and 5.nii.gz & covid-data/rp_msk/5.nii.gz\n",
      "covid-data/rp_im/6.nii.gz and 6.nii.gz & covid-data/rp_msk/6.nii.gz\n",
      "covid-data/rp_im/7.nii.gz and 7.nii.gz & covid-data/rp_msk/7.nii.gz\n",
      "covid-data/rp_im/8.nii.gz and 8.nii.gz & covid-data/rp_msk/8.nii.gz\n",
      "covid-data/rp_im/9.nii.gz and 9.nii.gz & covid-data/rp_msk/9.nii.gz\n"
     ]
    },
    {
     "name": "stderr",
     "output_type": "stream",
     "text": [
      "\n"
     ]
    }
   ],
   "source": [
    "for idx, row in tqdm(df.iterrows(), total=len(df)):\n",
    "    print('{} and {} & {}'.format(row['path_im'], row['filename'], row['path_msk']))"
   ]
  },
  {
   "cell_type": "code",
   "execution_count": 19,
   "id": "32e73ef3-c1b6-464f-971f-86774056c0da",
   "metadata": {},
   "outputs": [],
   "source": [
    "import nibabel as nib"
   ]
  },
  {
   "cell_type": "code",
   "execution_count": 20,
   "id": "70ffa222-4341-41cf-a72e-06bec1bbcf03",
   "metadata": {},
   "outputs": [
    {
     "data": {
      "text/html": [
       "<div>\n",
       "<style scoped>\n",
       "    .dataframe tbody tr th:only-of-type {\n",
       "        vertical-align: middle;\n",
       "    }\n",
       "\n",
       "    .dataframe tbody tr th {\n",
       "        vertical-align: top;\n",
       "    }\n",
       "\n",
       "    .dataframe thead th {\n",
       "        text-align: right;\n",
       "    }\n",
       "</style>\n",
       "<table border=\"1\" class=\"dataframe\">\n",
       "  <thead>\n",
       "    <tr style=\"text-align: right;\">\n",
       "      <th></th>\n",
       "      <th>path_im</th>\n",
       "      <th>filename</th>\n",
       "      <th>path_msk</th>\n",
       "    </tr>\n",
       "  </thead>\n",
       "  <tbody>\n",
       "    <tr>\n",
       "      <th>0</th>\n",
       "      <td>covid-data/rp_im/1.nii.gz</td>\n",
       "      <td>1.nii.gz</td>\n",
       "      <td>covid-data/rp_msk/1.nii.gz</td>\n",
       "    </tr>\n",
       "    <tr>\n",
       "      <th>1</th>\n",
       "      <td>covid-data/rp_im/2.nii.gz</td>\n",
       "      <td>2.nii.gz</td>\n",
       "      <td>covid-data/rp_msk/2.nii.gz</td>\n",
       "    </tr>\n",
       "    <tr>\n",
       "      <th>2</th>\n",
       "      <td>covid-data/rp_im/3.nii.gz</td>\n",
       "      <td>3.nii.gz</td>\n",
       "      <td>covid-data/rp_msk/3.nii.gz</td>\n",
       "    </tr>\n",
       "    <tr>\n",
       "      <th>3</th>\n",
       "      <td>covid-data/rp_im/4.nii.gz</td>\n",
       "      <td>4.nii.gz</td>\n",
       "      <td>covid-data/rp_msk/4.nii.gz</td>\n",
       "    </tr>\n",
       "    <tr>\n",
       "      <th>4</th>\n",
       "      <td>covid-data/rp_im/5.nii.gz</td>\n",
       "      <td>5.nii.gz</td>\n",
       "      <td>covid-data/rp_msk/5.nii.gz</td>\n",
       "    </tr>\n",
       "    <tr>\n",
       "      <th>5</th>\n",
       "      <td>covid-data/rp_im/6.nii.gz</td>\n",
       "      <td>6.nii.gz</td>\n",
       "      <td>covid-data/rp_msk/6.nii.gz</td>\n",
       "    </tr>\n",
       "    <tr>\n",
       "      <th>6</th>\n",
       "      <td>covid-data/rp_im/7.nii.gz</td>\n",
       "      <td>7.nii.gz</td>\n",
       "      <td>covid-data/rp_msk/7.nii.gz</td>\n",
       "    </tr>\n",
       "    <tr>\n",
       "      <th>7</th>\n",
       "      <td>covid-data/rp_im/8.nii.gz</td>\n",
       "      <td>8.nii.gz</td>\n",
       "      <td>covid-data/rp_msk/8.nii.gz</td>\n",
       "    </tr>\n",
       "    <tr>\n",
       "      <th>8</th>\n",
       "      <td>covid-data/rp_im/9.nii.gz</td>\n",
       "      <td>9.nii.gz</td>\n",
       "      <td>covid-data/rp_msk/9.nii.gz</td>\n",
       "    </tr>\n",
       "  </tbody>\n",
       "</table>\n",
       "</div>"
      ],
      "text/plain": [
       "                     path_im  filename                    path_msk\n",
       "0  covid-data/rp_im/1.nii.gz  1.nii.gz  covid-data/rp_msk/1.nii.gz\n",
       "1  covid-data/rp_im/2.nii.gz  2.nii.gz  covid-data/rp_msk/2.nii.gz\n",
       "2  covid-data/rp_im/3.nii.gz  3.nii.gz  covid-data/rp_msk/3.nii.gz\n",
       "3  covid-data/rp_im/4.nii.gz  4.nii.gz  covid-data/rp_msk/4.nii.gz\n",
       "4  covid-data/rp_im/5.nii.gz  5.nii.gz  covid-data/rp_msk/5.nii.gz\n",
       "5  covid-data/rp_im/6.nii.gz  6.nii.gz  covid-data/rp_msk/6.nii.gz\n",
       "6  covid-data/rp_im/7.nii.gz  7.nii.gz  covid-data/rp_msk/7.nii.gz\n",
       "7  covid-data/rp_im/8.nii.gz  8.nii.gz  covid-data/rp_msk/8.nii.gz\n",
       "8  covid-data/rp_im/9.nii.gz  9.nii.gz  covid-data/rp_msk/9.nii.gz"
      ]
     },
     "execution_count": 20,
     "metadata": {},
     "output_type": "execute_result"
    }
   ],
   "source": [
    "df"
   ]
  },
  {
   "cell_type": "code",
   "execution_count": 21,
   "id": "93507fba-183c-4b28-b642-021076b0323c",
   "metadata": {},
   "outputs": [],
   "source": [
    "path = df['path_im'].iloc[0]"
   ]
  },
  {
   "cell_type": "code",
   "execution_count": 22,
   "id": "148a8184-d07c-44a6-b18d-24493610ccae",
   "metadata": {},
   "outputs": [],
   "source": [
    "def load_nifti(path):\n",
    "    im_nifti = nib.load(path)\n",
    "    data = im_nifti.get_fdata()\n",
    "    data = np.transpose(data)\n",
    "    \n",
    "    return data"
   ]
  },
  {
   "cell_type": "code",
   "execution_count": 23,
   "id": "01498692-d561-4169-bbb3-ddeb5082099b",
   "metadata": {},
   "outputs": [],
   "source": [
    "from multiprocessing import Pool, cpu_count"
   ]
  },
  {
   "cell_type": "code",
   "execution_count": 24,
   "id": "bcc6a5f9-e8c8-4333-9f22-d34fa7ec1ee1",
   "metadata": {},
   "outputs": [
    {
     "data": {
      "text/plain": [
       "4"
      ]
     },
     "execution_count": 24,
     "metadata": {},
     "output_type": "execute_result"
    }
   ],
   "source": [
    "cpu_count()"
   ]
  },
  {
   "cell_type": "code",
   "execution_count": 27,
   "id": "c7cd6034-755b-4694-8e07-2d0efd66cb07",
   "metadata": {},
   "outputs": [
    {
     "name": "stderr",
     "output_type": "stream",
     "text": [
      "Process ForkPoolWorker-11:\n",
      "Process ForkPoolWorker-12:\n",
      "Process ForkPoolWorker-10:\n",
      "Traceback (most recent call last):\n",
      "Traceback (most recent call last):\n",
      "Traceback (most recent call last):\n",
      "  File \"/opt/anaconda3/lib/python3.8/multiprocessing/process.py\", line 315, in _bootstrap\n",
      "    self.run()\n",
      "  File \"/opt/anaconda3/lib/python3.8/multiprocessing/process.py\", line 108, in run\n",
      "    self._target(*self._args, **self._kwargs)\n",
      "  File \"/opt/anaconda3/lib/python3.8/multiprocessing/process.py\", line 315, in _bootstrap\n",
      "    self.run()\n",
      "  File \"/opt/anaconda3/lib/python3.8/multiprocessing/process.py\", line 315, in _bootstrap\n",
      "    self.run()\n",
      "  File \"/opt/anaconda3/lib/python3.8/multiprocessing/process.py\", line 108, in run\n",
      "    self._target(*self._args, **self._kwargs)\n",
      "  File \"/opt/anaconda3/lib/python3.8/multiprocessing/pool.py\", line 114, in worker\n",
      "    task = get()\n",
      "  File \"/opt/anaconda3/lib/python3.8/multiprocessing/process.py\", line 108, in run\n",
      "    self._target(*self._args, **self._kwargs)\n",
      "  File \"/opt/anaconda3/lib/python3.8/multiprocessing/pool.py\", line 114, in worker\n",
      "    task = get()\n",
      "  File \"/opt/anaconda3/lib/python3.8/multiprocessing/pool.py\", line 114, in worker\n",
      "    task = get()\n",
      "  File \"/opt/anaconda3/lib/python3.8/multiprocessing/queues.py\", line 355, in get\n",
      "    with self._rlock:\n",
      "  File \"/opt/anaconda3/lib/python3.8/multiprocessing/queues.py\", line 355, in get\n",
      "    with self._rlock:\n",
      "  File \"/opt/anaconda3/lib/python3.8/multiprocessing/synchronize.py\", line 95, in __enter__\n",
      "    return self._semlock.__enter__()\n",
      "  File \"/opt/anaconda3/lib/python3.8/multiprocessing/synchronize.py\", line 95, in __enter__\n",
      "    return self._semlock.__enter__()\n"
     ]
    }
   ],
   "source": [
    "p = Pool(processes=cpu_count()-1)"
   ]
  },
  {
   "cell_type": "code",
   "execution_count": 29,
   "id": "803f06b9-21d5-4b73-8429-680720f046b6",
   "metadata": {},
   "outputs": [],
   "source": [
    "def wait_sec(sec):\n",
    "    time.sleep(sec)\n",
    "    return sec ** 2"
   ]
  },
  {
   "cell_type": "code",
   "execution_count": 38,
   "id": "748fbb1c-e078-437c-ac20-d3e168ae4965",
   "metadata": {},
   "outputs": [
    {
     "name": "stderr",
     "output_type": "stream",
     "text": [
      "100%|██████████| 3/3 [00:05<00:00,  1.67s/it]"
     ]
    },
    {
     "name": "stdout",
     "output_type": "stream",
     "text": [
      "9: 5.02\n",
      "it took 5.02 sec\n"
     ]
    },
    {
     "name": "stderr",
     "output_type": "stream",
     "text": [
      "\n"
     ]
    }
   ],
   "source": [
    "before = time.time()\n",
    "results =  list(tqdm(p.imap(wait_sec, [1, 5, 3]), total=3))\n",
    "\n",
    "print(f'{i}: {time.time() - before:.2f}')\n",
    "after = time.time()\n",
    "\n",
    "print(f'it took {after - before:.2f} sec')"
   ]
  },
  {
   "cell_type": "code",
   "execution_count": 49,
   "id": "8a8d182c-0d5a-4c4a-8c0e-39221eaf5aeb",
   "metadata": {},
   "outputs": [
    {
     "data": {
      "text/plain": [
       "[0, 1, 2]"
      ]
     },
     "execution_count": 49,
     "metadata": {},
     "output_type": "execute_result"
    }
   ],
   "source": [
    "[pre_list for pre_list in range(0, 3)]\n",
    "pre_list"
   ]
  },
  {
   "cell_type": "code",
   "execution_count": 1,
   "id": "7b9255a9-c628-48f9-97d5-4e68431a5c38",
   "metadata": {},
   "outputs": [],
   "source": [
    "def concise_is_negative(number):\n",
    "#     pass # Your code goes here (try to keep it to one line!)\n",
    "# return True if number < 0 else False\n",
    "    return number < 0"
   ]
  },
  {
   "cell_type": "code",
   "execution_count": 3,
   "id": "153fdef8-45f6-443d-9201-a7449d5f94f4",
   "metadata": {},
   "outputs": [
    {
     "data": {
      "text/plain": [
       "False"
      ]
     },
     "execution_count": 3,
     "metadata": {},
     "output_type": "execute_result"
    }
   ],
   "source": [
    "concise_is_negative(6)"
   ]
  }
 ],
 "metadata": {
  "kernelspec": {
   "display_name": "Python 3 (ipykernel)",
   "language": "python",
   "name": "python3"
  },
  "language_info": {
   "codemirror_mode": {
    "name": "ipython",
    "version": 3
   },
   "file_extension": ".py",
   "mimetype": "text/x-python",
   "name": "python",
   "nbconvert_exporter": "python",
   "pygments_lexer": "ipython3",
   "version": "3.9.7"
  }
 },
 "nbformat": 4,
 "nbformat_minor": 5
}

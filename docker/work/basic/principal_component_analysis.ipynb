{
 "cells": [
  {
   "cell_type": "code",
   "execution_count": 1,
   "id": "3a66eeb6-16c3-409d-8b9d-1d2e6dc08bb6",
   "metadata": {},
   "outputs": [],
   "source": [
    "import numpy as np\n",
    "import pandas as pd\n",
    "import scipy as sp\n",
    " \n",
    "import matplotlib.pyplot as plt\n",
    "import matplotlib as mpl\n",
    "import seaborn as sns\n",
    "%matplotlib inline\n",
    " \n",
    "from sklearn.decomposition import PCA\n",
    " \n",
    "from sklearn.preprocessing import StandardScaler"
   ]
  },
  {
   "cell_type": "code",
   "execution_count": 2,
   "id": "83a7aad7-e927-4b86-962d-b7c7175fc301",
   "metadata": {},
   "outputs": [
    {
     "data": {
      "text/plain": [
       "array([0.04083532, 0.86491004, 0.71476106, 0.67649222, 0.54240803,\n",
       "       0.96358615, 0.2006915 , 0.4199902 , 0.79026989, 0.16272379])"
      ]
     },
     "execution_count": 2,
     "metadata": {},
     "output_type": "execute_result"
    }
   ],
   "source": [
    "np.random.rand(10)"
   ]
  },
  {
   "cell_type": "code",
   "execution_count": 6,
   "id": "ecae9aee-b44a-4290-a92d-bd5ad4c442b6",
   "metadata": {},
   "outputs": [],
   "source": [
    "X = np.random.randn(200, 2)"
   ]
  },
  {
   "cell_type": "code",
   "execution_count": 7,
   "id": "9041719d-7e2c-4331-a935-ca37f5920601",
   "metadata": {},
   "outputs": [],
   "source": [
    "sc = StandardScaler()\n",
    "\n",
    "X_std = sc.fit_transform(X)"
   ]
  },
  {
   "cell_type": "code",
   "execution_count": null,
   "id": "ab0ef00e-af4e-4317-afef-9bac6d2adcab",
   "metadata": {},
   "outputs": [],
   "source": []
  }
 ],
 "metadata": {
  "kernelspec": {
   "display_name": "Python 3",
   "language": "python",
   "name": "python3"
  },
  "language_info": {
   "codemirror_mode": {
    "name": "ipython",
    "version": 3
   },
   "file_extension": ".py",
   "mimetype": "text/x-python",
   "name": "python",
   "nbconvert_exporter": "python",
   "pygments_lexer": "ipython3",
   "version": "3.8.8"
  }
 },
 "nbformat": 4,
 "nbformat_minor": 5
}

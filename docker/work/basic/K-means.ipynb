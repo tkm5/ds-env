{
 "cells": [
  {
   "cell_type": "code",
   "execution_count": 1,
   "id": "e4acac02-4941-42ab-a7b8-c5aa76cf7cf5",
   "metadata": {},
   "outputs": [],
   "source": [
    "import numpy as np\n",
    "import pandas as pd\n",
    "import scipy as sp\n",
    " \n",
    "import matplotlib.pyplot as plt\n",
    "import matplotlib as mpl\n",
    "import seaborn as sns\n",
    "%matplotlib inline\n",
    " \n",
    "from sklearn.datasets import make_blobs\n",
    " \n",
    "from sklearn.cluster import KMeans"
   ]
  },
  {
   "cell_type": "code",
   "execution_count": 2,
   "id": "1186543d-5292-42fd-9300-81367ab9103c",
   "metadata": {},
   "outputs": [],
   "source": [
    "X, y = make_blobs(random_state=9)"
   ]
  },
  {
   "cell_type": "code",
   "execution_count": 5,
   "id": "4b8e2ea5-520c-402f-b2df-0502dad93f89",
   "metadata": {},
   "outputs": [
    {
     "data": {
      "text/plain": [
       "(100, 2)"
      ]
     },
     "execution_count": 5,
     "metadata": {},
     "output_type": "execute_result"
    }
   ],
   "source": [
    "X.shape"
   ]
  },
  {
   "cell_type": "code",
   "execution_count": 9,
   "id": "d2274202-218b-4277-b53d-2e09cb99837f",
   "metadata": {},
   "outputs": [
    {
     "data": {
      "text/plain": [
       "array([[  0.47674291,  -7.08368392],\n",
       "       [-12.46462693,  -0.87578744],\n",
       "       [ -8.34271978,  -6.6595784 ],\n",
       "       [ -8.48340172,  -4.69179804],\n",
       "       [-10.28626374,  -0.33860584]])"
      ]
     },
     "execution_count": 9,
     "metadata": {},
     "output_type": "execute_result"
    }
   ],
   "source": [
    "X[:5][:]"
   ]
  },
  {
   "cell_type": "code",
   "execution_count": 10,
   "id": "7a6b7d25-d45c-4ec2-8b9a-08fed208a2e6",
   "metadata": {},
   "outputs": [
    {
     "data": {
      "text/plain": [
       "array([[  0.47674291,  -7.08368392],\n",
       "       [-12.46462693,  -0.87578744],\n",
       "       [ -8.34271978,  -6.6595784 ],\n",
       "       [ -8.48340172,  -4.69179804],\n",
       "       [-10.28626374,  -0.33860584]])"
      ]
     },
     "execution_count": 10,
     "metadata": {},
     "output_type": "execute_result"
    }
   ],
   "source": [
    "X[:5,:]"
   ]
  },
  {
   "cell_type": "code",
   "execution_count": 11,
   "id": "dfb8e99a-3371-4db7-bb6b-5adc97388194",
   "metadata": {},
   "outputs": [
    {
     "data": {
      "text/plain": [
       "array([1, 0, 2, 2, 0])"
      ]
     },
     "execution_count": 11,
     "metadata": {},
     "output_type": "execute_result"
    }
   ],
   "source": [
    "y[:5]"
   ]
  },
  {
   "cell_type": "code",
   "execution_count": 15,
   "id": "afc38e46-3107-45eb-8b32-65f4d811b66b",
   "metadata": {},
   "outputs": [
    {
     "data": {
      "text/plain": [
       "{0, 1, 2}"
      ]
     },
     "execution_count": 15,
     "metadata": {},
     "output_type": "execute_result"
    }
   ],
   "source": [
    "set(y)"
   ]
  },
  {
   "cell_type": "code",
   "execution_count": 18,
   "id": "36770cef-85e9-4006-8055-5128c39f10fc",
   "metadata": {},
   "outputs": [
    {
     "data": {
      "text/plain": [
       "Text(0.5, 1.0, 'make_blobs')"
      ]
     },
     "execution_count": 18,
     "metadata": {},
     "output_type": "execute_result"
    },
    {
     "data": {
      "image/png": "[encoded data removed]",
      "text/plain": [
       "<Figure size 432x288 with 1 Axes>"
      ]
     },
     "metadata": {
      "needs_background": "light"
     },
     "output_type": "display_data"
    }
   ],
   "source": [
    "classes = list(set(y))\n",
    "\n",
    "for i in classes:\n",
    "    dots = X[ y==i ]\n",
    "    plt.scatter(dots[:,0], dots[:,1])\n",
    "plt.title('make_blobs')"
   ]
  },
  {
   "cell_type": "code",
   "execution_count": 21,
   "id": "5949e400-95ca-476f-a326-82258d2236f8",
   "metadata": {},
   "outputs": [
    {
     "data": {
      "text/plain": [
       "<matplotlib.collections.PathCollection at 0x7f2e84850730>"
      ]
     },
     "execution_count": 21,
     "metadata": {},
     "output_type": "execute_result"
    },
    {
     "data": {
      "image/png": "[encoded data removed]",
      "text/plain": [
       "<Figure size 432x288 with 1 Axes>"
      ]
     },
     "metadata": {
      "needs_background": "light"
     },
     "output_type": "display_data"
    }
   ],
   "source": [
    "plt.scatter(X[:,0], X[:,1])"
   ]
  },
  {
   "cell_type": "code",
   "execution_count": 22,
   "id": "9b0485bc-4ae3-41e4-9280-e36df53987ca",
   "metadata": {},
   "outputs": [
    {
     "data": {
      "text/plain": [
       "Text(0, 0.5, 'Distortion')"
      ]
     },
     "execution_count": 22,
     "metadata": {},
     "output_type": "execute_result"
    },
    {
     "data": {
      "image/png": "[encoded data removed]",
      "text/plain": [
       "<Figure size 432x288 with 1 Axes>"
      ]
     },
     "metadata": {
      "needs_background": "light"
     },
     "output_type": "display_data"
    }
   ],
   "source": [
    "dist_list =[]\n",
    " \n",
    "for i in range(1,10):\n",
    "    kmeans= KMeans(n_clusters=i, init='random', random_state=0)\n",
    "    kmeans.fit(X)\n",
    "    dist_list.append(kmeans.inertia_)\n",
    "    \n",
    "plt.plot(range(1,10), dist_list,marker='+')\n",
    "plt.xlabel('Number of clusters')\n",
    "plt.ylabel('Distortion')"
   ]
  },
  {
   "cell_type": "code",
   "execution_count": 24,
   "id": "c548db7c-a7bf-427d-9cd4-b4188958eca6",
   "metadata": {},
   "outputs": [],
   "source": [
    "from sklearn.cluster import KMeans\n",
    "\n",
    "kmeans = KMeans(init='random',n_clusters = 3)\n",
    "kmeans.fit(X)\n",
    "\n",
    "y_pred = kmeans.predict(X)"
   ]
  },
  {
   "cell_type": "code",
   "execution_count": 25,
   "id": "f3a9cb44-cbfb-44fe-85fa-f24786a1a532",
   "metadata": {},
   "outputs": [
    {
     "data": {
      "text/plain": [
       "array([1, 0, 2, 2, 0, 0, 0, 2, 1, 0, 1, 0, 1, 1, 2, 1, 1, 1, 0, 1, 0, 1,\n",
       "       0, 2, 0, 2, 2, 0, 0, 1, 0, 1, 2, 2, 0, 2, 1, 1, 0, 0, 2, 0, 2, 0,\n",
       "       2, 1, 0, 2, 2, 1, 0, 1, 1, 0, 0, 1, 1, 0, 0, 0, 1, 0, 0, 2, 2, 0,\n",
       "       2, 2, 2, 2, 2, 0, 1, 2, 1, 2, 1, 2, 2, 0, 2, 2, 0, 1, 0, 1, 2, 1,\n",
       "       1, 1, 2, 2, 2, 1, 0, 1, 1, 1, 2, 0], dtype=int32)"
      ]
     },
     "execution_count": 25,
     "metadata": {},
     "output_type": "execute_result"
    }
   ],
   "source": [
    "y_pred"
   ]
  },
  {
   "cell_type": "code",
   "execution_count": null,
   "id": "32672c0d-0307-4e46-9858-7f14c7a02e7b",
   "metadata": {},
   "outputs": [],
   "source": []
  }
 ],
 "metadata": {
  "kernelspec": {
   "display_name": "Python 3",
   "language": "python",
   "name": "python3"
  },
  "language_info": {
   "codemirror_mode": {
    "name": "ipython",
    "version": 3
   },
   "file_extension": ".py",
   "mimetype": "text/x-python",
   "name": "python",
   "nbconvert_exporter": "python",
   "pygments_lexer": "ipython3",
   "version": "3.8.8"
  }
 },
 "nbformat": 4,
 "nbformat_minor": 5
}

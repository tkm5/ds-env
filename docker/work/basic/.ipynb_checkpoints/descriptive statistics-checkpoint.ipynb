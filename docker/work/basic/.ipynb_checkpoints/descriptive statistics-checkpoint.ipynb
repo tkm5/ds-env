{
 "cells": [
  {
   "cell_type": "code",
   "execution_count": 47,
   "id": "1570ec91-8545-471b-817c-c291e241d145",
   "metadata": {},
   "outputs": [],
   "source": [
    "import matplotlib.pyplot as plt\n",
    "import numpy as np\n",
    "import scipy.stats as stats\n",
    "import math"
   ]
  },
  {
   "cell_type": "code",
   "execution_count": 3,
   "id": "40231d3b-5dc6-43e3-9347-8a239e35bacb",
   "metadata": {},
   "outputs": [],
   "source": [
    "data = {\n",
    "    'name':['Tom','James','Ricky','Vin','Steve','Smith','Jack','Lee','David','Gasper','Betina','Andres'],\n",
    "    'age':[25,26,25,23,30,29,23,34,40,30,51,46],\n",
    "    'rating':[4.23,3.24,3.98,2.56,3.20,4.6,3.8,3.78,2.98,4.80,4.10,3.65]\n",
    "}\n",
    "\n",
    "df = pd.DataFrame(data)"
   ]
  },
  {
   "cell_type": "code",
   "execution_count": 4,
   "id": "34c474b6-de8b-4b73-a63c-1454f031905a",
   "metadata": {},
   "outputs": [
    {
     "data": {
      "text/html": [
       "<div>\n",
       "<style scoped>\n",
       "    .dataframe tbody tr th:only-of-type {\n",
       "        vertical-align: middle;\n",
       "    }\n",
       "\n",
       "    .dataframe tbody tr th {\n",
       "        vertical-align: top;\n",
       "    }\n",
       "\n",
       "    .dataframe thead th {\n",
       "        text-align: right;\n",
       "    }\n",
       "</style>\n",
       "<table border=\"1\" class=\"dataframe\">\n",
       "  <thead>\n",
       "    <tr style=\"text-align: right;\">\n",
       "      <th></th>\n",
       "      <th>name</th>\n",
       "      <th>age</th>\n",
       "      <th>rating</th>\n",
       "    </tr>\n",
       "  </thead>\n",
       "  <tbody>\n",
       "    <tr>\n",
       "      <th>0</th>\n",
       "      <td>Tom</td>\n",
       "      <td>25</td>\n",
       "      <td>4.23</td>\n",
       "    </tr>\n",
       "    <tr>\n",
       "      <th>1</th>\n",
       "      <td>James</td>\n",
       "      <td>26</td>\n",
       "      <td>3.24</td>\n",
       "    </tr>\n",
       "    <tr>\n",
       "      <th>2</th>\n",
       "      <td>Ricky</td>\n",
       "      <td>25</td>\n",
       "      <td>3.98</td>\n",
       "    </tr>\n",
       "    <tr>\n",
       "      <th>3</th>\n",
       "      <td>Vin</td>\n",
       "      <td>23</td>\n",
       "      <td>2.56</td>\n",
       "    </tr>\n",
       "    <tr>\n",
       "      <th>4</th>\n",
       "      <td>Steve</td>\n",
       "      <td>30</td>\n",
       "      <td>3.20</td>\n",
       "    </tr>\n",
       "    <tr>\n",
       "      <th>5</th>\n",
       "      <td>Smith</td>\n",
       "      <td>29</td>\n",
       "      <td>4.60</td>\n",
       "    </tr>\n",
       "    <tr>\n",
       "      <th>6</th>\n",
       "      <td>Jack</td>\n",
       "      <td>23</td>\n",
       "      <td>3.80</td>\n",
       "    </tr>\n",
       "    <tr>\n",
       "      <th>7</th>\n",
       "      <td>Lee</td>\n",
       "      <td>34</td>\n",
       "      <td>3.78</td>\n",
       "    </tr>\n",
       "    <tr>\n",
       "      <th>8</th>\n",
       "      <td>David</td>\n",
       "      <td>40</td>\n",
       "      <td>2.98</td>\n",
       "    </tr>\n",
       "    <tr>\n",
       "      <th>9</th>\n",
       "      <td>Gasper</td>\n",
       "      <td>30</td>\n",
       "      <td>4.80</td>\n",
       "    </tr>\n",
       "    <tr>\n",
       "      <th>10</th>\n",
       "      <td>Betina</td>\n",
       "      <td>51</td>\n",
       "      <td>4.10</td>\n",
       "    </tr>\n",
       "    <tr>\n",
       "      <th>11</th>\n",
       "      <td>Andres</td>\n",
       "      <td>46</td>\n",
       "      <td>3.65</td>\n",
       "    </tr>\n",
       "  </tbody>\n",
       "</table>\n",
       "</div>"
      ],
      "text/plain": [
       "      name  age  rating\n",
       "0      Tom   25    4.23\n",
       "1    James   26    3.24\n",
       "2    Ricky   25    3.98\n",
       "3      Vin   23    2.56\n",
       "4    Steve   30    3.20\n",
       "5    Smith   29    4.60\n",
       "6     Jack   23    3.80\n",
       "7      Lee   34    3.78\n",
       "8    David   40    2.98\n",
       "9   Gasper   30    4.80\n",
       "10  Betina   51    4.10\n",
       "11  Andres   46    3.65"
      ]
     },
     "execution_count": 4,
     "metadata": {},
     "output_type": "execute_result"
    }
   ],
   "source": [
    "df"
   ]
  },
  {
   "cell_type": "code",
   "execution_count": 5,
   "id": "ce01ade0-a19b-45c4-abee-8d1b65af3234",
   "metadata": {},
   "outputs": [
    {
     "data": {
      "text/plain": [
       "age       31.833333\n",
       "rating     3.743333\n",
       "dtype: float64"
      ]
     },
     "execution_count": 5,
     "metadata": {},
     "output_type": "execute_result"
    }
   ],
   "source": [
    "df.mean()"
   ]
  },
  {
   "cell_type": "code",
   "execution_count": 6,
   "id": "8a806360-b1da-42e4-bf24-c166b42a04c8",
   "metadata": {},
   "outputs": [
    {
     "data": {
      "text/plain": [
       "age       29.50\n",
       "rating     3.79\n",
       "dtype: float64"
      ]
     },
     "execution_count": 6,
     "metadata": {},
     "output_type": "execute_result"
    }
   ],
   "source": [
    "df.median()"
   ]
  },
  {
   "cell_type": "code",
   "execution_count": 7,
   "id": "04ca26e8-28de-4310-a676-d0db193cfc76",
   "metadata": {},
   "outputs": [
    {
     "data": {
      "text/plain": [
       "0    23\n",
       "1    25\n",
       "2    30\n",
       "dtype: int64"
      ]
     },
     "execution_count": 7,
     "metadata": {},
     "output_type": "execute_result"
    }
   ],
   "source": [
    "df['age'].mode()"
   ]
  },
  {
   "cell_type": "code",
   "execution_count": 13,
   "id": "43e0ddc0-cb14-4620-9a7c-354cbd30ed9a",
   "metadata": {},
   "outputs": [],
   "source": [
    "df['period'] = df['age'].apply(lambda x: (x // 10)*10)"
   ]
  },
  {
   "cell_type": "code",
   "execution_count": 14,
   "id": "adde87b7-a5e3-4612-9f81-a398ddf6f984",
   "metadata": {},
   "outputs": [
    {
     "data": {
      "text/html": [
       "<div>\n",
       "<style scoped>\n",
       "    .dataframe tbody tr th:only-of-type {\n",
       "        vertical-align: middle;\n",
       "    }\n",
       "\n",
       "    .dataframe tbody tr th {\n",
       "        vertical-align: top;\n",
       "    }\n",
       "\n",
       "    .dataframe thead th {\n",
       "        text-align: right;\n",
       "    }\n",
       "</style>\n",
       "<table border=\"1\" class=\"dataframe\">\n",
       "  <thead>\n",
       "    <tr style=\"text-align: right;\">\n",
       "      <th></th>\n",
       "      <th>name</th>\n",
       "      <th>age</th>\n",
       "      <th>rating</th>\n",
       "      <th>period</th>\n",
       "    </tr>\n",
       "  </thead>\n",
       "  <tbody>\n",
       "    <tr>\n",
       "      <th>0</th>\n",
       "      <td>Tom</td>\n",
       "      <td>25</td>\n",
       "      <td>4.23</td>\n",
       "      <td>20</td>\n",
       "    </tr>\n",
       "    <tr>\n",
       "      <th>1</th>\n",
       "      <td>James</td>\n",
       "      <td>26</td>\n",
       "      <td>3.24</td>\n",
       "      <td>20</td>\n",
       "    </tr>\n",
       "    <tr>\n",
       "      <th>2</th>\n",
       "      <td>Ricky</td>\n",
       "      <td>25</td>\n",
       "      <td>3.98</td>\n",
       "      <td>20</td>\n",
       "    </tr>\n",
       "    <tr>\n",
       "      <th>3</th>\n",
       "      <td>Vin</td>\n",
       "      <td>23</td>\n",
       "      <td>2.56</td>\n",
       "      <td>20</td>\n",
       "    </tr>\n",
       "    <tr>\n",
       "      <th>4</th>\n",
       "      <td>Steve</td>\n",
       "      <td>30</td>\n",
       "      <td>3.20</td>\n",
       "      <td>30</td>\n",
       "    </tr>\n",
       "    <tr>\n",
       "      <th>5</th>\n",
       "      <td>Smith</td>\n",
       "      <td>29</td>\n",
       "      <td>4.60</td>\n",
       "      <td>20</td>\n",
       "    </tr>\n",
       "    <tr>\n",
       "      <th>6</th>\n",
       "      <td>Jack</td>\n",
       "      <td>23</td>\n",
       "      <td>3.80</td>\n",
       "      <td>20</td>\n",
       "    </tr>\n",
       "    <tr>\n",
       "      <th>7</th>\n",
       "      <td>Lee</td>\n",
       "      <td>34</td>\n",
       "      <td>3.78</td>\n",
       "      <td>30</td>\n",
       "    </tr>\n",
       "    <tr>\n",
       "      <th>8</th>\n",
       "      <td>David</td>\n",
       "      <td>40</td>\n",
       "      <td>2.98</td>\n",
       "      <td>40</td>\n",
       "    </tr>\n",
       "    <tr>\n",
       "      <th>9</th>\n",
       "      <td>Gasper</td>\n",
       "      <td>30</td>\n",
       "      <td>4.80</td>\n",
       "      <td>30</td>\n",
       "    </tr>\n",
       "    <tr>\n",
       "      <th>10</th>\n",
       "      <td>Betina</td>\n",
       "      <td>51</td>\n",
       "      <td>4.10</td>\n",
       "      <td>50</td>\n",
       "    </tr>\n",
       "    <tr>\n",
       "      <th>11</th>\n",
       "      <td>Andres</td>\n",
       "      <td>46</td>\n",
       "      <td>3.65</td>\n",
       "      <td>40</td>\n",
       "    </tr>\n",
       "  </tbody>\n",
       "</table>\n",
       "</div>"
      ],
      "text/plain": [
       "      name  age  rating  period\n",
       "0      Tom   25    4.23      20\n",
       "1    James   26    3.24      20\n",
       "2    Ricky   25    3.98      20\n",
       "3      Vin   23    2.56      20\n",
       "4    Steve   30    3.20      30\n",
       "5    Smith   29    4.60      20\n",
       "6     Jack   23    3.80      20\n",
       "7      Lee   34    3.78      30\n",
       "8    David   40    2.98      40\n",
       "9   Gasper   30    4.80      30\n",
       "10  Betina   51    4.10      50\n",
       "11  Andres   46    3.65      40"
      ]
     },
     "execution_count": 14,
     "metadata": {},
     "output_type": "execute_result"
    }
   ],
   "source": [
    "df"
   ]
  },
  {
   "cell_type": "code",
   "execution_count": 18,
   "id": "fd32c62e-5ada-4876-ab44-f7893036f6fc",
   "metadata": {},
   "outputs": [
    {
     "data": {
      "text/plain": [
       "0    20\n",
       "dtype: int64"
      ]
     },
     "execution_count": 18,
     "metadata": {},
     "output_type": "execute_result"
    }
   ],
   "source": [
    "df['period'].mode()"
   ]
  },
  {
   "cell_type": "code",
   "execution_count": 25,
   "id": "ad2f74c3-72f9-4cbd-8e1d-e508886c7af4",
   "metadata": {},
   "outputs": [
    {
     "name": "stdout",
     "output_type": "stream",
     "text": [
      "age       23\n",
      "period    20\n",
      "dtype: int64\n",
      "--------------------------------------------------\n",
      "age       51\n",
      "period    50\n",
      "dtype: int64\n"
     ]
    }
   ],
   "source": [
    "tgt_cols = ['age', 'period']\n",
    "\n",
    "print(df[tgt_cols].min())\n",
    "print('-'*50)\n",
    "print(df[tgt_cols].max())"
   ]
  },
  {
   "cell_type": "code",
   "execution_count": 26,
   "id": "59b275dc-af6c-4ee5-8e34-c0dcaeea2b1a",
   "metadata": {},
   "outputs": [
    {
     "name": "stdout",
     "output_type": "stream",
     "text": [
      "age       23\n",
      "period    20\n",
      "dtype: int64\n",
      "--------------------------------------------------\n",
      "age       51\n",
      "period    50\n",
      "dtype: int64\n"
     ]
    }
   ],
   "source": [
    "print(df[['age', 'period']].min())\n",
    "print('-'*50)\n",
    "print(df[['age', 'period']].max())"
   ]
  },
  {
   "cell_type": "code",
   "execution_count": 27,
   "id": "cee93391-b4e2-44b0-b270-7fc79cb25454",
   "metadata": {},
   "outputs": [
    {
     "data": {
      "text/plain": [
       "age        9.232682\n",
       "rating     0.661628\n",
       "period    10.298573\n",
       "dtype: float64"
      ]
     },
     "execution_count": 27,
     "metadata": {},
     "output_type": "execute_result"
    }
   ],
   "source": [
    "df.std()"
   ]
  },
  {
   "cell_type": "code",
   "execution_count": 28,
   "id": "74858f94-ae9d-4ba5-a075-91c93617207e",
   "metadata": {},
   "outputs": [
    {
     "data": {
      "text/html": [
       "<div>\n",
       "<style scoped>\n",
       "    .dataframe tbody tr th:only-of-type {\n",
       "        vertical-align: middle;\n",
       "    }\n",
       "\n",
       "    .dataframe tbody tr th {\n",
       "        vertical-align: top;\n",
       "    }\n",
       "\n",
       "    .dataframe thead th {\n",
       "        text-align: right;\n",
       "    }\n",
       "</style>\n",
       "<table border=\"1\" class=\"dataframe\">\n",
       "  <thead>\n",
       "    <tr style=\"text-align: right;\">\n",
       "      <th></th>\n",
       "      <th>age</th>\n",
       "      <th>rating</th>\n",
       "      <th>period</th>\n",
       "    </tr>\n",
       "  </thead>\n",
       "  <tbody>\n",
       "    <tr>\n",
       "      <th>count</th>\n",
       "      <td>12.000000</td>\n",
       "      <td>12.000000</td>\n",
       "      <td>12.000000</td>\n",
       "    </tr>\n",
       "    <tr>\n",
       "      <th>mean</th>\n",
       "      <td>31.833333</td>\n",
       "      <td>3.743333</td>\n",
       "      <td>28.333333</td>\n",
       "    </tr>\n",
       "    <tr>\n",
       "      <th>std</th>\n",
       "      <td>9.232682</td>\n",
       "      <td>0.661628</td>\n",
       "      <td>10.298573</td>\n",
       "    </tr>\n",
       "    <tr>\n",
       "      <th>min</th>\n",
       "      <td>23.000000</td>\n",
       "      <td>2.560000</td>\n",
       "      <td>20.000000</td>\n",
       "    </tr>\n",
       "    <tr>\n",
       "      <th>25%</th>\n",
       "      <td>25.000000</td>\n",
       "      <td>3.230000</td>\n",
       "      <td>20.000000</td>\n",
       "    </tr>\n",
       "    <tr>\n",
       "      <th>50%</th>\n",
       "      <td>29.500000</td>\n",
       "      <td>3.790000</td>\n",
       "      <td>25.000000</td>\n",
       "    </tr>\n",
       "    <tr>\n",
       "      <th>75%</th>\n",
       "      <td>35.500000</td>\n",
       "      <td>4.132500</td>\n",
       "      <td>32.500000</td>\n",
       "    </tr>\n",
       "    <tr>\n",
       "      <th>max</th>\n",
       "      <td>51.000000</td>\n",
       "      <td>4.800000</td>\n",
       "      <td>50.000000</td>\n",
       "    </tr>\n",
       "  </tbody>\n",
       "</table>\n",
       "</div>"
      ],
      "text/plain": [
       "             age     rating     period\n",
       "count  12.000000  12.000000  12.000000\n",
       "mean   31.833333   3.743333  28.333333\n",
       "std     9.232682   0.661628  10.298573\n",
       "min    23.000000   2.560000  20.000000\n",
       "25%    25.000000   3.230000  20.000000\n",
       "50%    29.500000   3.790000  25.000000\n",
       "75%    35.500000   4.132500  32.500000\n",
       "max    51.000000   4.800000  50.000000"
      ]
     },
     "execution_count": 28,
     "metadata": {},
     "output_type": "execute_result"
    }
   ],
   "source": [
    "df.describe()"
   ]
  },
  {
   "cell_type": "code",
   "execution_count": 48,
   "id": "974f7bc0-535a-4e69-8be3-4834d3e92396",
   "metadata": {},
   "outputs": [],
   "source": [
    "data = np.linspace(0, 100, 50)\n",
    "mean = np.mean(data)\n",
    "std = np.std(data)\n",
    "# standardize\n",
    "z = (data - mean) / std"
   ]
  },
  {
   "cell_type": "code",
   "execution_count": 51,
   "id": "96a043eb-978f-4128-8c22-6ca16600afba",
   "metadata": {},
   "outputs": [
    {
     "name": "stdout",
     "output_type": "stream",
     "text": [
      "z is [-1.69774938 -1.62845348 -1.55915759 -1.4898617  -1.4205658  -1.35126991\n",
      " -1.28197402 -1.21267813 -1.14338223 -1.07408634 -1.00479045 -0.93549455\n",
      " -0.86619866 -0.79690277 -0.72760688 -0.65831098 -0.58901509 -0.5197192\n",
      " -0.4504233  -0.38112741 -0.31183152 -0.24253563 -0.17323973 -0.10394384\n",
      " -0.03464795  0.03464795  0.10394384  0.17323973  0.24253563  0.31183152\n",
      "  0.38112741  0.4504233   0.5197192   0.58901509  0.65831098  0.72760688\n",
      "  0.79690277  0.86619866  0.93549455  1.00479045  1.07408634  1.14338223\n",
      "  1.21267813  1.28197402  1.35126991  1.4205658   1.4898617   1.55915759\n",
      "  1.62845348  1.69774938]\n",
      "----------------------------------------------------------------------------------------------------\n",
      "z_mean is 0.000\n",
      "----------------------------------------------------------------------------------------------------\n",
      "z_std is 1.0\n"
     ]
    }
   ],
   "source": [
    "print(f'z is {z}')\n",
    "print('-'*100)\n",
    "\n",
    "z_mean = np.mean(z)\n",
    "print('z_mean is {:.3f}'.format(z_mean))\n",
    "print('-'*100)\n",
    "\n",
    "z_std = np.std(z)\n",
    "print(f'z_std is {z_std}')\n"
   ]
  },
  {
   "cell_type": "code",
   "execution_count": 55,
   "id": "dbb5e740-02f3-4c61-b362-a68000d5c810",
   "metadata": {},
   "outputs": [
    {
     "data": {
      "text/plain": [
       "303.2"
      ]
     },
     "execution_count": 55,
     "metadata": {},
     "output_type": "execute_result"
    }
   ],
   "source": [
    "# arithmetic mean\n",
    "array = [295, 300, 300, 310, 311]\n",
    "np.mean(array)"
   ]
  },
  {
   "cell_type": "code",
   "execution_count": 56,
   "id": "ab77e721-18fb-402f-83de-67592a7a59b9",
   "metadata": {},
   "outputs": [
    {
     "data": {
      "text/plain": [
       "1.1450956868476592"
      ]
     },
     "execution_count": 56,
     "metadata": {},
     "output_type": "execute_result"
    }
   ],
   "source": [
    "# geometric mean\n",
    "from scipy import stats\n",
    "salary_growth = [1.05, 1.1, 1.3]\n",
    "salary_growth_mean = stats.gmean(salary_growth)\n",
    "salary_growth_mean"
   ]
  },
  {
   "cell_type": "code",
   "execution_count": 58,
   "id": "6e3b2735-6f4f-4965-9f65-027bcfef79e4",
   "metadata": {},
   "outputs": [
    {
     "data": {
      "text/plain": [
       "30.0"
      ]
     },
     "execution_count": 58,
     "metadata": {},
     "output_type": "execute_result"
    }
   ],
   "source": [
    "# harmonic mean\n",
    "v = [20, 60]\n",
    "v_mean = stats.hmean(v)\n",
    "v_mean"
   ]
  },
  {
   "cell_type": "code",
   "execution_count": 70,
   "id": "f266c5f8-67e1-4d50-acf6-e1f1e3a37fd3",
   "metadata": {},
   "outputs": [
    {
     "name": "stdout",
     "output_type": "stream",
     "text": [
      "0.0\n"
     ]
    }
   ],
   "source": [
    "a = np.array([295, 300, 300, 310, 311])\n",
    "a_mean = np.mean(a)\n",
    "deviation = a - a_mean\n",
    "deviation_sum = deviation.sum()\n",
    "print(round(deviation_sum, ndigits=3))"
   ]
  },
  {
   "cell_type": "code",
   "execution_count": 67,
   "id": "7f319d0a-3009-4173-8247-84924b7f0c26",
   "metadata": {},
   "outputs": [
    {
     "data": {
      "text/plain": [
       "numpy.float64"
      ]
     },
     "execution_count": 67,
     "metadata": {},
     "output_type": "execute_result"
    }
   ],
   "source": [
    "type(deviation_sum)"
   ]
  },
  {
   "cell_type": "code",
   "execution_count": null,
   "id": "e44eb08f-8f13-4aed-a746-c610245e4335",
   "metadata": {},
   "outputs": [],
   "source": []
  }
 ],
 "metadata": {
  "kernelspec": {
   "display_name": "Python 3",
   "language": "python",
   "name": "python3"
  },
  "language_info": {
   "codemirror_mode": {
    "name": "ipython",
    "version": 3
   },
   "file_extension": ".py",
   "mimetype": "text/x-python",
   "name": "python",
   "nbconvert_exporter": "python",
   "pygments_lexer": "ipython3",
   "version": "3.8.8"
  }
 },
 "nbformat": 4,
 "nbformat_minor": 5
}
